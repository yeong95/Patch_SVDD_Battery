{
 "cells": [
  {
   "cell_type": "code",
   "execution_count": 1,
   "id": "c28ea645",
   "metadata": {},
   "outputs": [
    {
     "name": "stderr",
     "output_type": "stream",
     "text": [
      "/home/kaier/anaconda3/envs/user01/lib/python3.8/site-packages/tqdm/auto.py:22: TqdmWarning: IProgress not found. Please update jupyter and ipywidgets. See https://ipywidgets.readthedocs.io/en/stable/user_install.html\n",
      "  from .autonotebook import tqdm as notebook_tqdm\n"
     ]
    }
   ],
   "source": [
    "import pandas as pd\n",
    "import numpy as np \n",
    "from numba import jit\n",
    "import os \n",
    "\n",
    "from efficientnet_pytorch import EfficientNet\n",
    "import codes.mvtecad as mvtec\n",
    "import codes.battery as battery\n",
    "from codes.utils import PatchDataset_NCHW, NHWC2NCHW, distribute_scores, distribute_score, save_pickle"
   ]
  },
  {
   "cell_type": "code",
   "execution_count": 24,
   "id": "fe04e69a-1c81-4bdb-b3c1-7b40073e2ba8",
   "metadata": {},
   "outputs": [],
   "source": [
    "mode = 'train'\n",
    "normal_class = '코팅부 코팅불량'\n",
    "fpattern = os.path.join('/home/kaier/KAIER_2022/Battery_data/무지부_코팅부_테이프제외/코팅부', f'{mode}/{normal_class}/*.bmp')"
   ]
  },
  {
   "cell_type": "code",
   "execution_count": 14,
   "id": "5e0c55f6-5023-4f1c-9bfe-7631da57beb3",
   "metadata": {},
   "outputs": [
    {
     "data": {
      "text/plain": [
       "'/home/kaier/KAIER_2022/Battery_data/무지부_코팅부/코팅부/train/코팅부 코팅불량/*.bmp'"
      ]
     },
     "execution_count": 14,
     "metadata": {},
     "output_type": "execute_result"
    }
   ],
   "source": [
    "fpattern"
   ]
  },
  {
   "cell_type": "code",
   "execution_count": 12,
   "id": "9e406184-9272-4abf-91af-f4abffef3851",
   "metadata": {},
   "outputs": [
    {
     "data": {
      "text/plain": [
       "'/home/kaier/KAIER_2022/Member_folder/Yeongkyu/Final_code'"
      ]
     },
     "execution_count": 12,
     "metadata": {},
     "output_type": "execute_result"
    }
   ],
   "source": [
    "os.getcwd()"
   ]
  },
  {
   "cell_type": "code",
   "execution_count": 25,
   "id": "21d93758-ec82-41ba-a53a-f9e324690bc6",
   "metadata": {},
   "outputs": [],
   "source": [
    "from glob import glob\n",
    "fpaths = sorted(glob(fpattern))"
   ]
  },
  {
   "cell_type": "code",
   "execution_count": 26,
   "id": "40c9d8a0-1a11-436a-a262-e2cda876f600",
   "metadata": {},
   "outputs": [
    {
     "data": {
      "text/plain": [
       "['/home/kaier/KAIER_2022/Battery_data/무지부_코팅부_테이프제외/코팅부/train/코팅부 코팅불량/1_116_2.bmp',\n",
       " '/home/kaier/KAIER_2022/Battery_data/무지부_코팅부_테이프제외/코팅부/train/코팅부 코팅불량/1_116_3.bmp',\n",
       " '/home/kaier/KAIER_2022/Battery_data/무지부_코팅부_테이프제외/코팅부/train/코팅부 코팅불량/1_12359_1.bmp',\n",
       " '/home/kaier/KAIER_2022/Battery_data/무지부_코팅부_테이프제외/코팅부/train/코팅부 코팅불량/1_12376_3.bmp',\n",
       " '/home/kaier/KAIER_2022/Battery_data/무지부_코팅부_테이프제외/코팅부/train/코팅부 코팅불량/1_12393_2.bmp',\n",
       " '/home/kaier/KAIER_2022/Battery_data/무지부_코팅부_테이프제외/코팅부/train/코팅부 코팅불량/1_12393_3.bmp',\n",
       " '/home/kaier/KAIER_2022/Battery_data/무지부_코팅부_테이프제외/코팅부/train/코팅부 코팅불량/1_12_2.bmp',\n",
       " '/home/kaier/KAIER_2022/Battery_data/무지부_코팅부_테이프제외/코팅부/train/코팅부 코팅불량/1_150_3.bmp',\n",
       " '/home/kaier/KAIER_2022/Battery_data/무지부_코팅부_테이프제외/코팅부/train/코팅부 코팅불량/1_167_2.bmp',\n",
       " '/home/kaier/KAIER_2022/Battery_data/무지부_코팅부_테이프제외/코팅부/train/코팅부 코팅불량/1_184_2.bmp',\n",
       " '/home/kaier/KAIER_2022/Battery_data/무지부_코팅부_테이프제외/코팅부/train/코팅부 코팅불량/1_184_3.bmp',\n",
       " '/home/kaier/KAIER_2022/Battery_data/무지부_코팅부_테이프제외/코팅부/train/코팅부 코팅불량/1_201_2.bmp',\n",
       " '/home/kaier/KAIER_2022/Battery_data/무지부_코팅부_테이프제외/코팅부/train/코팅부 코팅불량/1_219_1.bmp',\n",
       " '/home/kaier/KAIER_2022/Battery_data/무지부_코팅부_테이프제외/코팅부/train/코팅부 코팅불량/1_219_2.bmp',\n",
       " '/home/kaier/KAIER_2022/Battery_data/무지부_코팅부_테이프제외/코팅부/train/코팅부 코팅불량/1_236_2.bmp',\n",
       " '/home/kaier/KAIER_2022/Battery_data/무지부_코팅부_테이프제외/코팅부/train/코팅부 코팅불량/1_236_3.bmp',\n",
       " '/home/kaier/KAIER_2022/Battery_data/무지부_코팅부_테이프제외/코팅부/train/코팅부 코팅불량/1_253_1.bmp',\n",
       " '/home/kaier/KAIER_2022/Battery_data/무지부_코팅부_테이프제외/코팅부/train/코팅부 코팅불량/1_287_1.bmp',\n",
       " '/home/kaier/KAIER_2022/Battery_data/무지부_코팅부_테이프제외/코팅부/train/코팅부 코팅불량/1_305_1.bmp',\n",
       " '/home/kaier/KAIER_2022/Battery_data/무지부_코팅부_테이프제외/코팅부/train/코팅부 코팅불량/1_30_2.bmp',\n",
       " '/home/kaier/KAIER_2022/Battery_data/무지부_코팅부_테이프제외/코팅부/train/코팅부 코팅불량/1_339_1.bmp',\n",
       " '/home/kaier/KAIER_2022/Battery_data/무지부_코팅부_테이프제외/코팅부/train/코팅부 코팅불량/1_356_2.bmp',\n",
       " '/home/kaier/KAIER_2022/Battery_data/무지부_코팅부_테이프제외/코팅부/train/코팅부 코팅불량/1_373_1.bmp',\n",
       " '/home/kaier/KAIER_2022/Battery_data/무지부_코팅부_테이프제외/코팅부/train/코팅부 코팅불량/1_390_1.bmp',\n",
       " '/home/kaier/KAIER_2022/Battery_data/무지부_코팅부_테이프제외/코팅부/train/코팅부 코팅불량/1_408_1.bmp',\n",
       " '/home/kaier/KAIER_2022/Battery_data/무지부_코팅부_테이프제외/코팅부/train/코팅부 코팅불량/1_425_1.bmp',\n",
       " '/home/kaier/KAIER_2022/Battery_data/무지부_코팅부_테이프제외/코팅부/train/코팅부 코팅불량/1_442_1.bmp',\n",
       " '/home/kaier/KAIER_2022/Battery_data/무지부_코팅부_테이프제외/코팅부/train/코팅부 코팅불량/1_47_1.bmp',\n",
       " '/home/kaier/KAIER_2022/Battery_data/무지부_코팅부_테이프제외/코팅부/train/코팅부 코팅불량/1_64_2.bmp',\n",
       " '/home/kaier/KAIER_2022/Battery_data/무지부_코팅부_테이프제외/코팅부/train/코팅부 코팅불량/1_81_2.bmp',\n",
       " '/home/kaier/KAIER_2022/Battery_data/무지부_코팅부_테이프제외/코팅부/train/코팅부 코팅불량/1_98_2.bmp',\n",
       " '/home/kaier/KAIER_2022/Battery_data/무지부_코팅부_테이프제외/코팅부/train/코팅부 코팅불량/1_98_3.bmp',\n",
       " '/home/kaier/KAIER_2022/Battery_data/무지부_코팅부_테이프제외/코팅부/train/코팅부 코팅불량/2_10319_1.bmp',\n",
       " '/home/kaier/KAIER_2022/Battery_data/무지부_코팅부_테이프제외/코팅부/train/코팅부 코팅불량/2_1944_1.bmp',\n",
       " '/home/kaier/KAIER_2022/Battery_data/무지부_코팅부_테이프제외/코팅부/train/코팅부 코팅불량/2_1944_6.bmp',\n",
       " '/home/kaier/KAIER_2022/Battery_data/무지부_코팅부_테이프제외/코팅부/train/코팅부 코팅불량/2_2056_1.bmp',\n",
       " '/home/kaier/KAIER_2022/Battery_data/무지부_코팅부_테이프제외/코팅부/train/코팅부 코팅불량/2_2337_1.bmp',\n",
       " '/home/kaier/KAIER_2022/Battery_data/무지부_코팅부_테이프제외/코팅부/train/코팅부 코팅불량/2_2337_3.bmp',\n",
       " '/home/kaier/KAIER_2022/Battery_data/무지부_코팅부_테이프제외/코팅부/train/코팅부 코팅불량/2_2337_4.bmp',\n",
       " '/home/kaier/KAIER_2022/Battery_data/무지부_코팅부_테이프제외/코팅부/train/코팅부 코팅불량/2_2338_1.bmp',\n",
       " '/home/kaier/KAIER_2022/Battery_data/무지부_코팅부_테이프제외/코팅부/train/코팅부 코팅불량/2_2903_1.bmp',\n",
       " '/home/kaier/KAIER_2022/Battery_data/무지부_코팅부_테이프제외/코팅부/train/코팅부 코팅불량/2_2904_1.bmp',\n",
       " '/home/kaier/KAIER_2022/Battery_data/무지부_코팅부_테이프제외/코팅부/train/코팅부 코팅불량/2_3805_1.bmp',\n",
       " '/home/kaier/KAIER_2022/Battery_data/무지부_코팅부_테이프제외/코팅부/train/코팅부 코팅불량/2_4047_1.bmp',\n",
       " '/home/kaier/KAIER_2022/Battery_data/무지부_코팅부_테이프제외/코팅부/train/코팅부 코팅불량/2_6016_1.bmp',\n",
       " '/home/kaier/KAIER_2022/Battery_data/무지부_코팅부_테이프제외/코팅부/train/코팅부 코팅불량/2_7026_1.bmp',\n",
       " '/home/kaier/KAIER_2022/Battery_data/무지부_코팅부_테이프제외/코팅부/train/코팅부 코팅불량/2_9068_1.bmp',\n",
       " '/home/kaier/KAIER_2022/Battery_data/무지부_코팅부_테이프제외/코팅부/train/코팅부 코팅불량/3_1588_1.bmp',\n",
       " '/home/kaier/KAIER_2022/Battery_data/무지부_코팅부_테이프제외/코팅부/train/코팅부 코팅불량/3_1588_3.bmp',\n",
       " '/home/kaier/KAIER_2022/Battery_data/무지부_코팅부_테이프제외/코팅부/train/코팅부 코팅불량/3_3315_1.bmp',\n",
       " '/home/kaier/KAIER_2022/Battery_data/무지부_코팅부_테이프제외/코팅부/train/코팅부 코팅불량/3_3315_3.bmp',\n",
       " '/home/kaier/KAIER_2022/Battery_data/무지부_코팅부_테이프제외/코팅부/train/코팅부 코팅불량/6_1141_2.bmp',\n",
       " '/home/kaier/KAIER_2022/Battery_data/무지부_코팅부_테이프제외/코팅부/train/코팅부 코팅불량/6_1142_1.bmp',\n",
       " '/home/kaier/KAIER_2022/Battery_data/무지부_코팅부_테이프제외/코팅부/train/코팅부 코팅불량/6_1142_4.bmp',\n",
       " '/home/kaier/KAIER_2022/Battery_data/무지부_코팅부_테이프제외/코팅부/train/코팅부 코팅불량/6_1142_7.bmp',\n",
       " '/home/kaier/KAIER_2022/Battery_data/무지부_코팅부_테이프제외/코팅부/train/코팅부 코팅불량/6_1142_8.bmp',\n",
       " '/home/kaier/KAIER_2022/Battery_data/무지부_코팅부_테이프제외/코팅부/train/코팅부 코팅불량/6_1143_1.bmp',\n",
       " '/home/kaier/KAIER_2022/Battery_data/무지부_코팅부_테이프제외/코팅부/train/코팅부 코팅불량/6_1143_4.bmp',\n",
       " '/home/kaier/KAIER_2022/Battery_data/무지부_코팅부_테이프제외/코팅부/train/코팅부 코팅불량/6_1143_6.bmp',\n",
       " '/home/kaier/KAIER_2022/Battery_data/무지부_코팅부_테이프제외/코팅부/train/코팅부 코팅불량/6_1145_1.bmp',\n",
       " '/home/kaier/KAIER_2022/Battery_data/무지부_코팅부_테이프제외/코팅부/train/코팅부 코팅불량/6_1146_1.bmp',\n",
       " '/home/kaier/KAIER_2022/Battery_data/무지부_코팅부_테이프제외/코팅부/train/코팅부 코팅불량/6_1147_1.bmp',\n",
       " '/home/kaier/KAIER_2022/Battery_data/무지부_코팅부_테이프제외/코팅부/train/코팅부 코팅불량/6_1147_4.bmp',\n",
       " '/home/kaier/KAIER_2022/Battery_data/무지부_코팅부_테이프제외/코팅부/train/코팅부 코팅불량/6_1147_8.bmp',\n",
       " '/home/kaier/KAIER_2022/Battery_data/무지부_코팅부_테이프제외/코팅부/train/코팅부 코팅불량/6_1148_1.bmp',\n",
       " '/home/kaier/KAIER_2022/Battery_data/무지부_코팅부_테이프제외/코팅부/train/코팅부 코팅불량/6_1148_5.bmp',\n",
       " '/home/kaier/KAIER_2022/Battery_data/무지부_코팅부_테이프제외/코팅부/train/코팅부 코팅불량/6_1149_1.bmp',\n",
       " '/home/kaier/KAIER_2022/Battery_data/무지부_코팅부_테이프제외/코팅부/train/코팅부 코팅불량/6_1149_3.bmp',\n",
       " '/home/kaier/KAIER_2022/Battery_data/무지부_코팅부_테이프제외/코팅부/train/코팅부 코팅불량/6_1149_4.bmp',\n",
       " '/home/kaier/KAIER_2022/Battery_data/무지부_코팅부_테이프제외/코팅부/train/코팅부 코팅불량/6_9192_1.bmp']"
      ]
     },
     "execution_count": 26,
     "metadata": {},
     "output_type": "execute_result"
    }
   ],
   "source": [
    "fpaths"
   ]
  },
  {
   "cell_type": "code",
   "execution_count": 13,
   "id": "2121a6eb",
   "metadata": {},
   "outputs": [],
   "source": [
    "load_path = './save/무지부_코팅부/3_13_efficientnet_b6'\n",
    "save_path = './save/무지부_코팅부/4_7_efficientnet_b6'"
   ]
  },
  {
   "cell_type": "code",
   "execution_count": 3,
   "id": "8360f0ad",
   "metadata": {},
   "outputs": [],
   "source": [
    "for i in range(1, 7):\n",
    "    globals()[f'embs_64_tr_{i}'.format(i)] = np.load(f\"{load_path}/64_embs_tr_{i}.npy\")\n",
    "    globals()[f'embs_32_tr_{i}'.format(i)] = np.load(f\"{load_path}/32_embs_tr_{i}.npy\")"
   ]
  },
  {
   "cell_type": "code",
   "execution_count": 22,
   "id": "8137c28b",
   "metadata": {},
   "outputs": [],
   "source": [
    "@jit\n",
    "def train_distribution(cov, emb, num_range, I):\n",
    "    for i in range(num_range):\n",
    "        cov[i, :, :] = np.cov(emb[:, i, :], rowvar = False) + 0.01 * I    # np.cov(emb[:, i, :]): batch, 344)에 대한 covariance 구함 -> (344,344)\n",
    "    return cov\n",
    "\n",
    "@jit\n",
    "def mahal(u, v, VI):\n",
    "    VI = np.atleast_2d(VI)\n",
    "    delta = u - v\n",
    "    p1 = np.dot(delta, VI)\n",
    "    m = np.dot(p1, delta)\n",
    "    return np.sqrt(m)\n",
    "\n",
    "\n",
    "@jit\n",
    "def test_inference(mean, cov, num_range, emb):\n",
    "\n",
    "    dist_list = []\n",
    "\n",
    "    for i in range(num_range):\n",
    "        partial_mean = mean[i, :]\n",
    "        conv_inv = np.linalg.inv(cov[i, :, :])\n",
    "        dist = [mahal(sample[i, :], partial_mean, conv_inv) for sample in emb]\n",
    "        dist_list.append(dist)\n",
    "\n",
    "    return dist_list"
   ]
  },
  {
   "cell_type": "code",
   "execution_count": 14,
   "id": "bc74518b",
   "metadata": {},
   "outputs": [],
   "source": [
    "def infer(embs_tr, embs_te, K, S):\n",
    "        \n",
    "    B_train, H_train, W_train, C_train = embs_tr.shape   # embs_tr: [batch, 9, 9, 344]\n",
    "    emb_train = embs_tr.reshape((B_train, H_train * W_train, C_train))  \n",
    "\n",
    "    del embs_tr\n",
    "\n",
    "    mean_train = np.mean(emb_train, axis = 0)   # mean_train: (81, 344)\n",
    "    cov_train = np.zeros((H_train * W_train, C_train, C_train))   # cov_train: (81, 344, 344)\n",
    "\n",
    "    I = np.identity(C_train) # I: (344, 344)\n",
    "\n",
    "    # covariance 계산을 numba로 처리.\n",
    "    cov_train = train_distribution(cov_train, emb_train, H_train*W_train, I)\n",
    "    \n",
    "\n",
    "    del emb_train  \n",
    "    del I\n",
    "\n",
    "#     mem_report(\"After Train distribution\") # memory usage checking.\n",
    "\n",
    "    B_test, H_test, W_test, C_test = embs_te.shape \n",
    "    emb_test = embs_te.reshape((B_test, H_test * W_test, C_test))   # (batch, 9*9, 344)\n",
    "\n",
    "    del embs_te\n",
    "\n",
    "    #dist_list = []\n",
    "\n",
    "    cov_train = cov_train.astype('float32')\n",
    "\n",
    "    \n",
    "#     train_dist_list = test_inference\n",
    "    # Test inference를 대체\n",
    "    dist_list = test_inference(mean_train, cov_train, H_test*W_test, emb_test)\n",
    "\n",
    "    dist_list = np.array(dist_list).transpose(1, 0).reshape(B_test, H_test, W_test)   # (batch, 9, 9)\n",
    "    \n",
    "    return dist_list"
   ]
  },
  {
   "cell_type": "code",
   "execution_count": 15,
   "id": "ba828e09",
   "metadata": {},
   "outputs": [],
   "source": [
    "def assess_anomaly_maps(anomaly_maps, category):\n",
    "    print(\"Anomaly Map shape: \", anomaly_maps.shape)\n",
    "    \n",
    "#     anomaly_kl_scores = np.zeros(anomaly_maps.shape[0])\n",
    "    \n",
    "#     for i in range(anomaly_maps.shape[0]):\n",
    "#         anomaly_kl_scores[i] = scipy.stats.entropy(normal_map.flatten(), anomaly_maps[i].flatten())\n",
    "     \n",
    "    Det_AUROC = dict()\n",
    "    anomaly_scores = anomaly_maps.max(axis=-1).max(axis=-1)\n",
    "    np.save(f\"{save_path}/train_{category}_anomaly_scores\", anomaly_scores)\n",
    "    final_det_auroc = 0 \n",
    "    \n",
    "    return final_det_auroc"
   ]
  },
  {
   "cell_type": "code",
   "execution_count": 18,
   "id": "7ca1fe09",
   "metadata": {},
   "outputs": [],
   "source": [
    "def inference_procedure(x_tr_64, x_tr_32, x_te_64, x_te_32,  idx_=1):\n",
    "    \n",
    "    maps_64 = infer(x_tr_64, x_te_64, K=64, S=24)\n",
    "    maps_64 = distribute_scores(maps_64, (256, 256), K=64, S=24)\n",
    "    #det_64 = assess_anomaly_maps(maps_64, \"det_64\")\n",
    "    maps_32 = infer(x_tr_32, x_te_32, K=32, S=14)\n",
    "    maps_32 = distribute_scores(maps_32, (256, 256), K=32, S=14) \n",
    "    #det_32 = assess_anomaly_maps(maps_32, \"det_32\")\n",
    "\n",
    "    maps_mult = maps_64 * maps_32\n",
    "    \n",
    "    det_mult = assess_anomaly_maps(maps_mult, f\"model_{idx_}\")\n",
    "    \n",
    "    return det_mult"
   ]
  },
  {
   "cell_type": "code",
   "execution_count": 4,
   "id": "4d5f73bd",
   "metadata": {},
   "outputs": [
    {
     "data": {
      "text/plain": [
       "(9508, 9, 9, 344)"
      ]
     },
     "execution_count": 4,
     "metadata": {},
     "output_type": "execute_result"
    }
   ],
   "source": [
    "embs_64_tr_1.shape"
   ]
  },
  {
   "cell_type": "code",
   "execution_count": 8,
   "id": "b05739d5",
   "metadata": {},
   "outputs": [
    {
     "data": {
      "text/plain": [
       "(12400, 9, 9, 344)"
      ]
     },
     "execution_count": 8,
     "metadata": {},
     "output_type": "execute_result"
    }
   ],
   "source": [
    "embs_64_te = np.concatenate((embs_64_tr_1, embs_64_tr_2, embs_64_tr_3, embs_64_tr_4, embs_64_tr_5, embs_64_tr_6), axis=0)\n",
    "embs_64_te.shape"
   ]
  },
  {
   "cell_type": "code",
   "execution_count": 9,
   "id": "b52b37d1",
   "metadata": {},
   "outputs": [
    {
     "data": {
      "text/plain": [
       "(12400, 17, 17, 344)"
      ]
     },
     "execution_count": 9,
     "metadata": {},
     "output_type": "execute_result"
    }
   ],
   "source": [
    "embs_32_te = np.concatenate((embs_32_tr_1, embs_32_tr_2, embs_32_tr_3, embs_32_tr_4, embs_32_tr_5, embs_32_tr_6), axis=0)\n",
    "embs_32_te.shape"
   ]
  },
  {
   "cell_type": "code",
   "execution_count": 23,
   "id": "6e9abec9",
   "metadata": {
    "scrolled": true
   },
   "outputs": [
    {
     "name": "stdout",
     "output_type": "stream",
     "text": [
      "Anomaly Map shape:  (12400, 256, 256)\n"
     ]
    }
   ],
   "source": [
    "tmp = inference_procedure(embs_64_tr_1, embs_32_tr_1, embs_64_te, embs_32_te, idx_=1)"
   ]
  },
  {
   "cell_type": "code",
   "execution_count": 24,
   "id": "e3073ffe",
   "metadata": {},
   "outputs": [
    {
     "name": "stdout",
     "output_type": "stream",
     "text": [
      "Anomaly Map shape:  (12400, 256, 256)\n"
     ]
    }
   ],
   "source": [
    "tmp = inference_procedure(embs_64_tr_2, embs_32_tr_2, embs_64_te, embs_32_te, idx_=2)"
   ]
  },
  {
   "cell_type": "code",
   "execution_count": 25,
   "id": "57402fe8",
   "metadata": {},
   "outputs": [
    {
     "name": "stdout",
     "output_type": "stream",
     "text": [
      "Anomaly Map shape:  (12400, 256, 256)\n"
     ]
    }
   ],
   "source": [
    "tmp = inference_procedure(embs_64_tr_3, embs_32_tr_3, embs_64_te, embs_32_te, idx_=3)"
   ]
  },
  {
   "cell_type": "code",
   "execution_count": 26,
   "id": "e69a29e0",
   "metadata": {},
   "outputs": [
    {
     "name": "stdout",
     "output_type": "stream",
     "text": [
      "Anomaly Map shape:  (12400, 256, 256)\n"
     ]
    }
   ],
   "source": [
    "tmp = inference_procedure(embs_64_tr_4, embs_32_tr_4, embs_64_te, embs_32_te, idx_=4)"
   ]
  },
  {
   "cell_type": "code",
   "execution_count": 27,
   "id": "f40d6130",
   "metadata": {},
   "outputs": [
    {
     "name": "stdout",
     "output_type": "stream",
     "text": [
      "Anomaly Map shape:  (12400, 256, 256)\n"
     ]
    }
   ],
   "source": [
    "tmp = inference_procedure(embs_64_tr_5, embs_32_tr_5, embs_64_te, embs_32_te, idx_=5)"
   ]
  },
  {
   "cell_type": "code",
   "execution_count": 28,
   "id": "d6d7da07",
   "metadata": {},
   "outputs": [
    {
     "name": "stdout",
     "output_type": "stream",
     "text": [
      "Anomaly Map shape:  (12400, 256, 256)\n"
     ]
    }
   ],
   "source": [
    "tmp = inference_procedure(embs_64_tr_6, embs_32_tr_6, embs_64_te, embs_32_te, idx_=6)"
   ]
  }
 ],
 "metadata": {
  "kernelspec": {
   "display_name": "user01",
   "language": "python",
   "name": "user01"
  },
  "language_info": {
   "codemirror_mode": {
    "name": "ipython",
    "version": 3
   },
   "file_extension": ".py",
   "mimetype": "text/x-python",
   "name": "python",
   "nbconvert_exporter": "python",
   "pygments_lexer": "ipython3",
   "version": "3.8.13"
  }
 },
 "nbformat": 4,
 "nbformat_minor": 5
}
