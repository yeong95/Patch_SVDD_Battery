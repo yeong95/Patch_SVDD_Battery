{
 "cells": [
  {
   "cell_type": "markdown",
   "metadata": {},
   "source": [
    "## Anomaly Score 받아오기"
   ]
  },
  {
   "cell_type": "code",
   "execution_count": 1,
   "metadata": {},
   "outputs": [],
   "source": [
    "import shutil"
   ]
  },
  {
   "cell_type": "code",
   "execution_count": 2,
   "metadata": {},
   "outputs": [],
   "source": [
    "# argument\n",
    "dataset_type = 'one'"
   ]
  },
  {
   "cell_type": "code",
   "execution_count": 3,
   "metadata": {},
   "outputs": [
    {
     "name": "stdout",
     "output_type": "stream",
     "text": [
      "361\n"
     ]
    }
   ],
   "source": [
    "import numpy as np\n",
    "import pandas as pd\n",
    "\n",
    "ano_score = np.load(f'save/{dataset_type}_class/3_13_efficientnet_b6/det_mult_anomaly_scores.npy')\n",
    "print(len(ano_score))"
   ]
  },
  {
   "cell_type": "markdown",
   "metadata": {},
   "source": [
    "#"
   ]
  },
  {
   "cell_type": "markdown",
   "metadata": {},
   "source": [
    "## Label 값 받아오기"
   ]
  },
  {
   "cell_type": "code",
   "execution_count": 4,
   "metadata": {},
   "outputs": [],
   "source": [
    "DATASET_PATH = f'/tf/KAIER_2022/Battery_data/무지부_코팅부/무지부'\n",
    "\n",
    "from glob import glob\n",
    "import os\n",
    "def get_label():\n",
    "    mode = 'test'\n",
    "    \n",
    "    if dataset_type == 'multi':\n",
    "        normal_names = ['코팅부 경계부 불량', '무지부 줄무늬', '코팅부 접힘', '코팅부 미코팅', '코팅부 줄무늬', '코팅부 테이프', \\\n",
    "                     '코팅부 기재연결부', '무지부 기재연결부', '코팅부 코팅불량']\n",
    "        abnormal_names = ['코팅부 버블', '코팅부 흑점', '무지부 주름', '코팅부 찍힘', '코팅부 백점', '코팅부 라벨지']\n",
    "    elif dataset_type == 'one':\n",
    "        normal_names = ['무지부 줄무늬']\n",
    "        abnormal_names = ['무지부 주름']\n",
    "\n",
    "#     normal_paths = []\n",
    "#     for name in normal_names:\n",
    "#         fpattern = os.path.join(DATASET_PATH, f'{mode}/{name}/*.bmp')\n",
    "#         fpaths = sorted(glob(fpattern))\n",
    "# #         print(len(fpaths))\n",
    "#         normal_paths += fpaths\n",
    "    \n",
    "#     abnormal_paths = []\n",
    "#     for name in abnormal_names:\n",
    "#         fpattern = os.path.join(DATASET_PATH, f'{mode}/{name}/*.bmp')\n",
    "#         fpaths = sorted(glob(fpattern))\n",
    "# #         print(len(fpaths))\n",
    "#         abnormal_paths += fpaths\n",
    "\n",
    "    fpattern = os.path.join(DATASET_PATH, f'{mode}/*/*.bmp')\n",
    "    fpaths = sorted(glob(fpattern))\n",
    "    \n",
    "    # get only label name in data path \n",
    "    def split(x):\n",
    "        return x.split('/')[-2]    \n",
    "\n",
    "    test_class_list = list(map(split, fpaths))\n",
    "    \n",
    "    def change_name_to_label(x):\n",
    "        if x in normal_names:\n",
    "            return 0\n",
    "        else:\n",
    "            return 1\n",
    "\n",
    "    test_label_list = list(map(change_name_to_label, test_class_list))\n",
    "\n",
    "    return test_label_list, test_class_list, fpaths"
   ]
  },
  {
   "cell_type": "code",
   "execution_count": 52,
   "metadata": {},
   "outputs": [],
   "source": [
    "label, classes, paths = get_label()\n",
    "# print(label)"
   ]
  },
  {
   "cell_type": "code",
   "execution_count": 53,
   "metadata": {},
   "outputs": [],
   "source": [
    "new_idx = np.where(np.array(label)==0)[0][:12]\n",
    "label = np.array(label)\n",
    "label = label[:new_idx[-1]+1]\n",
    "ano_score = ano_score[:new_idx[-1]+1]"
   ]
  },
  {
   "cell_type": "code",
   "execution_count": 54,
   "metadata": {},
   "outputs": [
    {
     "data": {
      "text/plain": [
       "24"
      ]
     },
     "execution_count": 54,
     "metadata": {},
     "output_type": "execute_result"
    }
   ],
   "source": [
    "len(ano_score)"
   ]
  },
  {
   "cell_type": "code",
   "execution_count": 47,
   "metadata": {},
   "outputs": [
    {
     "data": {
      "text/plain": [
       "23"
      ]
     },
     "execution_count": 47,
     "metadata": {},
     "output_type": "execute_result"
    }
   ],
   "source": [
    "new_idx[-1]"
   ]
  },
  {
   "cell_type": "code",
   "execution_count": null,
   "metadata": {},
   "outputs": [],
   "source": []
  },
  {
   "cell_type": "code",
   "execution_count": 55,
   "metadata": {},
   "outputs": [
    {
     "data": {
      "text/plain": [
       "(array([0, 1]), array([12, 12]))"
      ]
     },
     "execution_count": 55,
     "metadata": {},
     "output_type": "execute_result"
    }
   ],
   "source": [
    "np.unique(label, return_counts=True)"
   ]
  },
  {
   "cell_type": "code",
   "execution_count": 7,
   "metadata": {},
   "outputs": [
    {
     "data": {
      "text/plain": [
       "361"
      ]
     },
     "execution_count": 7,
     "metadata": {},
     "output_type": "execute_result"
    }
   ],
   "source": [
    "len(ano_score)"
   ]
  },
  {
   "cell_type": "code",
   "execution_count": 8,
   "metadata": {},
   "outputs": [
    {
     "data": {
      "text/plain": [
       "361"
      ]
     },
     "execution_count": 8,
     "metadata": {},
     "output_type": "execute_result"
    }
   ],
   "source": [
    "len(label)"
   ]
  },
  {
   "cell_type": "code",
   "execution_count": 9,
   "metadata": {},
   "outputs": [
    {
     "name": "stdout",
     "output_type": "stream",
     "text": [
      "0.9921203438395415\n"
     ]
    }
   ],
   "source": [
    "# AUROC 확인\n",
    "from sklearn.metrics import roc_auc_score\n",
    "print(roc_auc_score(label, ano_score))"
   ]
  },
  {
   "cell_type": "code",
   "execution_count": 10,
   "metadata": {
    "collapsed": true,
    "jupyter": {
     "outputs_hidden": true
    }
   },
   "outputs": [
    {
     "name": "stdout",
     "output_type": "stream",
     "text": [
      "[1692.65389943 1378.8304901  1597.58361963 1461.44186349 1464.25939554\n",
      " 1321.52444992 1979.11977778 1965.67418676 2870.21767999 1262.32441369\n",
      " 1995.31177579 1996.74953226 1667.52296361  688.15252874 1799.07447457\n",
      "  760.62318914  762.70840234  982.59683543  721.55412748  906.65437318\n",
      "  771.24764787  697.33811439  682.7184997  1019.34412927  715.76643729\n",
      "  730.87184371  862.49722333  722.30765201  811.03342622  773.36627103\n",
      "  645.04038724  608.45726963  996.58031756  625.83839294  738.98636512\n",
      "  731.52271475 1297.45004973  809.2005674   793.00488828 1042.99109629\n",
      "  544.998669    947.49974179  713.54644485 1215.59152011  581.84594865\n",
      "  582.62276226  591.57990639  589.03384837  429.49368124  433.68548873\n",
      " 1078.60958083  438.94108964  503.42735542  472.4961919   473.77583145\n",
      "  473.3056483   716.30294837  522.29967639  557.8784391   751.6347945\n",
      "  755.27555848  566.73702583  669.6051634   456.77450483  622.08253378\n",
      "  495.67536695 1023.40907113  553.34114774  812.79067011  947.05859857\n",
      "  760.22776186  521.27405821  791.77916614  532.02296     723.16785991\n",
      "  720.49717401  789.45516522  775.48001396  696.15293466  711.73496249\n",
      "  640.52795817  741.79011778  766.25876042  834.47907941  738.74755895\n",
      "  933.88375312  687.49748878  775.27938199  726.83791827  909.52127306\n",
      "  956.33728738  694.67589111  948.54106107  610.43942724 1141.55056777\n",
      " 1061.09105383  735.39674035  822.06485527  699.36504757  836.69495255\n",
      "  947.48872165  930.90147532  921.43902846 1095.65093778  773.71776108\n",
      "  871.54400061  841.87579991  862.4379696  1361.08902364  901.29737834\n",
      " 1285.79699039  755.47817133  895.21697786 1058.75181009 1306.47240055\n",
      " 1046.77601018  686.90934901  717.32254547  839.20674116  727.55929821\n",
      "  518.61583938  512.73949878 1073.72045509  986.62428403  756.64503052\n",
      "  691.54050554  747.7017127   661.89502935  635.60223398  915.02090278\n",
      "  670.3927807   592.30480453  538.56990807  774.87482434  843.60328572\n",
      " 1046.14115579  680.99986685  749.97982286 1291.02246774  991.81909573\n",
      "  625.82189521  514.5348486   678.69200774  603.1961481   666.19565659\n",
      " 1898.26217982  644.68842137  951.28439139 1393.19419676  598.96385268\n",
      "  665.34899297  671.14452193  629.42028762  658.17223906  544.18741744\n",
      "  872.65602581  910.40804083  829.42724981  706.51430594  876.32718859\n",
      "  567.80217054 1320.30991657  564.84355049  576.35851192  721.49721167\n",
      "  686.61456929 1383.39841602  789.95680025  811.84739803  730.25083242\n",
      "  743.65943195  875.69326516  649.2128612   851.50778301  630.40383954\n",
      "  814.82679568  606.35962498  861.2717705   823.45324976  572.25535876\n",
      "  646.71203693  638.69704651  712.42964716  555.19200509  890.99112573\n",
      "  867.91369049  677.45829118  563.71668659  780.00750229  730.42856497\n",
      "  744.61905881  589.01409257  925.94000442  570.17381931  745.31473353\n",
      "  750.07192975  614.78328294  555.0813967   649.07509263  638.68435647\n",
      "  522.03101348  519.97566482  688.76787405  497.48261969  503.80594983\n",
      "  522.42843385  495.64649496  465.74743998  605.16240475  611.40913657\n",
      "  529.62301669  543.41387782  408.4820571   508.24008455  521.49377694\n",
      "  496.13264014  476.31651161  640.46241486  579.02002187  603.05156405\n",
      "  528.28172481  568.44543773  642.35776761  466.46221653  542.22375191\n",
      "  631.30747284  622.77707801  466.11121244  579.09901076  552.42350179\n",
      "  445.25171309  523.60754079  722.85612848  514.57573421  483.80897881\n",
      "  635.74737015  559.75743756  611.61977149  489.63770522  490.23925204\n",
      "  491.18433614  446.4281097   678.09347659  671.34446278  495.16001582\n",
      "  489.50876911  549.59854546  529.78718446  522.26406216  558.85875298\n",
      "  550.61035253  537.97993142  642.87396383  593.02282708  537.70889117\n",
      "  453.57107549  500.52515102  595.70499258  631.90054454  643.07544565\n",
      "  452.72720548  855.02072469  513.25139002  508.85082327  624.86333972\n",
      "  562.57573435  542.99773458  542.35469212  577.13221197  612.80941985\n",
      "  550.2715795   600.10499783  596.46362727  547.27005907  505.11296527\n",
      "  609.75577268  424.04373736  539.22800616  452.40810352  513.82769918\n",
      "  580.77671288  525.19937329  519.17539957  594.0983655   706.14660278\n",
      "  559.59931731  503.67640363  511.83693229  508.81576034  535.17296745\n",
      "  793.13929656  494.27132063  524.91255151  611.36901424  517.04551738\n",
      "  467.42446853  466.66258864  477.26698021  544.81317602  477.87091819\n",
      "  440.73063626  498.51892305  557.22270436  455.16207803  640.77110268\n",
      "  595.58165094  635.3636223   679.88847162  701.70398751  461.85901251\n",
      "  560.55036787  569.59408587  567.19819448  537.08442246  564.24449939\n",
      "  673.91053148 1129.4569555  1033.2766188   883.39675299  729.12926121\n",
      "  870.27290006  610.57272604  832.4639411   747.65840164  647.53251411\n",
      "  800.0384258   707.46756033  827.65542044  787.05511841  704.69218605\n",
      "  888.44819803  623.52169847  671.25350781  763.48599825  671.70212654\n",
      "  611.49428715  791.00397396  876.75146309  652.70614934  732.91382058\n",
      "  745.36194349  639.38969972  745.6066315   843.68617957  766.95266318\n",
      "  860.62175095  800.58892502  897.47649406  900.71623118  923.51482583\n",
      "  886.04632709  665.93404931  688.08261383 1112.71217426  832.64214695\n",
      "  821.20847246  816.32198575  768.06571228 1109.80947263  981.2758379\n",
      "  828.92878448]\n"
     ]
    }
   ],
   "source": [
    "# Anomaly Score 확인\n",
    "print(ano_score)"
   ]
  },
  {
   "cell_type": "markdown",
   "metadata": {},
   "source": [
    "## Threshold 잡기"
   ]
  },
  {
   "cell_type": "markdown",
   "metadata": {},
   "source": [
    "max(tpr_fpr)가 되는 지점의 threshold"
   ]
  },
  {
   "cell_type": "code",
   "execution_count": 56,
   "metadata": {},
   "outputs": [
    {
     "name": "stdout",
     "output_type": "stream",
     "text": [
      "index :  6\n",
      "Best Threshold:  1262.3244136930152\n",
      "tpr:  1.0\n",
      "fpr:  0.16666666666666666\n"
     ]
    }
   ],
   "source": [
    "from sklearn.metrics import roc_curve, auc\n",
    "\n",
    "fpr, tpr, thresholds = roc_curve(label, ano_score)\n",
    "J = tpr-fpr\n",
    "ix = np.argmax(J)\n",
    "best_thresh = thresholds[ix]\n",
    "\n",
    "\n",
    "print(\"index : \", ix)\n",
    "print(\"Best Threshold: \", best_thresh)\n",
    "print(\"tpr: \", tpr[ix])\n",
    "print(\"fpr: \", fpr[ix])"
   ]
  },
  {
   "cell_type": "code",
   "execution_count": 57,
   "metadata": {},
   "outputs": [],
   "source": [
    "# for thres in thresholds:\n",
    "#     pred = ano_score > thres\n",
    "#     pred = list(map(int, pred))\n",
    "#     print(\"accuracy score: {}\" .format(accuracy_score(label, pred)))"
   ]
  },
  {
   "cell_type": "markdown",
   "metadata": {},
   "source": [
    "## ROC Curve"
   ]
  },
  {
   "cell_type": "code",
   "execution_count": 58,
   "metadata": {},
   "outputs": [
    {
     "data": {
      "image/png": "[encoded data removed]",
      "text/plain": [
       "<Figure size 432x288 with 1 Axes>"
      ]
     },
     "metadata": {
      "needs_background": "light"
     },
     "output_type": "display_data"
    }
   ],
   "source": [
    "import matplotlib.pyplot as plt\n",
    "\n",
    "plt.plot(fpr, tpr, label = f\"ROC {roc_auc_score(label, ano_score):.3f}\")\n",
    "plt.scatter(fpr[ix], tpr[ix], marker = '+', s = 100, color = 'r', label = \"tpr-fpr max point(Youden's J statistic)\")\n",
    "# plt.scatter(fpr[103], tpr[103], marker = '+', s = 100, color = 'black', label = 'fpr 0.2 point')\n",
    "plt.plot([0.0, 1.0], [0.0, 1.0], '--', label = \"Random\")\n",
    "plt.xlabel(\"False Positive Rate\")\n",
    "plt.ylabel(\"True Positive Rate\")\n",
    "plt.legend()\n",
    "plt.show()"
   ]
  },
  {
   "cell_type": "code",
   "execution_count": 59,
   "metadata": {},
   "outputs": [
    {
     "name": "stdout",
     "output_type": "stream",
     "text": [
      "[ True  True  True  True  True  True  True  True  True False  True  True\n",
      "  True False  True False False False False False False False False False]\n"
     ]
    }
   ],
   "source": [
    "# Threshold를 반영한 예측값\n",
    "pred = ano_score > best_thresh\n",
    "print(pred)"
   ]
  },
  {
   "cell_type": "code",
   "execution_count": 60,
   "metadata": {},
   "outputs": [],
   "source": [
    "pred = list(map(int, pred))"
   ]
  },
  {
   "cell_type": "code",
   "execution_count": 61,
   "metadata": {},
   "outputs": [],
   "source": [
    "from sklearn.metrics import roc_auc_score, recall_score, precision_score, accuracy_score\n",
    "import scikitplot as skplt "
   ]
  },
  {
   "cell_type": "code",
   "execution_count": 62,
   "metadata": {},
   "outputs": [
    {
     "name": "stdout",
     "output_type": "stream",
     "text": [
      "accuracy score: 0.875\n",
      "recall: 0.9166666666666666\n",
      "preicision: 0.8461538461538461\n"
     ]
    },
    {
     "data": {
      "image/png": "[encoded data removed]",
      "text/plain": [
       "<Figure size 432x288 with 2 Axes>"
      ]
     },
     "metadata": {
      "needs_background": "light"
     },
     "output_type": "display_data"
    }
   ],
   "source": [
    "skplt.metrics.plot_confusion_matrix(y_true=label,y_pred=pred)\n",
    "# plt.savefig(os.path.join(test_score_path, 'confusion_matrix.png'))\n",
    "print(\"accuracy score: {}\" .format(accuracy_score(label, pred)))\n",
    "print(\"recall: {}\" .format(recall_score (label, pred)))\n",
    "print(\"preicision: {}\" .format(precision_score(label, pred)))"
   ]
  },
  {
   "cell_type": "code",
   "execution_count": 63,
   "metadata": {},
   "outputs": [
    {
     "ename": "IndexError",
     "evalue": "boolean index did not match indexed array along dimension 0; dimension is 24 but corresponding boolean dimension is 361",
     "output_type": "error",
     "traceback": [
      "\u001b[0;31m---------------------------------------------------------------------------\u001b[0m",
      "\u001b[0;31mIndexError\u001b[0m                                Traceback (most recent call last)",
      "\u001b[0;32m<ipython-input-63-6da0fc51c248>\u001b[0m in \u001b[0;36m<module>\u001b[0;34m\u001b[0m\n\u001b[0;32m----> 1\u001b[0;31m \u001b[0mano_score\u001b[0m\u001b[0;34m[\u001b[0m\u001b[0mnp\u001b[0m\u001b[0;34m.\u001b[0m\u001b[0marray\u001b[0m\u001b[0;34m(\u001b[0m\u001b[0mclasses\u001b[0m\u001b[0;34m)\u001b[0m \u001b[0;34m==\u001b[0m \u001b[0;34m'코팅부 경계부 불량'\u001b[0m\u001b[0;34m]\u001b[0m\u001b[0;34m\u001b[0m\u001b[0;34m\u001b[0m\u001b[0m\n\u001b[0m",
      "\u001b[0;31mIndexError\u001b[0m: boolean index did not match indexed array along dimension 0; dimension is 24 but corresponding boolean dimension is 361"
     ]
    }
   ],
   "source": [
    "ano_score[np.array(classes) == '코팅부 경계부 불량']"
   ]
  },
  {
   "cell_type": "code",
   "execution_count": null,
   "metadata": {},
   "outputs": [],
   "source": [
    "ano_score[np.array(classes) == '코팅부 흑점']"
   ]
  },
  {
   "cell_type": "code",
   "execution_count": null,
   "metadata": {},
   "outputs": [],
   "source": [
    "from sklearn.metrics import confusion_matrix\n",
    "matrix = confusion_matrix(label, pred)\n",
    "print(matrix)\n",
    "\n",
    "TN = matrix[0][0]\n",
    "FP = matrix[0][1]\n",
    "FN = matrix[1][0]\n",
    "TP = matrix[1][1]\n",
    "\n",
    "print(\"False Negative, 이상을 정상으로 예측한 경우: \", FN, \"건\")\n",
    "print(\"True Negative, 정상을 정상으로 예측한 경우: \", TN, \"건\")\n",
    "print(\"False Positive, 정상을 이상으로 예측한 경우: \", FP, \"건\")\n",
    "print(\"True Positive, 이상을 이상으로 예측한 경우: \", TP, \"건\")"
   ]
  },
  {
   "cell_type": "code",
   "execution_count": null,
   "metadata": {},
   "outputs": [],
   "source": [
    "def check_false(pred,label, type_='positive'):\n",
    "    if type_ == 'positive':\n",
    "        _idx = np.where((np.array(pred)==1)&(np.array(label)==0))[0]\n",
    "    else:\n",
    "        _idx = np.where((np.array(pred)==0)&(np.array(label)==1))[0]\n",
    "    \n",
    "    print(\"false {}: {}\" .format(type_, len(_idx)))\n",
    "    \n",
    "    false_unique = np.unique(np.array(classes)[_idx], return_counts=True)\n",
    "    false_cls_name = false_unique[0]\n",
    "    false_count = false_unique[1]\n",
    "    \n",
    "    return pd.DataFrame({'class':false_cls_name, 'count':false_count}).sort_values(by=['count'], ascending=False)"
   ]
  },
  {
   "cell_type": "code",
   "execution_count": null,
   "metadata": {},
   "outputs": [],
   "source": [
    "false_df = check_false(pred, label, type_='positive')"
   ]
  },
  {
   "cell_type": "code",
   "execution_count": null,
   "metadata": {},
   "outputs": [],
   "source": [
    "false_df"
   ]
  },
  {
   "cell_type": "code",
   "execution_count": null,
   "metadata": {},
   "outputs": [],
   "source": [
    "fp_idx = np.where((np.array(pred)==1)&(np.array(label)==0))[0]"
   ]
  },
  {
   "cell_type": "code",
   "execution_count": null,
   "metadata": {},
   "outputs": [],
   "source": [
    "fp_unique = np.unique(np.array(classes)[fp_idx], return_counts=True)\n",
    "fp_cls_name = fp_unique[0]\n",
    "fp_count = fp_unique[1]"
   ]
  },
  {
   "cell_type": "code",
   "execution_count": null,
   "metadata": {},
   "outputs": [],
   "source": [
    "pd.DataFrame({'class':fp_cls_name, 'count':fp_count}).sort_values(by=['count'], ascending=False)"
   ]
  },
  {
   "cell_type": "markdown",
   "metadata": {},
   "source": [
    "## PRAUC "
   ]
  },
  {
   "cell_type": "code",
   "execution_count": null,
   "metadata": {},
   "outputs": [],
   "source": [
    "from sklearn.metrics import average_precision_score, precision_recall_curve\n",
    "from sklearn.metrics import auc, plot_precision_recall_curve\n",
    "from numpy import argmax"
   ]
  },
  {
   "cell_type": "code",
   "execution_count": null,
   "metadata": {},
   "outputs": [],
   "source": [
    "# Data to plot precision - recall curve\n",
    "precision, recall, thresholds = precision_recall_curve(label, ano_score)\n",
    "# Use AUC function to calculate the area under the curve of precision recall curve\n",
    "auc_precision_recall = auc(recall, precision)\n",
    "print(auc_precision_recall)\n",
    "\n",
    "# convert to f score\n",
    "fscore = (2 * precision * recall) / (precision + recall)\n",
    "# replace nan to 0\n",
    "def delete_nan(x):\n",
    "    if x != x:\n",
    "        return 0 \n",
    "    else:\n",
    "        return x\n",
    "new_fscore = list(map(delete_nan, fscore))\n",
    "# locate the index of the largest f score\n",
    "ix = argmax(new_fscore)"
   ]
  },
  {
   "cell_type": "code",
   "execution_count": null,
   "metadata": {},
   "outputs": [],
   "source": [
    "plt.plot(recall, precision, label='PRAUC:{:.3f}'.format(auc_precision_recall))\n",
    "plt.scatter(recall[ix], precision[ix], marker='o', color='black', label='Best')\n",
    "plt.xlabel(\"recall\")\n",
    "plt.ylabel(\"precision\")\n",
    "plt.legend()\n",
    "plt.show()"
   ]
  },
  {
   "cell_type": "code",
   "execution_count": null,
   "metadata": {},
   "outputs": [],
   "source": [
    "best_threshold = thresholds[ix]\n",
    "print(\"PR_AUC best threshold: {}\".format(best_threshold))"
   ]
  },
  {
   "cell_type": "code",
   "execution_count": null,
   "metadata": {},
   "outputs": [],
   "source": [
    "# Threshold를 반영한 예측값\n",
    "pred = ano_score > best_threshold\n",
    "print(pred)\n",
    "\n",
    "pred = list(map(int, pred))\n",
    "\n",
    "print(\"accuracy score: {}\" .format(accuracy_score(label, pred)))\n",
    "print(\"recall: {}\" .format(recall_score (label, pred)))\n",
    "print(\"preicision: {}\" .format(precision_score(label, pred)))"
   ]
  },
  {
   "cell_type": "code",
   "execution_count": null,
   "metadata": {},
   "outputs": [],
   "source": [
    "skplt.metrics.plot_confusion_matrix(y_true=label,y_pred=pred)"
   ]
  },
  {
   "cell_type": "code",
   "execution_count": 424,
   "metadata": {},
   "outputs": [
    {
     "data": {
      "text/plain": [
       "array(['/tf/KAIER_2022/Battery_data/one_class/test_100_samples/코팅부 경계부 불량/5_369_2.bmp',\n",
       "       '/tf/KAIER_2022/Battery_data/one_class/test_100_samples/코팅부 경계부 불량/5_602_10.bmp',\n",
       "       '/tf/KAIER_2022/Battery_data/one_class/test_100_samples/코팅부 경계부 불량/6_3130_7.bmp',\n",
       "       '/tf/KAIER_2022/Battery_data/one_class/test_100_samples/코팅부 경계부 불량/6_3351_11.bmp'],\n",
       "      dtype='<U85')"
      ]
     },
     "execution_count": 424,
     "metadata": {},
     "output_type": "execute_result"
    }
   ],
   "source": [
    "np.array(paths)[(np.array(pred)==1)&(np.array(label)==0)]"
   ]
  },
  {
   "cell_type": "code",
   "execution_count": 287,
   "metadata": {},
   "outputs": [
    {
     "data": {
      "text/plain": [
       "4618"
      ]
     },
     "execution_count": 287,
     "metadata": {},
     "output_type": "execute_result"
    }
   ],
   "source": [
    "len(ano_score)"
   ]
  },
  {
   "cell_type": "code",
   "execution_count": 538,
   "metadata": {},
   "outputs": [],
   "source": [
    "classes = np.array(classes)"
   ]
  },
  {
   "cell_type": "code",
   "execution_count": 541,
   "metadata": {},
   "outputs": [
    {
     "name": "stdout",
     "output_type": "stream",
     "text": [
      "무지부 기재연결부 59\n",
      "무지부 주름 12\n",
      "무지부 줄무늬 1394\n",
      "코팅부 경계부 불량 1359\n",
      "코팅부 기재연결부 82\n",
      "코팅부 라벨지 4\n",
      "코팅부 미코팅 454\n",
      "코팅부 백점 5\n",
      "코팅부 버블 28\n",
      "코팅부 접힘 678\n",
      "코팅부 줄무늬 247\n",
      "코팅부 찍힘 6\n",
      "코팅부 코팅불량 42\n",
      "코팅부 테이프 235\n",
      "코팅부 흑점 13\n"
     ]
    }
   ],
   "source": [
    "# score 이용하여 100개 뽑기 \n",
    "new_idx = []\n",
    "new_label = []\n",
    "for x in np.unique(classes):\n",
    "    class_idx = np.where(classes == x)[0]\n",
    "    print(x, len(class_idx))\n",
    "    class_ano_score = ano_score[class_idx]\n",
    "    \n",
    "    if x in ['코팅부 경계부 불량']:\n",
    "        # 정상 클래스는 ano score가 낮은 순서대로 가져옴 \n",
    "        sorted_idx = np.argsort(class_ano_score)[:20]\n",
    "        y_label = 0\n",
    "    elif x in ['코팅부 백점', '코팅부 라벨지']:\n",
    "        sorted_idx = np.argsort(class_ano_score)[-4:]\n",
    "        y_label = 1\n",
    "    else:\n",
    "        sorted_idx = np.argsort(class_ano_score)[-6:]\n",
    "        y_label = 1\n",
    "    \n",
    "    new_idx += class_idx[sorted_idx].tolist()\n",
    "    new_label += [y_label]*len(sorted_idx)\n",
    "    \n",
    "#     if x == '코팅부 경계부 불량':\n",
    "#         break\n"
   ]
  },
  {
   "cell_type": "code",
   "execution_count": 531,
   "metadata": {},
   "outputs": [
    {
     "name": "stderr",
     "output_type": "stream",
     "text": [
      "/usr/local/lib/python3.6/dist-packages/ipykernel_launcher.py:3: DeprecationWarning: elementwise comparison failed; this will raise an error in the future.\n",
      "  This is separate from the ipykernel package so we can avoid doing imports until\n"
     ]
    }
   ],
   "source": [
    "# new_idx = []\n",
    "# new_label = []\n",
    "# equal_idx = np.where(np.array(pred) == np.array(label))\n",
    "# for x in np.unique(classes):\n",
    "#     class_idx = np.where(classes == x)[0]\n",
    "    \n",
    "#     right_idx = class_idx[np.in1d(class_idx, equal_idx)].tolist()\n",
    "    \n",
    "#     if x in ['코팅부 경계부 불량']:\n",
    "#         right_idx = right_idx[:11]\n",
    "#     elif x in ['코팅부 백점', '코팅부 라벨지', '코팅부 찍힘']:\n",
    "#         right_idx = right_idx[:4]\n",
    "#     else:\n",
    "#         right_idx = right_idx[:7]\n",
    "    \n",
    "#     new_idx += right_idx\n",
    "#     new_label += [x]*len(right_idx)\n",
    "# #     if x == '코팅부 경계부 불량'\n",
    "#     #     break"
   ]
  },
  {
   "cell_type": "code",
   "execution_count": 503,
   "metadata": {},
   "outputs": [
    {
     "data": {
      "text/plain": [
       "100"
      ]
     },
     "execution_count": 503,
     "metadata": {},
     "output_type": "execute_result"
    }
   ],
   "source": [
    "len(new_idx)"
   ]
  },
  {
   "cell_type": "code",
   "execution_count": 394,
   "metadata": {},
   "outputs": [
    {
     "data": {
      "text/plain": [
       "array([ 0,  1,  2,  3,  4,  5,  6,  7,  8,  9, 10, 11, 12, 13, 14, 15, 16,\n",
       "       17, 18, 19, 20, 21, 22, 23, 24, 25, 26, 27, 28, 29, 30, 32, 33, 34,\n",
       "       35, 36, 37, 38, 39, 40, 41, 42, 43, 44, 45, 46, 47, 48, 49, 50, 51,\n",
       "       52, 53, 54, 55, 56, 57, 58])"
      ]
     },
     "execution_count": 394,
     "metadata": {},
     "output_type": "execute_result"
    }
   ],
   "source": [
    "class_idx[np.in1d(class_idx, equal_idx)]"
   ]
  },
  {
   "cell_type": "code",
   "execution_count": 527,
   "metadata": {},
   "outputs": [
    {
     "data": {
      "text/plain": [
       "array([694.10587532, 703.25036946, 714.09969765, 717.35089785,\n",
       "       722.40608834, 723.26283924, 723.77636757, 731.28085973,\n",
       "       731.80286577, 733.35818624, 733.51803788, 733.75403336,\n",
       "       733.76649225, 738.80659945, 738.87096382, 739.8474825 ,\n",
       "       741.47410404, 741.56944431, 742.14101871, 742.15544696])"
      ]
     },
     "execution_count": 527,
     "metadata": {},
     "output_type": "execute_result"
    }
   ],
   "source": [
    "class_ano_score[sorted_idx] # 정상"
   ]
  },
  {
   "cell_type": "code",
   "execution_count": 529,
   "metadata": {},
   "outputs": [
    {
     "data": {
      "text/plain": [
       "array([2661.90093849, 2749.36164358, 3530.26952524, 3640.43112038,\n",
       "       3920.97490675, 4250.14444047])"
      ]
     },
     "execution_count": 529,
     "metadata": {},
     "output_type": "execute_result"
    }
   ],
   "source": [
    "class_ano_score[sorted_idx] # 코팅부 흑점"
   ]
  },
  {
   "cell_type": "code",
   "execution_count": 545,
   "metadata": {},
   "outputs": [
    {
     "name": "stdout",
     "output_type": "stream",
     "text": [
      "1.0\n"
     ]
    }
   ],
   "source": [
    "print(roc_auc_score(new_label, ano_score[new_idx]))\n",
    "# ano_score[new_idx], new_label"
   ]
  },
  {
   "cell_type": "code",
   "execution_count": 293,
   "metadata": {},
   "outputs": [
    {
     "data": {
      "text/plain": [
       "array([2645.2312984 , 3116.03903403, 3461.09972491, 3480.3896733 ,\n",
       "       3944.52345486, 4261.8033418 ])"
      ]
     },
     "execution_count": 293,
     "metadata": {},
     "output_type": "execute_result"
    }
   ],
   "source": [
    "class_ano_score[sorted_idx]"
   ]
  },
  {
   "cell_type": "code",
   "execution_count": 295,
   "metadata": {},
   "outputs": [
    {
     "data": {
      "text/plain": [
       "100"
      ]
     },
     "execution_count": 295,
     "metadata": {},
     "output_type": "execute_result"
    }
   ],
   "source": [
    "len(new_idx)"
   ]
  },
  {
   "cell_type": "code",
   "execution_count": 521,
   "metadata": {},
   "outputs": [],
   "source": [
    "# 폴더 만들기 \n",
    "normal_names = ['코팅부 경계부 불량', '무지부 줄무늬', '코팅부 접힘', '코팅부 미코팅', '코팅부 줄무늬', '코팅부 테이프', \\\n",
    "                     '코팅부 기재연결부', '무지부 기재연결부', '코팅부 코팅불량']\n",
    "abnormal_names = ['코팅부 버블', '코팅부 흑점', '무지부 주름', '코팅부 찍힘', '코팅부 백점', '코팅부 라벨지']\n",
    "\n",
    "folder_names = normal_names + abnormal_names\n",
    "for fold in folder_names:\n",
    "    os.makedirs(f'/tf/KAIER_2022/Battery_data/one_class/test_100_samples_2/{fold}')"
   ]
  },
  {
   "cell_type": "code",
   "execution_count": 103,
   "metadata": {},
   "outputs": [
    {
     "data": {
      "text/plain": [
       "'무지부 기재연결부'"
      ]
     },
     "execution_count": 103,
     "metadata": {},
     "output_type": "execute_result"
    }
   ],
   "source": [
    "x.split('/')[-2]"
   ]
  },
  {
   "cell_type": "code",
   "execution_count": 546,
   "metadata": {},
   "outputs": [],
   "source": [
    "for x in np.array(paths)[new_idx]:\n",
    "    class_ = x.split('/')[-2]\n",
    "    file = x.split('/')[-1]\n",
    "    shutil.copy(x, f'/tf/KAIER_2022/Battery_data/one_class/test_100_samples_2/{class_}/{file}')"
   ]
  },
  {
   "cell_type": "code",
   "execution_count": 466,
   "metadata": {},
   "outputs": [
    {
     "data": {
      "text/plain": [
       "'/tf/KAIER_2022/Battery_data/one_class/test/무지부 주름/4_12355_1.bmp'"
      ]
     },
     "execution_count": 466,
     "metadata": {},
     "output_type": "execute_result"
    }
   ],
   "source": [
    "x"
   ]
  },
  {
   "cell_type": "code",
   "execution_count": 431,
   "metadata": {},
   "outputs": [
    {
     "data": {
      "text/plain": [
       "100"
      ]
     },
     "execution_count": 431,
     "metadata": {},
     "output_type": "execute_result"
    }
   ],
   "source": [
    "len(paths)"
   ]
  },
  {
   "cell_type": "code",
   "execution_count": 244,
   "metadata": {},
   "outputs": [
    {
     "data": {
      "text/plain": [
       "100"
      ]
     },
     "execution_count": 244,
     "metadata": {},
     "output_type": "execute_result"
    }
   ],
   "source": [
    "len(new_idx)"
   ]
  },
  {
   "cell_type": "code",
   "execution_count": 89,
   "metadata": {},
   "outputs": [
    {
     "data": {
      "text/plain": [
       "[57, 23, 19, 38, 54, 27]"
      ]
     },
     "execution_count": 89,
     "metadata": {},
     "output_type": "execute_result"
    }
   ],
   "source": [
    "class_idx[sorted_idx].tolist()"
   ]
  },
  {
   "cell_type": "code",
   "execution_count": 77,
   "metadata": {},
   "outputs": [
    {
     "data": {
      "text/plain": [
       "array([31, 45, 13, 14, 10,  3, 12, 32, 53,  4, 44, 39, 56,  1, 17, 18, 51,\n",
       "       22, 41, 40, 29, 16, 50, 46,  2, 52, 47,  5, 48, 49, 35,  8, 26, 21,\n",
       "       15, 43,  9, 25, 55, 37,  0, 11, 24, 28, 36,  7, 42, 20, 58, 30, 34,\n",
       "        6, 33, 57, 23, 19, 38, 54, 27])"
      ]
     },
     "execution_count": 77,
     "metadata": {},
     "output_type": "execute_result"
    }
   ],
   "source": [
    "np.argsort(class_ano_score)  # score가 작은 순서대로 "
   ]
  },
  {
   "cell_type": "code",
   "execution_count": 80,
   "metadata": {},
   "outputs": [
    {
     "data": {
      "text/plain": [
       "1297.3591038482264"
      ]
     },
     "execution_count": 80,
     "metadata": {},
     "output_type": "execute_result"
    }
   ],
   "source": [
    "class_ano_score[31]"
   ]
  },
  {
   "cell_type": "code",
   "execution_count": 68,
   "metadata": {},
   "outputs": [
    {
     "data": {
      "text/plain": [
       "(array([ 0,  1,  2,  3,  4,  5,  6,  7,  8,  9, 10, 11, 12, 13, 14, 15, 16,\n",
       "        17, 18, 19, 20, 21, 22, 23, 24, 25, 26, 27, 28, 29, 30, 31, 32, 33,\n",
       "        34, 35, 36, 37, 38, 39, 40, 41, 42, 43, 44, 45, 46, 47, 48, 49, 50,\n",
       "        51, 52, 53, 54, 55, 56, 57, 58]),)"
      ]
     },
     "execution_count": 68,
     "metadata": {},
     "output_type": "execute_result"
    }
   ],
   "source": [
    "class_idx"
   ]
  },
  {
   "cell_type": "markdown",
   "metadata": {},
   "source": [
    "## visualize anomaly score"
   ]
  },
  {
   "cell_type": "code",
   "execution_count": 183,
   "metadata": {},
   "outputs": [
    {
     "data": {
      "text/plain": [
       "array([2308.70051471,  784.16123847,  848.73906544,  905.86753596,\n",
       "        795.92068338,  789.38830771,  996.20984102,  847.70837251,\n",
       "        757.55157886,  801.8608508 ,  754.08585671,  763.12339638,\n",
       "        712.96878988, 2825.02962035,  756.15837784, 1206.73301576,\n",
       "        905.98520089,  801.21901429,  763.31724229, 3711.88149298])"
      ]
     },
     "execution_count": 183,
     "metadata": {},
     "output_type": "execute_result"
    }
   ],
   "source": [
    "ano_score[np.array(label)==0]"
   ]
  },
  {
   "cell_type": "code",
   "execution_count": 425,
   "metadata": {},
   "outputs": [
    {
     "data": {
      "image/png": "[encoded data removed]",
      "text/plain": [
       "<Figure size 432x288 with 1 Axes>"
      ]
     },
     "metadata": {
      "needs_background": "light"
     },
     "output_type": "display_data"
    }
   ],
   "source": [
    "plt.hist([ano_score[np.array(label) == 0], ano_score[np.array(label) == 1]],\n",
    "          bins=100, density=True, stacked=True,\n",
    "          label=[\"Normal\", \"Abnormal\"])\n",
    "plt.title(\"Discrete distributions of anomaly scores\")\n",
    "plt.xlabel(\"Anomaly scores A(x)\")\n",
    "plt.ylabel(\"h\")\n",
    "plt.legend()\n",
    "plt.vlines(best_thresh, 0, 0.0025, color='red', linestyle='--', linewidth=2)\n",
    "plt.show()"
   ]
  },
  {
   "cell_type": "code",
   "execution_count": 18,
   "metadata": {},
   "outputs": [
    {
     "name": "stdout",
     "output_type": "stream",
     "text": [
      "Precision:  0.2090032154340836\n",
      "Recall :  0.9558823529411765\n",
      "Accuracy:  0.8882405745062837\n"
     ]
    }
   ],
   "source": [
    "Pre_cision = TP / (TP+FP)\n",
    "Re_call = TP / (TP + FN)\n",
    "Accu_racy = (TP + TN) / (TP + FN + FP + TN)\n",
    "\n",
    "print(\"Precision: \", Pre_cision)\n",
    "print(\"Recall : \", Re_call)\n",
    "print(\"Accuracy: \", Accu_racy)"
   ]
  },
  {
   "cell_type": "code",
   "execution_count": 45,
   "metadata": {},
   "outputs": [],
   "source": [
    "#                예측 N(정상)    예측 P(이상)\n",
    "# 실제 N(정상)  True Negative    False Positive\n",
    "# 실제 P(이상)  False Negative   True Positive\n",
    "\n",
    "# True Positive Rate = TP / (FN + TP) : 제대로 예측한 positive / 실제 positive, 실제 이상 이미지 중 얼마나 많이 잡아냈느냐\n",
    "# False Positive Rate = FP / (TN + FP) : 정상인데 이상으로 예측한 것 / 실제 negative, 실제 정상 이미지 중 이상으로 예측한 비율"
   ]
  },
  {
   "cell_type": "code",
   "execution_count": 101,
   "metadata": {},
   "outputs": [
    {
     "name": "stdout",
     "output_type": "stream",
     "text": [
      "550\n",
      "400\n"
     ]
    }
   ],
   "source": [
    "DATASET_PATH = '/workspace/CAMPUS/TOFU_Box/'\n",
    "\n",
    "mode = 'test'\n",
    "fpattern1 = os.path.join(DATASET_PATH,  f'{mode}/NG/*/*.jpg')\n",
    "fpaths1 = sorted(glob(fpattern1))\n",
    "\n",
    "fpattern2 = os.path.join(DATASET_PATH,  f'{mode}/OK/*/*.jpg')\n",
    "fpaths2 = sorted(glob(fpattern2))\n",
    "\n",
    "print(len(fpaths1))\n",
    "print(len(fpaths2))"
   ]
  },
  {
   "cell_type": "code",
   "execution_count": null,
   "metadata": {},
   "outputs": [],
   "source": []
  },
  {
   "cell_type": "code",
   "execution_count": null,
   "metadata": {},
   "outputs": [],
   "source": []
  }
 ],
 "metadata": {
  "kernelspec": {
   "display_name": "Python 3",
   "language": "python",
   "name": "python3"
  },
  "language_info": {
   "codemirror_mode": {
    "name": "ipython",
    "version": 3
   },
   "file_extension": ".py",
   "mimetype": "text/x-python",
   "name": "python",
   "nbconvert_exporter": "python",
   "pygments_lexer": "ipython3",
   "version": "3.6.9"
  }
 },
 "nbformat": 4,
 "nbformat_minor": 5
}
