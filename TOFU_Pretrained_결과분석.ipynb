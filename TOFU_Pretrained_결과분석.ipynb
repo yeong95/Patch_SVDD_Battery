{
 "cells": [
  {
   "cell_type": "markdown",
   "metadata": {},
   "source": [
    "## Anomaly Score 받아오기"
   ]
  },
  {
   "cell_type": "code",
   "execution_count": 122,
   "metadata": {},
   "outputs": [],
   "source": [
    "import shutil"
   ]
  },
  {
   "cell_type": "code",
   "execution_count": 123,
   "metadata": {},
   "outputs": [],
   "source": [
    "# argument\n",
    "dataset_type = 'one'"
   ]
  },
  {
   "cell_type": "code",
   "execution_count": 597,
   "metadata": {},
   "outputs": [
    {
     "name": "stdout",
     "output_type": "stream",
     "text": [
      "100\n"
     ]
    }
   ],
   "source": [
    "import numpy as np\n",
    "import pandas as pd\n",
    "\n",
    "ano_score = np.load(f'save/{dataset_type}_class/3_7_efficientnet_b6/det_mult_anomaly_scores.npy')\n",
    "print(len(ano_score))"
   ]
  },
  {
   "cell_type": "markdown",
   "metadata": {},
   "source": [
    "#"
   ]
  },
  {
   "cell_type": "code",
   "execution_count": 592,
   "metadata": {},
   "outputs": [],
   "source": [
    "maps_32 = np.load('save/one_class/3_7_efficientnet_b6/maps_32.npy')"
   ]
  },
  {
   "cell_type": "code",
   "execution_count": 593,
   "metadata": {},
   "outputs": [
    {
     "data": {
      "text/plain": [
       "(100, 256, 256)"
      ]
     },
     "execution_count": 593,
     "metadata": {},
     "output_type": "execute_result"
    }
   ],
   "source": [
    "maps_32.shape"
   ]
  },
  {
   "cell_type": "code",
   "execution_count": 594,
   "metadata": {},
   "outputs": [],
   "source": [
    "maps_32_1 = np.load('save/one_class/3_7_efficientnet_b6_2/maps_32.npy')"
   ]
  },
  {
   "cell_type": "code",
   "execution_count": 595,
   "metadata": {},
   "outputs": [
    {
     "data": {
      "text/plain": [
       "(100, 256, 256)"
      ]
     },
     "execution_count": 595,
     "metadata": {},
     "output_type": "execute_result"
    }
   ],
   "source": [
    "maps_32_1.shape"
   ]
  },
  {
   "cell_type": "code",
   "execution_count": 596,
   "metadata": {},
   "outputs": [
    {
     "data": {
      "text/plain": [
       "array([[[ True,  True,  True, ...,  True,  True,  True],\n",
       "        [ True,  True,  True, ...,  True,  True,  True],\n",
       "        [ True,  True,  True, ...,  True,  True,  True],\n",
       "        ...,\n",
       "        [ True,  True,  True, ...,  True,  True,  True],\n",
       "        [ True,  True,  True, ...,  True,  True,  True],\n",
       "        [ True,  True,  True, ...,  True,  True,  True]],\n",
       "\n",
       "       [[ True,  True,  True, ...,  True,  True,  True],\n",
       "        [ True,  True,  True, ...,  True,  True,  True],\n",
       "        [ True,  True,  True, ...,  True,  True,  True],\n",
       "        ...,\n",
       "        [ True,  True,  True, ...,  True,  True,  True],\n",
       "        [ True,  True,  True, ...,  True,  True,  True],\n",
       "        [ True,  True,  True, ...,  True,  True,  True]],\n",
       "\n",
       "       [[ True,  True,  True, ...,  True,  True,  True],\n",
       "        [ True,  True,  True, ...,  True,  True,  True],\n",
       "        [ True,  True,  True, ...,  True,  True,  True],\n",
       "        ...,\n",
       "        [ True,  True,  True, ...,  True,  True,  True],\n",
       "        [ True,  True,  True, ...,  True,  True,  True],\n",
       "        [ True,  True,  True, ...,  True,  True,  True]],\n",
       "\n",
       "       ...,\n",
       "\n",
       "       [[ True,  True,  True, ...,  True,  True,  True],\n",
       "        [ True,  True,  True, ...,  True,  True,  True],\n",
       "        [ True,  True,  True, ...,  True,  True,  True],\n",
       "        ...,\n",
       "        [ True,  True,  True, ...,  True,  True,  True],\n",
       "        [ True,  True,  True, ...,  True,  True,  True],\n",
       "        [ True,  True,  True, ...,  True,  True,  True]],\n",
       "\n",
       "       [[ True,  True,  True, ...,  True,  True,  True],\n",
       "        [ True,  True,  True, ...,  True,  True,  True],\n",
       "        [ True,  True,  True, ...,  True,  True,  True],\n",
       "        ...,\n",
       "        [ True,  True,  True, ...,  True,  True,  True],\n",
       "        [ True,  True,  True, ...,  True,  True,  True],\n",
       "        [ True,  True,  True, ...,  True,  True,  True]],\n",
       "\n",
       "       [[ True,  True,  True, ...,  True,  True,  True],\n",
       "        [ True,  True,  True, ...,  True,  True,  True],\n",
       "        [ True,  True,  True, ...,  True,  True,  True],\n",
       "        ...,\n",
       "        [ True,  True,  True, ...,  True,  True,  True],\n",
       "        [ True,  True,  True, ...,  True,  True,  True],\n",
       "        [ True,  True,  True, ...,  True,  True,  True]]])"
      ]
     },
     "execution_count": 596,
     "metadata": {},
     "output_type": "execute_result"
    }
   ],
   "source": [
    "maps_32 == maps_32_1"
   ]
  },
  {
   "cell_type": "code",
   "execution_count": 569,
   "metadata": {},
   "outputs": [],
   "source": [
    "with open(\"save/one_class/3_7_efficientnet_b6/64_embs_tr.pickle\", \"rb\") as f:\n",
    "    embs_tr = pickle.load(f)\n",
    "with open(\"save/one_class/3_7_efficientnet_b6_2/64_embs_tr.pickle\", \"rb\") as f:\n",
    "    embs_tr_1 = pickle.load(f)"
   ]
  },
  {
   "cell_type": "code",
   "execution_count": 570,
   "metadata": {},
   "outputs": [
    {
     "data": {
      "text/plain": [
       "0"
      ]
     },
     "execution_count": 570,
     "metadata": {},
     "output_type": "execute_result"
    }
   ],
   "source": [
    "np.sum(embs_tr != embs_tr_1)"
   ]
  },
  {
   "cell_type": "markdown",
   "metadata": {},
   "source": [
    "## Label 값 받아오기"
   ]
  },
  {
   "cell_type": "code",
   "execution_count": 598,
   "metadata": {},
   "outputs": [],
   "source": [
    "DATASET_PATH = f'/tf/KAIER_2022/Battery_data/{dataset_type}_class'\n",
    "\n",
    "from glob import glob\n",
    "import os\n",
    "def get_label():\n",
    "    mode = 'test_100_samples_2'\n",
    "    \n",
    "    if dataset_type == 'multi':\n",
    "        normal_names = ['코팅부 경계부 불량', '무지부 줄무늬', '코팅부 접힘', '코팅부 미코팅', '코팅부 줄무늬', '코팅부 테이프', \\\n",
    "                     '코팅부 기재연결부', '무지부 기재연결부', '코팅부 코팅불량']\n",
    "        abnormal_names = ['코팅부 버블', '코팅부 흑점', '무지부 주름', '코팅부 찍힘', '코팅부 백점', '코팅부 라벨지']\n",
    "    elif dataset_type == 'one':\n",
    "        normal_names = ['코팅부 경계부 불량']\n",
    "        abnormal_names = ['무지부 줄무늬', '코팅부 접힘', '코팅부 미코팅', '코팅부 줄무늬', '코팅부 테이프', \\\n",
    "                     '코팅부 기재연결부', '무지부 기재연결부', '코팅부 코팅불량', '코팅부 버블', '코팅부 흑점', '무지부 주름', '코팅부 찍힘', '코팅부 백점', '코팅부 라벨지']\n",
    "\n",
    "#     normal_paths = []\n",
    "#     for name in normal_names:\n",
    "#         fpattern = os.path.join(DATASET_PATH, f'{mode}/{name}/*.bmp')\n",
    "#         fpaths = sorted(glob(fpattern))\n",
    "# #         print(len(fpaths))\n",
    "#         normal_paths += fpaths\n",
    "    \n",
    "#     abnormal_paths = []\n",
    "#     for name in abnormal_names:\n",
    "#         fpattern = os.path.join(DATASET_PATH, f'{mode}/{name}/*.bmp')\n",
    "#         fpaths = sorted(glob(fpattern))\n",
    "# #         print(len(fpaths))\n",
    "#         abnormal_paths += fpaths\n",
    "\n",
    "    fpattern = os.path.join(DATASET_PATH, f'{mode}/*/*.bmp')\n",
    "    fpaths = sorted(glob(fpattern))\n",
    "    \n",
    "    # get only label name in data path \n",
    "    def split(x):\n",
    "        return x.split('/')[-2]    \n",
    "\n",
    "    test_class_list = list(map(split, fpaths))\n",
    "    \n",
    "    def change_name_to_label(x):\n",
    "        if x in normal_names:\n",
    "            return 0\n",
    "        else:\n",
    "            return 1\n",
    "\n",
    "    test_label_list = list(map(change_name_to_label, test_class_list))\n",
    "\n",
    "    return test_label_list, test_class_list, fpaths"
   ]
  },
  {
   "cell_type": "code",
   "execution_count": 599,
   "metadata": {},
   "outputs": [],
   "source": [
    "label, classes, paths = get_label()\n",
    "# print(label)"
   ]
  },
  {
   "cell_type": "code",
   "execution_count": 579,
   "metadata": {},
   "outputs": [
    {
     "data": {
      "text/plain": [
       "(array([0, 1]), array([20, 80]))"
      ]
     },
     "execution_count": 579,
     "metadata": {},
     "output_type": "execute_result"
    }
   ],
   "source": [
    "np.unique(label, return_counts=True)"
   ]
  },
  {
   "cell_type": "code",
   "execution_count": 580,
   "metadata": {},
   "outputs": [
    {
     "data": {
      "text/plain": [
       "100"
      ]
     },
     "execution_count": 580,
     "metadata": {},
     "output_type": "execute_result"
    }
   ],
   "source": [
    "len(ano_score)"
   ]
  },
  {
   "cell_type": "code",
   "execution_count": 581,
   "metadata": {},
   "outputs": [
    {
     "data": {
      "text/plain": [
       "100"
      ]
     },
     "execution_count": 581,
     "metadata": {},
     "output_type": "execute_result"
    }
   ],
   "source": [
    "len(label)"
   ]
  },
  {
   "cell_type": "code",
   "execution_count": 600,
   "metadata": {},
   "outputs": [
    {
     "name": "stdout",
     "output_type": "stream",
     "text": [
      "0.92\n"
     ]
    }
   ],
   "source": [
    "# AUROC 확인\n",
    "from sklearn.metrics import roc_auc_score\n",
    "print(roc_auc_score(label, ano_score))"
   ]
  },
  {
   "cell_type": "code",
   "execution_count": 583,
   "metadata": {},
   "outputs": [
    {
     "name": "stdout",
     "output_type": "stream",
     "text": [
      "[ 3145.14962245  3085.38428853  3433.46956518  2426.08654264\n",
      "  3200.18118852  2194.92802387  2467.48435719  2157.75348372\n",
      "  2555.17847504  4459.68782351  2138.2494621   2795.07714694\n",
      "  4502.78541676  1580.84603372  2410.61315691  2644.6214467\n",
      "  2046.37948631  2722.4060254   2015.03623482   877.89875475\n",
      "   960.56866161   929.09847918   813.0555032    832.14237573\n",
      "   794.62520807   709.33501156   751.63337581   853.62928607\n",
      "   723.78363165  1447.4194109    805.12624632   747.87283384\n",
      "   978.39028932  1047.94074861  1099.30827677   882.93560769\n",
      "   776.23834048  4204.7779673   1562.31113359  1839.81257079\n",
      "  1599.98390408  1849.2727804   1779.71086597  1620.45192943\n",
      " 20154.25922394  1974.17130894  1856.59623386  6417.05000959\n",
      "  2199.24956279  4898.21474337  1614.18849844  1905.50999637\n",
      "  4383.2069848   4140.92994583  2825.2499194   2217.01442174\n",
      "  1793.00741618  2815.47515392  2815.37634888  3246.71841375\n",
      "  4402.61284258  7364.78335893  2694.96858376  2952.06907643\n",
      "  2795.35625159  1839.87319798  3066.87229982  2435.35013245\n",
      "  2843.72472077  2455.50003615  1599.27089128  1364.21648836\n",
      "  1425.70562316  1370.7335707   1098.76086214  1244.67402833\n",
      "  6422.31776187  2016.22342783  1228.55105807  1621.03239845\n",
      "  1279.99385556  2732.44235645  2030.16855654  2368.73311974\n",
      "  2355.17180022  2626.79214443  1737.64400908  2240.34206807\n",
      "  8912.79828378  2832.07111847  2879.18606126  2778.77108418\n",
      "  3861.22930982  4303.94628642  1949.62052649  3430.15325812\n",
      "  3595.3549755   3734.40558089  2170.47480656  1541.94113686]\n"
     ]
    }
   ],
   "source": [
    "# Anomaly Score 확인\n",
    "print(ano_score)"
   ]
  },
  {
   "cell_type": "code",
   "execution_count": 584,
   "metadata": {},
   "outputs": [
    {
     "name": "stdout",
     "output_type": "stream",
     "text": [
      "20154.259223941714\n"
     ]
    }
   ],
   "source": [
    "print(max(ano_score))"
   ]
  },
  {
   "cell_type": "markdown",
   "metadata": {},
   "source": [
    "## Threshold 잡기"
   ]
  },
  {
   "cell_type": "markdown",
   "metadata": {},
   "source": [
    "max(tpr_fpr)가 되는 지점의 threshold"
   ]
  },
  {
   "cell_type": "code",
   "execution_count": 601,
   "metadata": {},
   "outputs": [
    {
     "name": "stdout",
     "output_type": "stream",
     "text": [
      "index :  10\n",
      "Best Threshold:  1167.6804841566918\n",
      "tpr:  1.0\n",
      "fpr:  0.2\n"
     ]
    }
   ],
   "source": [
    "from sklearn.metrics import roc_curve, auc\n",
    "\n",
    "fpr, tpr, thresholds = roc_curve(label, ano_score)\n",
    "J = tpr-fpr\n",
    "ix = np.argmax(J)\n",
    "best_thresh = thresholds[ix]\n",
    "\n",
    "\n",
    "print(\"index : \", ix)\n",
    "print(\"Best Threshold: \", best_thresh)\n",
    "print(\"tpr: \", tpr[ix])\n",
    "print(\"fpr: \", fpr[ix])"
   ]
  },
  {
   "cell_type": "code",
   "execution_count": 602,
   "metadata": {},
   "outputs": [],
   "source": [
    "# for thres in thresholds:\n",
    "#     pred = ano_score > thres\n",
    "#     pred = list(map(int, pred))\n",
    "#     print(\"accuracy score: {}\" .format(accuracy_score(label, pred)))"
   ]
  },
  {
   "cell_type": "markdown",
   "metadata": {},
   "source": [
    "## ROC Curve"
   ]
  },
  {
   "cell_type": "code",
   "execution_count": 603,
   "metadata": {},
   "outputs": [
    {
     "data": {
      "image/png": "[encoded data removed]",
      "text/plain": [
       "<Figure size 432x288 with 1 Axes>"
      ]
     },
     "metadata": {
      "needs_background": "light"
     },
     "output_type": "display_data"
    }
   ],
   "source": [
    "import matplotlib.pyplot as plt\n",
    "\n",
    "plt.plot(fpr, tpr, label = \"ROC\")\n",
    "plt.scatter(fpr[ix], tpr[ix], marker = '+', s = 100, color = 'r', label = \"tpr-fpr max point(Youden's J statistic)\")\n",
    "# plt.scatter(fpr[103], tpr[103], marker = '+', s = 100, color = 'black', label = 'fpr 0.2 point')\n",
    "plt.plot([0.0, 1.0], [0.0, 1.0], '--', label = \"Random\")\n",
    "plt.xlabel(\"False Positive Rate\")\n",
    "plt.ylabel(\"True Positive Rate\")\n",
    "plt.legend()\n",
    "plt.show()"
   ]
  },
  {
   "cell_type": "code",
   "execution_count": 604,
   "metadata": {},
   "outputs": [
    {
     "name": "stdout",
     "output_type": "stream",
     "text": [
      "[ True  True  True  True  True  True  True  True  True  True  True  True\n",
      "  True  True  True  True  True  True  True  True False False False False\n",
      " False False False False False  True False False False False False False\n",
      " False  True  True  True  True  True  True  True  True  True  True  True\n",
      "  True  True  True  True  True  True  True  True  True  True  True  True\n",
      "  True  True  True  True  True  True  True  True  True  True  True  True\n",
      "  True  True  True False  True  True  True  True  True  True  True  True\n",
      "  True  True  True  True  True  True  True  True  True  True  True  True\n",
      "  True  True  True  True]\n"
     ]
    }
   ],
   "source": [
    "# Threshold를 반영한 예측값\n",
    "pred = ano_score > best_thresh\n",
    "print(pred)"
   ]
  },
  {
   "cell_type": "code",
   "execution_count": 605,
   "metadata": {},
   "outputs": [],
   "source": [
    "pred = list(map(int, pred))"
   ]
  },
  {
   "cell_type": "code",
   "execution_count": 606,
   "metadata": {},
   "outputs": [],
   "source": [
    "from sklearn.metrics import roc_auc_score, recall_score, precision_score, accuracy_score\n",
    "import scikitplot as skplt "
   ]
  },
  {
   "cell_type": "code",
   "execution_count": 607,
   "metadata": {},
   "outputs": [
    {
     "name": "stdout",
     "output_type": "stream",
     "text": [
      "accuracy score: 0.95\n",
      "recall: 0.9875\n",
      "preicision: 0.9518072289156626\n"
     ]
    },
    {
     "data": {
      "image/png": "[encoded data removed]",
      "text/plain": [
       "<Figure size 432x288 with 2 Axes>"
      ]
     },
     "metadata": {
      "needs_background": "light"
     },
     "output_type": "display_data"
    }
   ],
   "source": [
    "skplt.metrics.plot_confusion_matrix(y_true=label,y_pred=pred)\n",
    "# plt.savefig(os.path.join(test_score_path, 'confusion_matrix.png'))\n",
    "print(\"accuracy score: {}\" .format(accuracy_score(label, pred)))\n",
    "print(\"recall: {}\" .format(recall_score (label, pred)))\n",
    "print(\"preicision: {}\" .format(precision_score(label, pred)))"
   ]
  },
  {
   "cell_type": "code",
   "execution_count": 562,
   "metadata": {},
   "outputs": [
    {
     "data": {
      "text/plain": [
       "array([2159.06897478, 1385.32537329,  940.45999084,  954.93881138,\n",
       "        975.44276823,  807.36607216,  770.28371286,  709.21695544,\n",
       "        831.39727536,  730.79710494,  732.75794353, 2081.73290374,\n",
       "        805.89386314,  875.63217383,  975.14787106,  873.60891707,\n",
       "       1110.30889706,  878.32814077,  763.23102755, 3784.24423455])"
      ]
     },
     "execution_count": 562,
     "metadata": {},
     "output_type": "execute_result"
    }
   ],
   "source": [
    "ano_score[np.array(classes) == '코팅부 경계부 불량']"
   ]
  },
  {
   "cell_type": "code",
   "execution_count": 563,
   "metadata": {},
   "outputs": [
    {
     "data": {
      "text/plain": [
       "array([1986.0111963 , 3276.05468173, 3647.1737197 , 3671.0801313 ,\n",
       "       2248.23639698, 1588.36942388])"
      ]
     },
     "execution_count": 563,
     "metadata": {},
     "output_type": "execute_result"
    }
   ],
   "source": [
    "ano_score[np.array(classes) == '코팅부 흑점']"
   ]
  },
  {
   "cell_type": "code",
   "execution_count": 362,
   "metadata": {},
   "outputs": [
    {
     "name": "stdout",
     "output_type": "stream",
     "text": [
      "[[1019  340]\n",
      " [  31 3228]]\n",
      "False Negative, 이상을 정상으로 예측한 경우:  31 건\n",
      "True Negative, 정상을 정상으로 예측한 경우:  1019 건\n",
      "False Positive, 정상을 이상으로 예측한 경우:  340 건\n",
      "True Positive, 이상을 이상으로 예측한 경우:  3228 건\n"
     ]
    }
   ],
   "source": [
    "from sklearn.metrics import confusion_matrix\n",
    "matrix = confusion_matrix(label, pred)\n",
    "print(matrix)\n",
    "\n",
    "TN = matrix[0][0]\n",
    "FP = matrix[0][1]\n",
    "FN = matrix[1][0]\n",
    "TP = matrix[1][1]\n",
    "\n",
    "print(\"False Negative, 이상을 정상으로 예측한 경우: \", FN, \"건\")\n",
    "print(\"True Negative, 정상을 정상으로 예측한 경우: \", TN, \"건\")\n",
    "print(\"False Positive, 정상을 이상으로 예측한 경우: \", FP, \"건\")\n",
    "print(\"True Positive, 이상을 이상으로 예측한 경우: \", TP, \"건\")"
   ]
  },
  {
   "cell_type": "code",
   "execution_count": 363,
   "metadata": {},
   "outputs": [],
   "source": [
    "def check_false(pred,label, type_='positive'):\n",
    "    if type_ == 'positive':\n",
    "        _idx = np.where((np.array(pred)==1)&(np.array(label)==0))[0]\n",
    "    else:\n",
    "        _idx = np.where((np.array(pred)==0)&(np.array(label)==1))[0]\n",
    "    \n",
    "    print(\"false {}: {}\" .format(type_, len(_idx)))\n",
    "    \n",
    "    false_unique = np.unique(np.array(classes)[_idx], return_counts=True)\n",
    "    false_cls_name = false_unique[0]\n",
    "    false_count = false_unique[1]\n",
    "    \n",
    "    return pd.DataFrame({'class':false_cls_name, 'count':false_count}).sort_values(by=['count'], ascending=False)"
   ]
  },
  {
   "cell_type": "code",
   "execution_count": 364,
   "metadata": {},
   "outputs": [
    {
     "name": "stdout",
     "output_type": "stream",
     "text": [
      "false positive: 340\n"
     ]
    }
   ],
   "source": [
    "false_df = check_false(pred, label, type_='positive')"
   ]
  },
  {
   "cell_type": "code",
   "execution_count": 365,
   "metadata": {},
   "outputs": [
    {
     "data": {
      "text/html": [
       "<div>\n",
       "<style scoped>\n",
       "    .dataframe tbody tr th:only-of-type {\n",
       "        vertical-align: middle;\n",
       "    }\n",
       "\n",
       "    .dataframe tbody tr th {\n",
       "        vertical-align: top;\n",
       "    }\n",
       "\n",
       "    .dataframe thead th {\n",
       "        text-align: right;\n",
       "    }\n",
       "</style>\n",
       "<table border=\"1\" class=\"dataframe\">\n",
       "  <thead>\n",
       "    <tr style=\"text-align: right;\">\n",
       "      <th></th>\n",
       "      <th>class</th>\n",
       "      <th>count</th>\n",
       "    </tr>\n",
       "  </thead>\n",
       "  <tbody>\n",
       "    <tr>\n",
       "      <th>0</th>\n",
       "      <td>코팅부 경계부 불량</td>\n",
       "      <td>340</td>\n",
       "    </tr>\n",
       "  </tbody>\n",
       "</table>\n",
       "</div>"
      ],
      "text/plain": [
       "        class  count\n",
       "0  코팅부 경계부 불량    340"
      ]
     },
     "execution_count": 365,
     "metadata": {},
     "output_type": "execute_result"
    }
   ],
   "source": [
    "false_df"
   ]
  },
  {
   "cell_type": "code",
   "execution_count": 366,
   "metadata": {},
   "outputs": [],
   "source": [
    "fp_idx = np.where((np.array(pred)==1)&(np.array(label)==0))[0]"
   ]
  },
  {
   "cell_type": "code",
   "execution_count": 367,
   "metadata": {},
   "outputs": [],
   "source": [
    "fp_unique = np.unique(np.array(classes)[fp_idx], return_counts=True)\n",
    "fp_cls_name = fp_unique[0]\n",
    "fp_count = fp_unique[1]"
   ]
  },
  {
   "cell_type": "code",
   "execution_count": 368,
   "metadata": {},
   "outputs": [
    {
     "data": {
      "text/html": [
       "<div>\n",
       "<style scoped>\n",
       "    .dataframe tbody tr th:only-of-type {\n",
       "        vertical-align: middle;\n",
       "    }\n",
       "\n",
       "    .dataframe tbody tr th {\n",
       "        vertical-align: top;\n",
       "    }\n",
       "\n",
       "    .dataframe thead th {\n",
       "        text-align: right;\n",
       "    }\n",
       "</style>\n",
       "<table border=\"1\" class=\"dataframe\">\n",
       "  <thead>\n",
       "    <tr style=\"text-align: right;\">\n",
       "      <th></th>\n",
       "      <th>class</th>\n",
       "      <th>count</th>\n",
       "    </tr>\n",
       "  </thead>\n",
       "  <tbody>\n",
       "    <tr>\n",
       "      <th>0</th>\n",
       "      <td>코팅부 경계부 불량</td>\n",
       "      <td>340</td>\n",
       "    </tr>\n",
       "  </tbody>\n",
       "</table>\n",
       "</div>"
      ],
      "text/plain": [
       "        class  count\n",
       "0  코팅부 경계부 불량    340"
      ]
     },
     "execution_count": 368,
     "metadata": {},
     "output_type": "execute_result"
    }
   ],
   "source": [
    "pd.DataFrame({'class':fp_cls_name, 'count':fp_count}).sort_values(by=['count'], ascending=False)"
   ]
  },
  {
   "cell_type": "markdown",
   "metadata": {},
   "source": [
    "## PRAUC "
   ]
  },
  {
   "cell_type": "code",
   "execution_count": 496,
   "metadata": {},
   "outputs": [],
   "source": [
    "from sklearn.metrics import average_precision_score, precision_recall_curve\n",
    "from sklearn.metrics import auc, plot_precision_recall_curve\n",
    "from numpy import argmax"
   ]
  },
  {
   "cell_type": "code",
   "execution_count": 497,
   "metadata": {},
   "outputs": [
    {
     "name": "stdout",
     "output_type": "stream",
     "text": [
      "0.9653542569017196\n"
     ]
    }
   ],
   "source": [
    "# Data to plot precision - recall curve\n",
    "precision, recall, thresholds = precision_recall_curve(label, ano_score)\n",
    "# Use AUC function to calculate the area under the curve of precision recall curve\n",
    "auc_precision_recall = auc(recall, precision)\n",
    "print(auc_precision_recall)\n",
    "\n",
    "# convert to f score\n",
    "fscore = (2 * precision * recall) / (precision + recall)\n",
    "# replace nan to 0\n",
    "def delete_nan(x):\n",
    "    if x != x:\n",
    "        return 0 \n",
    "    else:\n",
    "        return x\n",
    "new_fscore = list(map(delete_nan, fscore))\n",
    "# locate the index of the largest f score\n",
    "ix = argmax(new_fscore)"
   ]
  },
  {
   "cell_type": "code",
   "execution_count": 498,
   "metadata": {},
   "outputs": [
    {
     "data": {
      "image/png": "[encoded data removed]",
      "text/plain": [
       "<Figure size 432x288 with 1 Axes>"
      ]
     },
     "metadata": {
      "needs_background": "light"
     },
     "output_type": "display_data"
    }
   ],
   "source": [
    "plt.plot(recall, precision, label='PRAUC:{:.3f}'.format(auc_precision_recall))\n",
    "plt.scatter(recall[ix], precision[ix], marker='o', color='black', label='Best')\n",
    "plt.xlabel(\"recall\")\n",
    "plt.ylabel(\"precision\")\n",
    "plt.legend()\n",
    "plt.show()"
   ]
  },
  {
   "cell_type": "code",
   "execution_count": 499,
   "metadata": {},
   "outputs": [
    {
     "name": "stdout",
     "output_type": "stream",
     "text": [
      "PR_AUC best threshold: 1247.2633158282715\n"
     ]
    }
   ],
   "source": [
    "best_threshold = thresholds[ix]\n",
    "print(\"PR_AUC best threshold: {}\".format(best_threshold))"
   ]
  },
  {
   "cell_type": "code",
   "execution_count": 500,
   "metadata": {},
   "outputs": [
    {
     "name": "stdout",
     "output_type": "stream",
     "text": [
      "[ True  True  True ...  True  True  True]\n",
      "accuracy score: 0.9387180597661325\n",
      "recall: 0.9723841669223688\n",
      "preicision: 0.9425936942296252\n"
     ]
    }
   ],
   "source": [
    "# Threshold를 반영한 예측값\n",
    "pred = ano_score > best_threshold\n",
    "print(pred)\n",
    "\n",
    "pred = list(map(int, pred))\n",
    "\n",
    "print(\"accuracy score: {}\" .format(accuracy_score(label, pred)))\n",
    "print(\"recall: {}\" .format(recall_score (label, pred)))\n",
    "print(\"preicision: {}\" .format(precision_score(label, pred)))"
   ]
  },
  {
   "cell_type": "code",
   "execution_count": 501,
   "metadata": {},
   "outputs": [
    {
     "data": {
      "text/plain": [
       "<AxesSubplot:title={'center':'Confusion Matrix'}, xlabel='Predicted label', ylabel='True label'>"
      ]
     },
     "execution_count": 501,
     "metadata": {},
     "output_type": "execute_result"
    },
    {
     "data": {
      "image/png": "[encoded data removed]",
      "text/plain": [
       "<Figure size 432x288 with 2 Axes>"
      ]
     },
     "metadata": {
      "needs_background": "light"
     },
     "output_type": "display_data"
    }
   ],
   "source": [
    "skplt.metrics.plot_confusion_matrix(y_true=label,y_pred=pred)"
   ]
  },
  {
   "cell_type": "code",
   "execution_count": 424,
   "metadata": {},
   "outputs": [
    {
     "data": {
      "text/plain": [
       "array(['/tf/KAIER_2022/Battery_data/one_class/test_100_samples/코팅부 경계부 불량/5_369_2.bmp',\n",
       "       '/tf/KAIER_2022/Battery_data/one_class/test_100_samples/코팅부 경계부 불량/5_602_10.bmp',\n",
       "       '/tf/KAIER_2022/Battery_data/one_class/test_100_samples/코팅부 경계부 불량/6_3130_7.bmp',\n",
       "       '/tf/KAIER_2022/Battery_data/one_class/test_100_samples/코팅부 경계부 불량/6_3351_11.bmp'],\n",
       "      dtype='<U85')"
      ]
     },
     "execution_count": 424,
     "metadata": {},
     "output_type": "execute_result"
    }
   ],
   "source": [
    "np.array(paths)[(np.array(pred)==1)&(np.array(label)==0)]"
   ]
  },
  {
   "cell_type": "code",
   "execution_count": 287,
   "metadata": {},
   "outputs": [
    {
     "data": {
      "text/plain": [
       "4618"
      ]
     },
     "execution_count": 287,
     "metadata": {},
     "output_type": "execute_result"
    }
   ],
   "source": [
    "len(ano_score)"
   ]
  },
  {
   "cell_type": "code",
   "execution_count": 538,
   "metadata": {},
   "outputs": [],
   "source": [
    "classes = np.array(classes)"
   ]
  },
  {
   "cell_type": "code",
   "execution_count": 541,
   "metadata": {},
   "outputs": [
    {
     "name": "stdout",
     "output_type": "stream",
     "text": [
      "무지부 기재연결부 59\n",
      "무지부 주름 12\n",
      "무지부 줄무늬 1394\n",
      "코팅부 경계부 불량 1359\n",
      "코팅부 기재연결부 82\n",
      "코팅부 라벨지 4\n",
      "코팅부 미코팅 454\n",
      "코팅부 백점 5\n",
      "코팅부 버블 28\n",
      "코팅부 접힘 678\n",
      "코팅부 줄무늬 247\n",
      "코팅부 찍힘 6\n",
      "코팅부 코팅불량 42\n",
      "코팅부 테이프 235\n",
      "코팅부 흑점 13\n"
     ]
    }
   ],
   "source": [
    "# score 이용하여 100개 뽑기 \n",
    "new_idx = []\n",
    "new_label = []\n",
    "for x in np.unique(classes):\n",
    "    class_idx = np.where(classes == x)[0]\n",
    "    print(x, len(class_idx))\n",
    "    class_ano_score = ano_score[class_idx]\n",
    "    \n",
    "    if x in ['코팅부 경계부 불량']:\n",
    "        # 정상 클래스는 ano score가 낮은 순서대로 가져옴 \n",
    "        sorted_idx = np.argsort(class_ano_score)[:20]\n",
    "        y_label = 0\n",
    "    elif x in ['코팅부 백점', '코팅부 라벨지']:\n",
    "        sorted_idx = np.argsort(class_ano_score)[-4:]\n",
    "        y_label = 1\n",
    "    else:\n",
    "        sorted_idx = np.argsort(class_ano_score)[-6:]\n",
    "        y_label = 1\n",
    "    \n",
    "    new_idx += class_idx[sorted_idx].tolist()\n",
    "    new_label += [y_label]*len(sorted_idx)\n",
    "    \n",
    "#     if x == '코팅부 경계부 불량':\n",
    "#         break\n"
   ]
  },
  {
   "cell_type": "code",
   "execution_count": 531,
   "metadata": {},
   "outputs": [
    {
     "name": "stderr",
     "output_type": "stream",
     "text": [
      "/usr/local/lib/python3.6/dist-packages/ipykernel_launcher.py:3: DeprecationWarning: elementwise comparison failed; this will raise an error in the future.\n",
      "  This is separate from the ipykernel package so we can avoid doing imports until\n"
     ]
    }
   ],
   "source": [
    "# new_idx = []\n",
    "# new_label = []\n",
    "# equal_idx = np.where(np.array(pred) == np.array(label))\n",
    "# for x in np.unique(classes):\n",
    "#     class_idx = np.where(classes == x)[0]\n",
    "    \n",
    "#     right_idx = class_idx[np.in1d(class_idx, equal_idx)].tolist()\n",
    "    \n",
    "#     if x in ['코팅부 경계부 불량']:\n",
    "#         right_idx = right_idx[:11]\n",
    "#     elif x in ['코팅부 백점', '코팅부 라벨지', '코팅부 찍힘']:\n",
    "#         right_idx = right_idx[:4]\n",
    "#     else:\n",
    "#         right_idx = right_idx[:7]\n",
    "    \n",
    "#     new_idx += right_idx\n",
    "#     new_label += [x]*len(right_idx)\n",
    "# #     if x == '코팅부 경계부 불량'\n",
    "#     #     break"
   ]
  },
  {
   "cell_type": "code",
   "execution_count": 503,
   "metadata": {},
   "outputs": [
    {
     "data": {
      "text/plain": [
       "100"
      ]
     },
     "execution_count": 503,
     "metadata": {},
     "output_type": "execute_result"
    }
   ],
   "source": [
    "len(new_idx)"
   ]
  },
  {
   "cell_type": "code",
   "execution_count": 394,
   "metadata": {},
   "outputs": [
    {
     "data": {
      "text/plain": [
       "array([ 0,  1,  2,  3,  4,  5,  6,  7,  8,  9, 10, 11, 12, 13, 14, 15, 16,\n",
       "       17, 18, 19, 20, 21, 22, 23, 24, 25, 26, 27, 28, 29, 30, 32, 33, 34,\n",
       "       35, 36, 37, 38, 39, 40, 41, 42, 43, 44, 45, 46, 47, 48, 49, 50, 51,\n",
       "       52, 53, 54, 55, 56, 57, 58])"
      ]
     },
     "execution_count": 394,
     "metadata": {},
     "output_type": "execute_result"
    }
   ],
   "source": [
    "class_idx[np.in1d(class_idx, equal_idx)]"
   ]
  },
  {
   "cell_type": "code",
   "execution_count": 527,
   "metadata": {},
   "outputs": [
    {
     "data": {
      "text/plain": [
       "array([694.10587532, 703.25036946, 714.09969765, 717.35089785,\n",
       "       722.40608834, 723.26283924, 723.77636757, 731.28085973,\n",
       "       731.80286577, 733.35818624, 733.51803788, 733.75403336,\n",
       "       733.76649225, 738.80659945, 738.87096382, 739.8474825 ,\n",
       "       741.47410404, 741.56944431, 742.14101871, 742.15544696])"
      ]
     },
     "execution_count": 527,
     "metadata": {},
     "output_type": "execute_result"
    }
   ],
   "source": [
    "class_ano_score[sorted_idx] # 정상"
   ]
  },
  {
   "cell_type": "code",
   "execution_count": 529,
   "metadata": {},
   "outputs": [
    {
     "data": {
      "text/plain": [
       "array([2661.90093849, 2749.36164358, 3530.26952524, 3640.43112038,\n",
       "       3920.97490675, 4250.14444047])"
      ]
     },
     "execution_count": 529,
     "metadata": {},
     "output_type": "execute_result"
    }
   ],
   "source": [
    "class_ano_score[sorted_idx] # 코팅부 흑점"
   ]
  },
  {
   "cell_type": "code",
   "execution_count": 545,
   "metadata": {},
   "outputs": [
    {
     "name": "stdout",
     "output_type": "stream",
     "text": [
      "1.0\n"
     ]
    }
   ],
   "source": [
    "print(roc_auc_score(new_label, ano_score[new_idx]))\n",
    "# ano_score[new_idx], new_label"
   ]
  },
  {
   "cell_type": "code",
   "execution_count": 293,
   "metadata": {},
   "outputs": [
    {
     "data": {
      "text/plain": [
       "array([2645.2312984 , 3116.03903403, 3461.09972491, 3480.3896733 ,\n",
       "       3944.52345486, 4261.8033418 ])"
      ]
     },
     "execution_count": 293,
     "metadata": {},
     "output_type": "execute_result"
    }
   ],
   "source": [
    "class_ano_score[sorted_idx]"
   ]
  },
  {
   "cell_type": "code",
   "execution_count": 295,
   "metadata": {},
   "outputs": [
    {
     "data": {
      "text/plain": [
       "100"
      ]
     },
     "execution_count": 295,
     "metadata": {},
     "output_type": "execute_result"
    }
   ],
   "source": [
    "len(new_idx)"
   ]
  },
  {
   "cell_type": "code",
   "execution_count": 521,
   "metadata": {},
   "outputs": [],
   "source": [
    "# 폴더 만들기 \n",
    "normal_names = ['코팅부 경계부 불량', '무지부 줄무늬', '코팅부 접힘', '코팅부 미코팅', '코팅부 줄무늬', '코팅부 테이프', \\\n",
    "                     '코팅부 기재연결부', '무지부 기재연결부', '코팅부 코팅불량']\n",
    "abnormal_names = ['코팅부 버블', '코팅부 흑점', '무지부 주름', '코팅부 찍힘', '코팅부 백점', '코팅부 라벨지']\n",
    "\n",
    "folder_names = normal_names + abnormal_names\n",
    "for fold in folder_names:\n",
    "    os.makedirs(f'/tf/KAIER_2022/Battery_data/one_class/test_100_samples_2/{fold}')"
   ]
  },
  {
   "cell_type": "code",
   "execution_count": 103,
   "metadata": {},
   "outputs": [
    {
     "data": {
      "text/plain": [
       "'무지부 기재연결부'"
      ]
     },
     "execution_count": 103,
     "metadata": {},
     "output_type": "execute_result"
    }
   ],
   "source": [
    "x.split('/')[-2]"
   ]
  },
  {
   "cell_type": "code",
   "execution_count": 546,
   "metadata": {},
   "outputs": [],
   "source": [
    "for x in np.array(paths)[new_idx]:\n",
    "    class_ = x.split('/')[-2]\n",
    "    file = x.split('/')[-1]\n",
    "    shutil.copy(x, f'/tf/KAIER_2022/Battery_data/one_class/test_100_samples_2/{class_}/{file}')"
   ]
  },
  {
   "cell_type": "code",
   "execution_count": 466,
   "metadata": {},
   "outputs": [
    {
     "data": {
      "text/plain": [
       "'/tf/KAIER_2022/Battery_data/one_class/test/무지부 주름/4_12355_1.bmp'"
      ]
     },
     "execution_count": 466,
     "metadata": {},
     "output_type": "execute_result"
    }
   ],
   "source": [
    "x"
   ]
  },
  {
   "cell_type": "code",
   "execution_count": 431,
   "metadata": {},
   "outputs": [
    {
     "data": {
      "text/plain": [
       "100"
      ]
     },
     "execution_count": 431,
     "metadata": {},
     "output_type": "execute_result"
    }
   ],
   "source": [
    "len(paths)"
   ]
  },
  {
   "cell_type": "code",
   "execution_count": 244,
   "metadata": {},
   "outputs": [
    {
     "data": {
      "text/plain": [
       "100"
      ]
     },
     "execution_count": 244,
     "metadata": {},
     "output_type": "execute_result"
    }
   ],
   "source": [
    "len(new_idx)"
   ]
  },
  {
   "cell_type": "code",
   "execution_count": 89,
   "metadata": {},
   "outputs": [
    {
     "data": {
      "text/plain": [
       "[57, 23, 19, 38, 54, 27]"
      ]
     },
     "execution_count": 89,
     "metadata": {},
     "output_type": "execute_result"
    }
   ],
   "source": [
    "class_idx[sorted_idx].tolist()"
   ]
  },
  {
   "cell_type": "code",
   "execution_count": 77,
   "metadata": {},
   "outputs": [
    {
     "data": {
      "text/plain": [
       "array([31, 45, 13, 14, 10,  3, 12, 32, 53,  4, 44, 39, 56,  1, 17, 18, 51,\n",
       "       22, 41, 40, 29, 16, 50, 46,  2, 52, 47,  5, 48, 49, 35,  8, 26, 21,\n",
       "       15, 43,  9, 25, 55, 37,  0, 11, 24, 28, 36,  7, 42, 20, 58, 30, 34,\n",
       "        6, 33, 57, 23, 19, 38, 54, 27])"
      ]
     },
     "execution_count": 77,
     "metadata": {},
     "output_type": "execute_result"
    }
   ],
   "source": [
    "np.argsort(class_ano_score)  # score가 작은 순서대로 "
   ]
  },
  {
   "cell_type": "code",
   "execution_count": 80,
   "metadata": {},
   "outputs": [
    {
     "data": {
      "text/plain": [
       "1297.3591038482264"
      ]
     },
     "execution_count": 80,
     "metadata": {},
     "output_type": "execute_result"
    }
   ],
   "source": [
    "class_ano_score[31]"
   ]
  },
  {
   "cell_type": "code",
   "execution_count": 68,
   "metadata": {},
   "outputs": [
    {
     "data": {
      "text/plain": [
       "(array([ 0,  1,  2,  3,  4,  5,  6,  7,  8,  9, 10, 11, 12, 13, 14, 15, 16,\n",
       "        17, 18, 19, 20, 21, 22, 23, 24, 25, 26, 27, 28, 29, 30, 31, 32, 33,\n",
       "        34, 35, 36, 37, 38, 39, 40, 41, 42, 43, 44, 45, 46, 47, 48, 49, 50,\n",
       "        51, 52, 53, 54, 55, 56, 57, 58]),)"
      ]
     },
     "execution_count": 68,
     "metadata": {},
     "output_type": "execute_result"
    }
   ],
   "source": [
    "class_idx"
   ]
  },
  {
   "cell_type": "markdown",
   "metadata": {},
   "source": [
    "## visualize anomaly score"
   ]
  },
  {
   "cell_type": "code",
   "execution_count": 183,
   "metadata": {},
   "outputs": [
    {
     "data": {
      "text/plain": [
       "array([2308.70051471,  784.16123847,  848.73906544,  905.86753596,\n",
       "        795.92068338,  789.38830771,  996.20984102,  847.70837251,\n",
       "        757.55157886,  801.8608508 ,  754.08585671,  763.12339638,\n",
       "        712.96878988, 2825.02962035,  756.15837784, 1206.73301576,\n",
       "        905.98520089,  801.21901429,  763.31724229, 3711.88149298])"
      ]
     },
     "execution_count": 183,
     "metadata": {},
     "output_type": "execute_result"
    }
   ],
   "source": [
    "ano_score[np.array(label)==0]"
   ]
  },
  {
   "cell_type": "code",
   "execution_count": 425,
   "metadata": {},
   "outputs": [
    {
     "data": {
      "image/png": "[encoded data removed]",
      "text/plain": [
       "<Figure size 432x288 with 1 Axes>"
      ]
     },
     "metadata": {
      "needs_background": "light"
     },
     "output_type": "display_data"
    }
   ],
   "source": [
    "plt.hist([ano_score[np.array(label) == 0], ano_score[np.array(label) == 1]],\n",
    "          bins=100, density=True, stacked=True,\n",
    "          label=[\"Normal\", \"Abnormal\"])\n",
    "plt.title(\"Discrete distributions of anomaly scores\")\n",
    "plt.xlabel(\"Anomaly scores A(x)\")\n",
    "plt.ylabel(\"h\")\n",
    "plt.legend()\n",
    "plt.vlines(best_thresh, 0, 0.0025, color='red', linestyle='--', linewidth=2)\n",
    "plt.show()"
   ]
  },
  {
   "cell_type": "code",
   "execution_count": 18,
   "metadata": {},
   "outputs": [
    {
     "name": "stdout",
     "output_type": "stream",
     "text": [
      "Precision:  0.2090032154340836\n",
      "Recall :  0.9558823529411765\n",
      "Accuracy:  0.8882405745062837\n"
     ]
    }
   ],
   "source": [
    "Pre_cision = TP / (TP+FP)\n",
    "Re_call = TP / (TP + FN)\n",
    "Accu_racy = (TP + TN) / (TP + FN + FP + TN)\n",
    "\n",
    "print(\"Precision: \", Pre_cision)\n",
    "print(\"Recall : \", Re_call)\n",
    "print(\"Accuracy: \", Accu_racy)"
   ]
  },
  {
   "cell_type": "code",
   "execution_count": 45,
   "metadata": {},
   "outputs": [],
   "source": [
    "#                예측 N(정상)    예측 P(이상)\n",
    "# 실제 N(정상)  True Negative    False Positive\n",
    "# 실제 P(이상)  False Negative   True Positive\n",
    "\n",
    "# True Positive Rate = TP / (FN + TP) : 제대로 예측한 positive / 실제 positive, 실제 이상 이미지 중 얼마나 많이 잡아냈느냐\n",
    "# False Positive Rate = FP / (TN + FP) : 정상인데 이상으로 예측한 것 / 실제 negative, 실제 정상 이미지 중 이상으로 예측한 비율"
   ]
  },
  {
   "cell_type": "code",
   "execution_count": 101,
   "metadata": {},
   "outputs": [
    {
     "name": "stdout",
     "output_type": "stream",
     "text": [
      "550\n",
      "400\n"
     ]
    }
   ],
   "source": [
    "DATASET_PATH = '/workspace/CAMPUS/TOFU_Box/'\n",
    "\n",
    "mode = 'test'\n",
    "fpattern1 = os.path.join(DATASET_PATH,  f'{mode}/NG/*/*.jpg')\n",
    "fpaths1 = sorted(glob(fpattern1))\n",
    "\n",
    "fpattern2 = os.path.join(DATASET_PATH,  f'{mode}/OK/*/*.jpg')\n",
    "fpaths2 = sorted(glob(fpattern2))\n",
    "\n",
    "print(len(fpaths1))\n",
    "print(len(fpaths2))"
   ]
  },
  {
   "cell_type": "code",
   "execution_count": null,
   "metadata": {},
   "outputs": [],
   "source": []
  },
  {
   "cell_type": "code",
   "execution_count": null,
   "metadata": {},
   "outputs": [],
   "source": []
  }
 ],
 "metadata": {
  "kernelspec": {
   "display_name": "Python 3",
   "language": "python",
   "name": "python3"
  },
  "language_info": {
   "codemirror_mode": {
    "name": "ipython",
    "version": 3
   },
   "file_extension": ".py",
   "mimetype": "text/x-python",
   "name": "python",
   "nbconvert_exporter": "python",
   "pygments_lexer": "ipython3",
   "version": "3.6.9"
  }
 },
 "nbformat": 4,
 "nbformat_minor": 5
}
