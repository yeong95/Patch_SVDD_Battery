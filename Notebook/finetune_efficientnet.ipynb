{
 "cells": [
  {
   "cell_type": "code",
   "execution_count": 1,
   "metadata": {},
   "outputs": [],
   "source": [
    "# model\n",
    "import torch\n",
    "import torch.nn as nn\n",
    "import torch.nn.functional as F\n",
    "from torchsummary import summary\n",
    "from torch import optim\n",
    "\n",
    "# dataset and transformation\n",
    "from torchvision import datasets\n",
    "import torchvision.transforms as transforms\n",
    "from torch.utils.data import DataLoader\n",
    "from torchvision import models\n",
    "import os\n",
    "\n",
    "# display images\n",
    "from torchvision import utils\n",
    "import matplotlib.pyplot as plt\n",
    "import torchvision\n",
    "%matplotlib inline\n",
    "\n",
    "# utils\n",
    "import numpy as np\n",
    "from torchsummary import summary\n",
    "import time\n",
    "import copy\n",
    "\n",
    "from sklearn.model_selection import train_test_split\n",
    "\n",
    "from torch.utils.data import Subset"
   ]
  },
  {
   "cell_type": "code",
   "execution_count": 2,
   "metadata": {},
   "outputs": [
    {
     "name": "stdout",
     "output_type": "stream",
     "text": [
      "528\n",
      "Loaded pretrained weights for efficientnet-b6\n"
     ]
    }
   ],
   "source": [
    "from efficientnet_pytorch import EfficientNet\n",
    "model_name = 'efficientnet-b6'  \n",
    "\n",
    "image_size = EfficientNet.get_image_size(model_name)\n",
    "print(image_size)\n",
    "model = EfficientNet.from_pretrained(model_name, num_classes=15)"
   ]
  },
  {
   "cell_type": "code",
   "execution_count": 3,
   "metadata": {},
   "outputs": [],
   "source": [
    "path_train = '/tf/KAIER_2022/Battery_data/origin_data/'\n",
    "# path_valid =  '/tf/KAIER_2022/Battery_data/origin_data/valid'\n",
    "\n",
    "train_dataset = torchvision.datasets.ImageFolder(root=path_train, transform=transforms.Compose([ \n",
    "                                                transforms.Resize(224), \n",
    "                                                transforms.ToTensor() ])) \n",
    "\n",
    "\n",
    "train_dataloader = torch.utils.data.DataLoader(train_dataset, batch_size=64, shuffle=True)\n",
    "\n",
    "# valid_dataset = torchvision.datasets.ImageFolder(root=path_valid, transform=transforms.Compose([ \n",
    "#                                                 transforms.Resize(224), \n",
    "#                                                 transforms.ToTensor() ])) \n",
    "\n",
    "\n",
    "# valid_dataloader = torch.utils.data.DataLoader(valid_dataset, batch_size=4, shuffle=True)\n",
    "\n",
    "\n",
    "# test_dataset = torchvision.datasets.ImageFolder(root=path_test, transform=transforms.Compose([ \n",
    "#                                                 transforms.Resize(224), \n",
    "#                                                 transforms.ToTensor() ])) \n",
    "\n",
    "\n",
    "# test_dataloader = torch.utils.data.DataLoader(test_dataset, batch_size=4, shuffle=True)"
   ]
  },
  {
   "cell_type": "code",
   "execution_count": 4,
   "metadata": {},
   "outputs": [
    {
     "name": "stdout",
     "output_type": "stream",
     "text": [
      "[ 0  1  2  3  4  5  6  7  8  9 10 11 12 13 14]\n"
     ]
    }
   ],
   "source": [
    "print(np.unique(train_dataset.targets))\n",
    "# print(np.unique(valid_dataset.targets))"
   ]
  },
  {
   "cell_type": "code",
   "execution_count": 5,
   "metadata": {
    "scrolled": true
   },
   "outputs": [
    {
     "data": {
      "text/plain": [
       "(torch.Size([64, 3, 224, 224]), torch.Size([64]))"
      ]
     },
     "execution_count": 5,
     "metadata": {},
     "output_type": "execute_result"
    }
   ],
   "source": [
    "images, labels = next(iter(train_dataloader))\n",
    "images.shape, labels.shape"
   ]
  },
  {
   "cell_type": "code",
   "execution_count": 6,
   "metadata": {},
   "outputs": [
    {
     "name": "stdout",
     "output_type": "stream",
     "text": [
      "21717\n"
     ]
    }
   ],
   "source": [
    "print(len(train_dataset))\n",
    "# print(len(test_dataset))"
   ]
  },
  {
   "cell_type": "code",
   "execution_count": 7,
   "metadata": {},
   "outputs": [],
   "source": [
    "train_idx, valid_idx = train_test_split(range(len(train_dataset)), stratify=train_dataset.targets, test_size=0.3, random_state=42)"
   ]
  },
  {
   "cell_type": "code",
   "execution_count": 8,
   "metadata": {},
   "outputs": [
    {
     "name": "stdout",
     "output_type": "stream",
     "text": [
      "15201\n",
      "6516\n"
     ]
    }
   ],
   "source": [
    "print(len(train_idx))\n",
    "print(len(valid_idx))"
   ]
  },
  {
   "cell_type": "code",
   "execution_count": 9,
   "metadata": {},
   "outputs": [],
   "source": [
    "trainset = Subset(train_dataset, train_idx)\n",
    "validset = Subset(train_dataset, valid_idx)"
   ]
  },
  {
   "cell_type": "code",
   "execution_count": 10,
   "metadata": {},
   "outputs": [
    {
     "name": "stdout",
     "output_type": "stream",
     "text": [
      "15201\n",
      "6516\n"
     ]
    }
   ],
   "source": [
    "print(len(trainset))\n",
    "print(len(validset))"
   ]
  },
  {
   "cell_type": "code",
   "execution_count": 11,
   "metadata": {},
   "outputs": [
    {
     "data": {
      "text/plain": [
       "(array([ 0,  1,  2,  3,  4,  5,  6,  7,  8,  9, 10, 11, 12, 13, 14]),\n",
       " array([ 102,   20, 2438, 9508,  143,    7,  794,    8,   48, 1186,  431,\n",
       "          10,   73,  411,   22]))"
      ]
     },
     "execution_count": 11,
     "metadata": {},
     "output_type": "execute_result"
    }
   ],
   "source": [
    "np.unique(np.array(train_dataset.targets)[train_idx], return_counts=True)"
   ]
  },
  {
   "cell_type": "code",
   "execution_count": 12,
   "metadata": {},
   "outputs": [
    {
     "data": {
      "text/plain": [
       "{'무지부 기재연결부': 0,\n",
       " '무지부 주름': 1,\n",
       " '무지부 줄무늬': 2,\n",
       " '코팅부 경계부 불량': 3,\n",
       " '코팅부 기재연결부': 4,\n",
       " '코팅부 라벨지': 5,\n",
       " '코팅부 미코팅': 6,\n",
       " '코팅부 백점': 7,\n",
       " '코팅부 버블': 8,\n",
       " '코팅부 접힘': 9,\n",
       " '코팅부 줄무늬': 10,\n",
       " '코팅부 찍힘': 11,\n",
       " '코팅부 코팅불량': 12,\n",
       " '코팅부 테이프': 13,\n",
       " '코팅부 흑점': 14}"
      ]
     },
     "execution_count": 12,
     "metadata": {},
     "output_type": "execute_result"
    }
   ],
   "source": [
    "train_dataset.class_to_idx"
   ]
  },
  {
   "cell_type": "code",
   "execution_count": 13,
   "metadata": {},
   "outputs": [],
   "source": [
    "batch_size = 32\n",
    "\n",
    "dataloaders = {}\n",
    "\n",
    "dataloaders['train'] = torch.utils.data.DataLoader(trainset, batch_size=batch_size,\n",
    "                                         shuffle=True, num_workers=0)\n",
    "\n",
    "dataloaders['valid'] = torch.utils.data.DataLoader(trainset, batch_size=batch_size,\n",
    "                                                   shuffle=False, num_workers=0)\n"
   ]
  },
  {
   "cell_type": "code",
   "execution_count": 14,
   "metadata": {},
   "outputs": [],
   "source": [
    "def train_model(model, criterion, optimizer, scheduler, num_epochs=25):\n",
    "    since = time.time()\n",
    "\n",
    "    best_model_wts = copy.deepcopy(model.state_dict())\n",
    "    best_acc = 0.0\n",
    "    train_loss, train_acc, valid_loss, valid_acc = [], [], [], []\n",
    "    \n",
    "    for epoch in range(num_epochs):\n",
    "        print('Epoch {}/{}'.format(epoch, num_epochs - 1))\n",
    "        print('-' * 10)\n",
    "\n",
    "        # Each epoch has a training and validation phase\n",
    "        for phase in ['train', 'valid']:\n",
    "            if phase == 'train':\n",
    "                model.train()  # Set model to training mode\n",
    "            else:\n",
    "                model.eval()   # Set model to evaluate mode\n",
    "\n",
    "            running_loss, running_corrects, num_cnt = 0.0, 0, 0\n",
    "            \n",
    "            # Iterate over data.\n",
    "            for inputs, labels in dataloaders[phase]:\n",
    "                inputs = inputs.to(device)\n",
    "                labels = labels.to(device)\n",
    "\n",
    "                # zero the parameter gradients\n",
    "                optimizer.zero_grad()\n",
    "\n",
    "                # forward\n",
    "                # track history if only in train\n",
    "                with torch.set_grad_enabled(phase == 'train'):\n",
    "                    outputs = model(inputs)\n",
    "                    _, preds = torch.max(outputs, 1)\n",
    "                    loss = criterion(outputs, labels)\n",
    "\n",
    "                    # backward + optimize only if in training phase\n",
    "                    if phase == 'train':\n",
    "                        loss.backward()\n",
    "                        optimizer.step()\n",
    "\n",
    "                # statistics\n",
    "                running_loss += loss.item() * inputs.size(0)\n",
    "                running_corrects += torch.sum(preds == labels.data)\n",
    "                num_cnt += len(labels)\n",
    "            if phase == 'train':\n",
    "                scheduler.step()\n",
    "            \n",
    "            epoch_loss = float(running_loss / num_cnt)\n",
    "            epoch_acc  = float((running_corrects.double() / num_cnt).cpu()*100)\n",
    "            \n",
    "            if phase == 'train':\n",
    "                train_loss.append(epoch_loss)\n",
    "                train_acc.append(epoch_acc)\n",
    "            else:\n",
    "                valid_loss.append(epoch_loss)\n",
    "                valid_acc.append(epoch_acc)\n",
    "            print('{} Loss: {:.2f} Acc: {:.1f}'.format(phase, epoch_loss, epoch_acc))\n",
    "           \n",
    "            # deep copy the model\n",
    "            if phase == 'valid' and epoch_acc > best_acc:\n",
    "                best_idx = epoch\n",
    "                best_acc = epoch_acc\n",
    "                best_model_wts = copy.deepcopy(model.state_dict())\n",
    "#                 best_model_wts = copy.deepcopy(model.module.state_dict())\n",
    "                print('==> best model saved - %d / %.1f'%(best_idx, best_acc))\n",
    "\n",
    "    time_elapsed = time.time() - since\n",
    "    print('Training complete in {:.0f}m {:.0f}s'.format(time_elapsed // 60, time_elapsed % 60))\n",
    "    print('Best valid Acc: %d - %.1f' %(best_idx, best_acc))\n",
    "\n",
    "    # load best model weights\n",
    "    model.load_state_dict(best_model_wts)\n",
    "    torch.save(model.state_dict(), 'save/finetune/efficientnetb6_15class.pt')\n",
    "    print('model saved')\n",
    "    return model, best_idx, best_acc, train_loss, train_acc, valid_loss, valid_acc"
   ]
  },
  {
   "cell_type": "code",
   "execution_count": 15,
   "metadata": {},
   "outputs": [],
   "source": [
    "device = torch.device(\"cuda:1\" if torch.cuda.is_available() else \"cpu\")  # set gpu\n",
    "\n",
    "model = model.to(device)\n",
    "\n",
    "criterion = nn.CrossEntropyLoss()\n",
    "\n",
    "optimizer_ft = optim.SGD(model.parameters(), \n",
    "                         lr = 0.01,\n",
    "                         momentum=0.9,\n",
    "                         weight_decay=1e-4)\n",
    "\n",
    "lmbda = lambda epoch: 0.98739\n",
    "exp_lr_scheduler = optim.lr_scheduler.MultiplicativeLR(optimizer_ft, lr_lambda=lmbda)"
   ]
  },
  {
   "cell_type": "code",
   "execution_count": 16,
   "metadata": {},
   "outputs": [
    {
     "name": "stdout",
     "output_type": "stream",
     "text": [
      "Epoch 0/49\n",
      "----------\n",
      "train Loss: 0.17 Acc: 96.0\n",
      "valid Loss: 0.04 Acc: 99.2\n",
      "==> best model saved - 0 / 99.2\n",
      "Epoch 1/49\n",
      "----------\n",
      "train Loss: 0.03 Acc: 99.2\n",
      "valid Loss: 0.01 Acc: 99.8\n",
      "==> best model saved - 1 / 99.8\n",
      "Epoch 2/49\n",
      "----------\n",
      "train Loss: 0.01 Acc: 99.7\n",
      "valid Loss: 0.01 Acc: 99.9\n",
      "==> best model saved - 2 / 99.9\n",
      "Epoch 3/49\n",
      "----------\n",
      "train Loss: 0.01 Acc: 99.8\n",
      "valid Loss: 0.00 Acc: 99.9\n",
      "==> best model saved - 3 / 99.9\n",
      "Epoch 4/49\n",
      "----------\n",
      "train Loss: 0.01 Acc: 99.8\n",
      "valid Loss: 0.00 Acc: 99.9\n",
      "Epoch 5/49\n",
      "----------\n",
      "train Loss: 0.00 Acc: 99.9\n",
      "valid Loss: 0.00 Acc: 100.0\n",
      "==> best model saved - 5 / 100.0\n",
      "Epoch 6/49\n",
      "----------\n",
      "train Loss: 0.01 Acc: 99.9\n",
      "valid Loss: 0.00 Acc: 100.0\n",
      "Epoch 7/49\n",
      "----------\n",
      "train Loss: 0.00 Acc: 99.9\n",
      "valid Loss: 0.00 Acc: 100.0\n",
      "Epoch 8/49\n",
      "----------\n",
      "train Loss: 0.00 Acc: 99.9\n",
      "valid Loss: 0.00 Acc: 99.9\n",
      "Epoch 9/49\n",
      "----------\n",
      "train Loss: 0.00 Acc: 99.9\n",
      "valid Loss: 0.00 Acc: 99.9\n",
      "Epoch 10/49\n",
      "----------\n",
      "train Loss: 0.00 Acc: 99.9\n",
      "valid Loss: 0.00 Acc: 100.0\n",
      "Epoch 11/49\n",
      "----------\n",
      "train Loss: 0.00 Acc: 99.9\n",
      "valid Loss: 0.00 Acc: 100.0\n",
      "Epoch 12/49\n",
      "----------\n",
      "train Loss: 0.00 Acc: 99.9\n",
      "valid Loss: 0.00 Acc: 100.0\n",
      "Epoch 13/49\n",
      "----------\n",
      "train Loss: 0.00 Acc: 99.9\n",
      "valid Loss: 0.00 Acc: 100.0\n",
      "Epoch 14/49\n",
      "----------\n",
      "train Loss: 0.00 Acc: 99.9\n",
      "valid Loss: 0.00 Acc: 100.0\n",
      "Epoch 15/49\n",
      "----------\n",
      "train Loss: 0.00 Acc: 100.0\n",
      "valid Loss: 0.00 Acc: 100.0\n",
      "Epoch 16/49\n",
      "----------\n",
      "train Loss: 0.00 Acc: 99.9\n",
      "valid Loss: 0.00 Acc: 100.0\n",
      "Epoch 17/49\n",
      "----------\n",
      "train Loss: 0.00 Acc: 99.9\n",
      "valid Loss: 0.00 Acc: 100.0\n",
      "Epoch 18/49\n",
      "----------\n",
      "train Loss: 0.00 Acc: 99.9\n",
      "valid Loss: 0.00 Acc: 100.0\n",
      "Epoch 19/49\n",
      "----------\n",
      "train Loss: 0.00 Acc: 100.0\n",
      "valid Loss: 0.00 Acc: 100.0\n",
      "Epoch 20/49\n",
      "----------\n",
      "train Loss: 0.00 Acc: 100.0\n",
      "valid Loss: 0.00 Acc: 100.0\n",
      "Epoch 21/49\n",
      "----------\n",
      "train Loss: 0.00 Acc: 99.9\n",
      "valid Loss: 0.00 Acc: 100.0\n",
      "Epoch 22/49\n",
      "----------\n",
      "train Loss: 0.00 Acc: 99.9\n",
      "valid Loss: 0.00 Acc: 100.0\n",
      "Epoch 23/49\n",
      "----------\n",
      "train Loss: 0.00 Acc: 99.9\n",
      "valid Loss: 0.00 Acc: 100.0\n",
      "Epoch 24/49\n",
      "----------\n",
      "train Loss: 0.00 Acc: 99.9\n",
      "valid Loss: 0.00 Acc: 100.0\n",
      "Epoch 25/49\n",
      "----------\n",
      "train Loss: 0.00 Acc: 99.9\n",
      "valid Loss: 0.00 Acc: 100.0\n",
      "Epoch 26/49\n",
      "----------\n",
      "train Loss: 0.00 Acc: 99.9\n",
      "valid Loss: 0.00 Acc: 100.0\n",
      "Epoch 27/49\n",
      "----------\n",
      "train Loss: 0.00 Acc: 99.9\n",
      "valid Loss: 0.00 Acc: 100.0\n",
      "Epoch 28/49\n",
      "----------\n",
      "train Loss: 0.00 Acc: 99.9\n",
      "valid Loss: 0.00 Acc: 100.0\n",
      "Epoch 29/49\n",
      "----------\n",
      "train Loss: 0.00 Acc: 99.9\n",
      "valid Loss: 0.00 Acc: 100.0\n",
      "Epoch 30/49\n",
      "----------\n",
      "train Loss: 0.00 Acc: 99.9\n",
      "valid Loss: 0.00 Acc: 100.0\n",
      "Epoch 31/49\n",
      "----------\n",
      "train Loss: 0.00 Acc: 99.9\n",
      "valid Loss: 0.00 Acc: 100.0\n",
      "Epoch 32/49\n",
      "----------\n",
      "train Loss: 0.00 Acc: 99.9\n",
      "valid Loss: 0.00 Acc: 100.0\n",
      "Epoch 33/49\n",
      "----------\n",
      "train Loss: 0.00 Acc: 99.9\n",
      "valid Loss: 0.00 Acc: 100.0\n",
      "Epoch 34/49\n",
      "----------\n",
      "train Loss: 0.00 Acc: 99.9\n",
      "valid Loss: 0.00 Acc: 100.0\n",
      "Epoch 35/49\n",
      "----------\n",
      "train Loss: 0.00 Acc: 99.9\n",
      "valid Loss: 0.00 Acc: 100.0\n",
      "Epoch 36/49\n",
      "----------\n",
      "train Loss: 0.00 Acc: 99.9\n",
      "valid Loss: 0.00 Acc: 100.0\n",
      "Epoch 37/49\n",
      "----------\n",
      "train Loss: 0.00 Acc: 99.9\n",
      "valid Loss: 0.00 Acc: 100.0\n",
      "Epoch 38/49\n",
      "----------\n",
      "train Loss: 0.00 Acc: 99.9\n",
      "valid Loss: 0.00 Acc: 100.0\n",
      "Epoch 39/49\n",
      "----------\n",
      "train Loss: 0.00 Acc: 99.9\n",
      "valid Loss: 0.00 Acc: 100.0\n",
      "Epoch 40/49\n",
      "----------\n",
      "train Loss: 0.00 Acc: 99.9\n",
      "valid Loss: 0.00 Acc: 100.0\n",
      "Epoch 41/49\n",
      "----------\n",
      "train Loss: 0.00 Acc: 99.9\n",
      "valid Loss: 0.00 Acc: 100.0\n",
      "Epoch 42/49\n",
      "----------\n",
      "train Loss: 0.00 Acc: 99.9\n",
      "valid Loss: 0.00 Acc: 100.0\n",
      "Epoch 43/49\n",
      "----------\n",
      "train Loss: 0.00 Acc: 99.9\n",
      "valid Loss: 0.00 Acc: 100.0\n",
      "Epoch 44/49\n",
      "----------\n",
      "train Loss: 0.00 Acc: 99.9\n",
      "valid Loss: 0.00 Acc: 100.0\n",
      "Epoch 45/49\n",
      "----------\n",
      "train Loss: 0.00 Acc: 99.9\n",
      "valid Loss: 0.00 Acc: 100.0\n",
      "Epoch 46/49\n",
      "----------\n",
      "train Loss: 0.00 Acc: 99.9\n",
      "valid Loss: 0.00 Acc: 100.0\n",
      "Epoch 47/49\n",
      "----------\n",
      "train Loss: 0.00 Acc: 99.9\n",
      "valid Loss: 0.00 Acc: 100.0\n",
      "Epoch 48/49\n",
      "----------\n",
      "train Loss: 0.00 Acc: 99.9\n",
      "valid Loss: 0.00 Acc: 100.0\n",
      "Epoch 49/49\n",
      "----------\n",
      "train Loss: 0.00 Acc: 99.9\n",
      "valid Loss: 0.00 Acc: 100.0\n",
      "Training complete in 381m 25s\n",
      "Best valid Acc: 5 - 100.0\n",
      "model saved\n"
     ]
    }
   ],
   "source": [
    "model, best_idx, best_acc, train_loss, train_acc, valid_loss, valid_acc = train_model(model,criterion, optimizer_ft, exp_lr_scheduler, num_epochs=50)"
   ]
  },
  {
   "cell_type": "code",
   "execution_count": 17,
   "metadata": {},
   "outputs": [
    {
     "name": "stdout",
     "output_type": "stream",
     "text": [
      "best model : 5 - 100 / 0.0\n"
     ]
    },
    {
     "data": {
      "image/png": "[encoded data removed]",
      "text/plain": [
       "<Figure size 432x288 with 2 Axes>"
      ]
     },
     "metadata": {
      "needs_background": "light"
     },
     "output_type": "display_data"
    }
   ],
   "source": [
    "## 결과 그래프 그리기\n",
    "print('best model : %d - %1.f / %.1f'%(best_idx, valid_acc[best_idx], valid_loss[best_idx]))\n",
    "fig, ax1 = plt.subplots()\n",
    "\n",
    "ax1.plot(train_acc, 'b-')\n",
    "ax1.plot(valid_acc, 'r-')\n",
    "plt.plot(best_idx, valid_acc[best_idx], 'ro')\n",
    "ax1.set_xlabel('epoch')\n",
    "# Make the y-axis label, ticks and tick labels match the line color.\n",
    "ax1.set_ylabel('acc', color='k')\n",
    "ax1.tick_params('y', colors='k')\n",
    "\n",
    "ax2 = ax1.twinx()\n",
    "ax2.plot(train_loss, 'g-')\n",
    "ax2.plot(valid_loss, 'k-')\n",
    "plt.plot(best_idx, valid_loss[best_idx], 'ro')\n",
    "ax2.set_ylabel('loss', color='k')\n",
    "ax2.tick_params('y', colors='k')\n",
    "\n",
    "fig.tight_layout()\n",
    "plt.show()"
   ]
  }
 ],
 "metadata": {
  "kernelspec": {
   "display_name": "Python 3",
   "language": "python",
   "name": "python3"
  },
  "language_info": {
   "codemirror_mode": {
    "name": "ipython",
    "version": 3
   },
   "file_extension": ".py",
   "mimetype": "text/x-python",
   "name": "python",
   "nbconvert_exporter": "python",
   "pygments_lexer": "ipython3",
   "version": "3.6.9"
  }
 },
 "nbformat": 4,
 "nbformat_minor": 4
}
