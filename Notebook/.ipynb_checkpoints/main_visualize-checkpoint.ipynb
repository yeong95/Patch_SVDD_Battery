{
 "cells": [
  {
   "cell_type": "code",
   "execution_count": 1,
   "metadata": {},
   "outputs": [],
   "source": [
    "import matplotlib.pyplot as plt\n",
    "from codes import mvtecad\n",
    "from codes import battery\n",
    "from tqdm import tqdm\n",
    "from codes.utils import resize, makedirpath, save_pickle, load_pickle\n",
    "import time\n",
    "import os\n",
    "import numpy as np\n",
    "import argparse\n"
   ]
  },
  {
   "cell_type": "code",
   "execution_count": 30,
   "metadata": {},
   "outputs": [],
   "source": [
    "test_maps_32_list = []\n",
    "test_maps_64_list = []\n",
    "for i in range(1,7):\n",
    "    test_maps_32 = np.load(f\"save/무지부_코팅부/3_13_efficientnet_b6/test_maps_32_{i}.npy\")\n",
    "    test_maps_64 = np.load(f\"save/무지부_코팅부/3_13_efficientnet_b6/test_maps_64_{i}.npy\")\n",
    "    test_maps_32_list.append(test_maps_32)\n",
    "    test_maps_64_list.append(test_maps_64)"
   ]
  },
  {
   "cell_type": "code",
   "execution_count": 31,
   "metadata": {},
   "outputs": [
    {
     "data": {
      "text/plain": [
       "(1831, 256, 256)"
      ]
     },
     "execution_count": 31,
     "metadata": {},
     "output_type": "execute_result"
    }
   ],
   "source": [
    "test_maps_32_list[1].shape"
   ]
  },
  {
   "cell_type": "code",
   "execution_count": 32,
   "metadata": {},
   "outputs": [],
   "source": [
    "argmin_array = np.load(\"argmin_array.npy\")"
   ]
  },
  {
   "cell_type": "code",
   "execution_count": 33,
   "metadata": {},
   "outputs": [
    {
     "data": {
      "text/plain": [
       "1831"
      ]
     },
     "execution_count": 33,
     "metadata": {},
     "output_type": "execute_result"
    }
   ],
   "source": [
    "len(argmin_array)"
   ]
  },
  {
   "cell_type": "code",
   "execution_count": 38,
   "metadata": {},
   "outputs": [],
   "source": [
    "maps = []\n",
    "for i, x in enumerate(argmin_array):\n",
    "    test_maps_32 = test_maps_32_list[x-1][i]\n",
    "    test_maps_64 = test_maps_64_list[x-1][i]\n",
    "    \n",
    "    maps.append(test_maps_32*test_maps_64)\n",
    "    \n",
    "#     break"
   ]
  },
  {
   "cell_type": "code",
   "execution_count": 41,
   "metadata": {},
   "outputs": [],
   "source": [
    "maps = np.array(maps)"
   ]
  },
  {
   "cell_type": "code",
   "execution_count": 42,
   "metadata": {},
   "outputs": [],
   "source": [
    "# DATASET_PATH = f'/tf/KAIER_2022/Battery_data/{dataset_type}_class'\n",
    "DATASET_PATH = f'/tf/KAIER_2022/Battery_data/무지부_코팅부/코팅부'\n",
    "\n",
    "from glob import glob\n",
    "import os\n",
    "def get_label(mode = 'test'):\n",
    "\n",
    "        \n",
    "    # ensemble model \n",
    "    normal_names = ['코팅부 경계부 불량', '코팅부 접힘', '코팅부 미코팅', '코팅부 줄무늬', '코팅부 테이프','코팅부 코팅불량']\n",
    "    abnormal_names = ['코팅부 버블', '코팅부 흑점', '코팅부 찍힘', '코팅부 백점', '코팅부 라벨지']\n",
    "    \n",
    "    fpattern = os.path.join(DATASET_PATH, f'{mode}/*/*.bmp')\n",
    "    fpaths = sorted(glob(fpattern))\n",
    "    \n",
    "    # get only label name in data path \n",
    "    def split(x):\n",
    "        return x.split('/')[-2]    \n",
    "\n",
    "    test_class_list = list(map(split, fpaths))\n",
    "    \n",
    "    def change_name_to_label(x):\n",
    "        if x in normal_names:\n",
    "            return 0\n",
    "        else:\n",
    "            return 1\n",
    "\n",
    "    test_label_list = list(map(change_name_to_label, test_class_list))\n",
    "\n",
    "    return test_label_list, test_class_list, fpaths"
   ]
  },
  {
   "cell_type": "code",
   "execution_count": 43,
   "metadata": {},
   "outputs": [
    {
     "name": "stdout",
     "output_type": "stream",
     "text": [
      "1831\n"
     ]
    }
   ],
   "source": [
    "label, classes, fpaths = get_label(mode='test')\n",
    "print(len(label))"
   ]
  },
  {
   "cell_type": "code",
   "execution_count": 44,
   "metadata": {},
   "outputs": [
    {
     "data": {
      "text/plain": [
       "'/tf/KAIER_2022/Battery_data/무지부_코팅부/코팅부/test/코팅부 경계부 불량/3_10001_1.bmp'"
      ]
     },
     "execution_count": 44,
     "metadata": {},
     "output_type": "execute_result"
    }
   ],
   "source": [
    "fpaths[0]"
   ]
  },
  {
   "cell_type": "code",
   "execution_count": 45,
   "metadata": {},
   "outputs": [],
   "source": [
    "parser = argparse.ArgumentParser(description=\"Patch SVDD\")\n",
    "parser.add_argument(\"--dataset_path\", type=str, default=\"/tf/KAIER_2022/Battery_data/무지부_코팅부/코팅부\")\n",
    "args = parser.parse_args(args=[])  "
   ]
  },
  {
   "cell_type": "code",
   "execution_count": 46,
   "metadata": {},
   "outputs": [
    {
     "name": "stdout",
     "output_type": "stream",
     "text": [
      "test image:  1831  장\n"
     ]
    }
   ],
   "source": [
    "images = battery.get_x(mode='test', args=args)"
   ]
  },
  {
   "cell_type": "code",
   "execution_count": 47,
   "metadata": {
    "scrolled": true
   },
   "outputs": [
    {
     "data": {
      "text/plain": [
       "array(['코팅부 경계부 불량', '코팅부 라벨지', '코팅부 미코팅', '코팅부 백점', '코팅부 버블', '코팅부 접힘',\n",
       "       '코팅부 줄무늬', '코팅부 찍힘', '코팅부 코팅불량', '코팅부 테이프', '코팅부 흑점'], dtype='<U10')"
      ]
     },
     "execution_count": 47,
     "metadata": {},
     "output_type": "execute_result"
    }
   ],
   "source": [
    "np.unique(classes)"
   ]
  },
  {
   "cell_type": "markdown",
   "metadata": {},
   "source": [
    "### pixel anomaly score 분포 확인 "
   ]
  },
  {
   "cell_type": "code",
   "execution_count": 18,
   "metadata": {},
   "outputs": [],
   "source": [
    "maps_vector = maps.reshape(-1)"
   ]
  },
  {
   "cell_type": "code",
   "execution_count": 32,
   "metadata": {},
   "outputs": [],
   "source": [
    "sorted_maps = np.sort(maps_vector)"
   ]
  },
  {
   "cell_type": "code",
   "execution_count": 33,
   "metadata": {},
   "outputs": [
    {
     "data": {
      "text/plain": [
       "array([  189.86598626,   189.86598626,   189.86598626, ...,\n",
       "       19166.83181249, 19166.83181249, 19166.83181249])"
      ]
     },
     "execution_count": 33,
     "metadata": {},
     "output_type": "execute_result"
    }
   ],
   "source": [
    "sorted_maps[sorted_maps<20000]"
   ]
  },
  {
   "cell_type": "code",
   "execution_count": 35,
   "metadata": {},
   "outputs": [
    {
     "data": {
      "text/plain": [
       "0.9994530503311032"
      ]
     },
     "execution_count": 35,
     "metadata": {},
     "output_type": "execute_result"
    }
   ],
   "source": [
    "(sorted_maps<20000).sum() / len(sorted_maps)"
   ]
  },
  {
   "cell_type": "code",
   "execution_count": null,
   "metadata": {},
   "outputs": [],
   "source": [
    "len([sorted_maps<20000])"
   ]
  },
  {
   "cell_type": "code",
   "execution_count": 28,
   "metadata": {},
   "outputs": [
    {
     "data": {
      "text/plain": [
       "array([     0,  10000,  20000,  30000,  40000,  50000,  60000,  70000,\n",
       "        80000,  90000, 100000, 110000, 120000])"
      ]
     },
     "execution_count": 28,
     "metadata": {},
     "output_type": "execute_result"
    }
   ],
   "source": [
    "np.arange(0, 130000, 10000)"
   ]
  },
  {
   "cell_type": "code",
   "execution_count": 31,
   "metadata": {},
   "outputs": [
    {
     "data": {
      "image/png": "[encoded data removed]",
      "text/plain": [
       "<Figure size 432x288 with 1 Axes>"
      ]
     },
     "metadata": {
      "needs_background": "light"
     },
     "output_type": "display_data"
    }
   ],
   "source": [
    "# plt.figure(figsize=(15,20))\n",
    "plt.hist(maps_vector,  density=True) \n",
    "plt.title(\"pixel anomaly score histogram\") \n",
    "plt.show()"
   ]
  },
  {
   "cell_type": "markdown",
   "metadata": {},
   "source": [
    "### original visualization code "
   ]
  },
  {
   "cell_type": "code",
   "execution_count": 87,
   "metadata": {},
   "outputs": [
    {
     "name": "stderr",
     "output_type": "stream",
     "text": [
      "100%|██████████| 1831/1831 [03:22<00:00,  9.03it/s]\n"
     ]
    }
   ],
   "source": [
    "maps_max = maps.max()\n",
    "N = maps.shape[0]\n",
    "\n",
    "for n in tqdm(range(N)):\n",
    "    fig, axes = plt.subplots(ncols=2)\n",
    "    fig.set_size_inches(6, 3)\n",
    "\n",
    "    image = resize(images[n], (128, 128))\n",
    "    image_class = classes[n]\n",
    "    file_name = fpaths[n].split('/')[-1]\n",
    "\n",
    "    axes[0].imshow(image)\n",
    "    axes[0].set_axis_off()\n",
    "\n",
    "#     axes[1].imshow(maps[n], vmax=maps_max, cmap='Reds') # 절대값 기준 \n",
    "    axes[1].imshow(maps[n], vmax=maps[n].max(), cmap='Reds') # 상대값 기준 \n",
    "    axes[1].set_axis_off()\n",
    "\n",
    "    plt.tight_layout()\n",
    "    fpath = f'false prediction anomaly_maps/maps_relative/{image_class}/{file_name}.png'\n",
    "    makedirpath(fpath)\n",
    "    plt.savefig(fpath)\n",
    "    plt.close()\n"
   ]
  },
  {
   "cell_type": "markdown",
   "metadata": {},
   "source": [
    "## 99.9%가 되는 지점을 새로운 vmax로 지정 "
   ]
  },
  {
   "cell_type": "markdown",
   "metadata": {},
   "source": [
    "### false prediction index 구하기 "
   ]
  },
  {
   "cell_type": "code",
   "execution_count": 82,
   "metadata": {},
   "outputs": [
    {
     "name": "stdout",
     "output_type": "stream",
     "text": [
      "1831\n"
     ]
    }
   ],
   "source": [
    "import pickle\n",
    "with open(f'six ensemble z_score.pickle', 'rb') as f:\n",
    "    ano_score = pickle.load(f)\n",
    "print(len(ano_score))"
   ]
  },
  {
   "cell_type": "code",
   "execution_count": 83,
   "metadata": {},
   "outputs": [
    {
     "name": "stdout",
     "output_type": "stream",
     "text": [
      "0.8568209255533199\n"
     ]
    }
   ],
   "source": [
    "# AUROC 확인\n",
    "from sklearn.metrics import roc_auc_score\n",
    "auroc = roc_auc_score(label, ano_score)\n",
    "print(auroc)"
   ]
  },
  {
   "cell_type": "code",
   "execution_count": 84,
   "metadata": {},
   "outputs": [
    {
     "name": "stdout",
     "output_type": "stream",
     "text": [
      "index :  94\n",
      "Best Threshold:  0.729836417629564\n",
      "tpr:  0.9107142857142857\n",
      "fpr:  0.24901408450704227\n"
     ]
    }
   ],
   "source": [
    "from sklearn.metrics import roc_curve, auc\n",
    "\n",
    "fpr, tpr, thresholds = roc_curve(label, ano_score)\n",
    "J = tpr-fpr\n",
    "ix = np.argmax(J)\n",
    "best_thresh = thresholds[ix]\n",
    "\n",
    "\n",
    "print(\"index : \", ix)\n",
    "print(\"Best Threshold: \", best_thresh)\n",
    "print(\"tpr: \", tpr[ix])\n",
    "print(\"fpr: \", fpr[ix])"
   ]
  },
  {
   "cell_type": "code",
   "execution_count": 85,
   "metadata": {},
   "outputs": [
    {
     "name": "stdout",
     "output_type": "stream",
     "text": [
      "[False False  True ... False  True False]\n"
     ]
    }
   ],
   "source": [
    "# Threshold를 반영한 예측값\n",
    "pred = ano_score > best_thresh\n",
    "print(pred)"
   ]
  },
  {
   "cell_type": "code",
   "execution_count": 89,
   "metadata": {},
   "outputs": [],
   "source": [
    "pred = list(map(int, pred))"
   ]
  },
  {
   "cell_type": "code",
   "execution_count": 90,
   "metadata": {},
   "outputs": [],
   "source": [
    "pred = np.array(pred)\n",
    "label = np.array(label)\n",
    "fpaths = np.array(fpaths)"
   ]
  },
  {
   "cell_type": "markdown",
   "metadata": {},
   "source": [
    "### 분포 확인하기"
   ]
  },
  {
   "cell_type": "code",
   "execution_count": 94,
   "metadata": {},
   "outputs": [],
   "source": [
    "new_maps = maps.copy()\n",
    "# new_maps[new_maps > maps_max] = maps_max"
   ]
  },
  {
   "cell_type": "code",
   "execution_count": 73,
   "metadata": {},
   "outputs": [
    {
     "data": {
      "text/plain": [
       "array([ 434.43982953,  434.43982953,  434.43982953, ..., 1588.1928716 ,\n",
       "       1588.1928716 , 1588.1928716 ])"
      ]
     },
     "execution_count": 73,
     "metadata": {},
     "output_type": "execute_result"
    }
   ],
   "source": [
    "new_maps = new_maps.reshape(-1) \n",
    "new_maps[new_maps < 20000]"
   ]
  },
  {
   "cell_type": "code",
   "execution_count": 76,
   "metadata": {},
   "outputs": [
    {
     "data": {
      "text/plain": [
       "(array([4.94337894e-04, 3.22541403e-05, 2.85598491e-07, 5.17768095e-08,\n",
       "        8.36583887e-09, 5.07925932e-09, 4.76290406e-09, 3.49748306e-09,\n",
       "        8.43614004e-10, 2.67144435e-09]),\n",
       " array([  189.86598626,  2087.56256888,  3985.2591515 ,  5882.95573413,\n",
       "         7780.65231675,  9678.34889937, 11576.045482  , 13473.74206462,\n",
       "        15371.43864725, 17269.13522987, 19166.83181249]),\n",
       " <BarContainer object of 10 artists>)"
      ]
     },
     "execution_count": 76,
     "metadata": {},
     "output_type": "execute_result"
    },
    {
     "data": {
      "image/png": "[encoded data removed]",
      "text/plain": [
       "<Figure size 432x288 with 1 Axes>"
      ]
     },
     "metadata": {
      "needs_background": "light"
     },
     "output_type": "display_data"
    }
   ],
   "source": [
    "plt.hist(new_maps[new_maps < 20000], density=True)"
   ]
  },
  {
   "cell_type": "code",
   "execution_count": 78,
   "metadata": {},
   "outputs": [],
   "source": [
    "new_maps = np.sort(new_maps)"
   ]
  },
  {
   "cell_type": "code",
   "execution_count": 89,
   "metadata": {},
   "outputs": [
    {
     "data": {
      "text/plain": [
       "2643.3328442009515"
      ]
     },
     "execution_count": 89,
     "metadata": {},
     "output_type": "execute_result"
    }
   ],
   "source": [
    "maps_max = new_maps[int(len(new_maps) * 0.99)]\n",
    "maps_max"
   ]
  },
  {
   "cell_type": "code",
   "execution_count": 95,
   "metadata": {},
   "outputs": [],
   "source": [
    "new_maps[new_maps > maps_max] = maps_max"
   ]
  },
  {
   "cell_type": "markdown",
   "metadata": {},
   "source": [
    "### normalized anomaly map "
   ]
  },
  {
   "cell_type": "code",
   "execution_count": 16,
   "metadata": {},
   "outputs": [
    {
     "name": "stderr",
     "output_type": "stream",
     "text": [
      "100%|██████████| 6/6 [01:58<00:00, 19.83s/it]\n"
     ]
    }
   ],
   "source": [
    "valid_maps_32_list = []\n",
    "valid_maps_64_list = []\n",
    "for i in tqdm(range(1,7)):\n",
    "    valid_maps_32 = np.load(f\"save/무지부_코팅부/3_13_efficientnet_b6/valid_maps_32_{i}.npy\")\n",
    "    valid_maps_64 = np.load(f\"save/무지부_코팅부/3_13_efficientnet_b6/valid_maps_64_{i}.npy\")\n",
    "\n",
    "    globals()[f'valid_maps_mult_{i}'] = valid_maps_32 * valid_maps_64"
   ]
  },
  {
   "cell_type": "code",
   "execution_count": 50,
   "metadata": {},
   "outputs": [],
   "source": [
    "for i in range(1,7):\n",
    "    globals()[f'valid_normality_map_mean_{i}'] = np.mean(globals()[f'valid_maps_mult_{i}'],\\\n",
    "                                                    axis=0)\n",
    "    globals()[f'valid_normality_map_std_{i}'] = np.std(globals()[f'valid_maps_mult_{i}'],\\\n",
    "                                                    axis=0)"
   ]
  },
  {
   "cell_type": "code",
   "execution_count": 27,
   "metadata": {},
   "outputs": [
    {
     "data": {
      "text/plain": [
       "array([[319.37521215, 319.37521215, 319.37521215, ..., 327.13299425,\n",
       "        327.13299425, 327.13299425],\n",
       "       [319.37521215, 319.37521215, 319.37521215, ..., 327.13299425,\n",
       "        327.13299425, 327.13299425],\n",
       "       [319.37521215, 319.37521215, 319.37521215, ..., 327.13299425,\n",
       "        327.13299425, 327.13299425],\n",
       "       ...,\n",
       "       [319.22543121, 319.22543121, 319.22543121, ..., 326.36758731,\n",
       "        326.36758731, 326.36758731],\n",
       "       [319.22543121, 319.22543121, 319.22543121, ..., 326.36758731,\n",
       "        326.36758731, 326.36758731],\n",
       "       [319.22543121, 319.22543121, 319.22543121, ..., 326.36758731,\n",
       "        326.36758731, 326.36758731]])"
      ]
     },
     "execution_count": 27,
     "metadata": {},
     "output_type": "execute_result"
    }
   ],
   "source": [
    "valid_normality_map_1"
   ]
  },
  {
   "cell_type": "code",
   "execution_count": 53,
   "metadata": {},
   "outputs": [
    {
     "data": {
      "text/plain": [
       "array([[ 95.83543923,  95.83543923,  95.83543923, ...,  96.3028832 ,\n",
       "         96.3028832 ,  96.3028832 ],\n",
       "       [ 95.83543923,  95.83543923,  95.83543923, ...,  96.3028832 ,\n",
       "         96.3028832 ,  96.3028832 ],\n",
       "       [ 95.83543923,  95.83543923,  95.83543923, ...,  96.3028832 ,\n",
       "         96.3028832 ,  96.3028832 ],\n",
       "       ...,\n",
       "       [ 79.85329044,  79.85329044,  79.85329044, ..., 112.66987908,\n",
       "        112.66987908, 112.66987908],\n",
       "       [ 79.85329044,  79.85329044,  79.85329044, ..., 112.66987908,\n",
       "        112.66987908, 112.66987908],\n",
       "       [ 79.85329044,  79.85329044,  79.85329044, ..., 112.66987908,\n",
       "        112.66987908, 112.66987908]])"
      ]
     },
     "execution_count": 53,
     "metadata": {},
     "output_type": "execute_result"
    }
   ],
   "source": [
    "valid_normality_map_std_1"
   ]
  },
  {
   "cell_type": "markdown",
   "metadata": {},
   "source": [
    "valid 평균, 표준편차를 이용해 argmin model에 해당하는 maps를 normalize 하기 "
   ]
  },
  {
   "cell_type": "code",
   "execution_count": 68,
   "metadata": {},
   "outputs": [],
   "source": [
    "norm_maps = []\n",
    "for i, min_ in enumerate(argmin_array):\n",
    "    norm_maps.append((maps[i] - globals()[f'valid_normality_map_mean_{min_}']) / \\\n",
    "    globals()[f'valid_normality_map_std_{min_}'])\n"
   ]
  },
  {
   "cell_type": "code",
   "execution_count": 69,
   "metadata": {},
   "outputs": [
    {
     "name": "stdout",
     "output_type": "stream",
     "text": [
      "(1831, 256, 256)\n"
     ]
    }
   ],
   "source": [
    "norm_maps = np.array(norm_maps)\n",
    "print(norm_maps.shape)"
   ]
  },
  {
   "cell_type": "code",
   "execution_count": 72,
   "metadata": {},
   "outputs": [
    {
     "data": {
      "text/plain": [
       "(119996416,)"
      ]
     },
     "execution_count": 72,
     "metadata": {},
     "output_type": "execute_result"
    }
   ],
   "source": [
    "tmp_maps = norm_maps.reshape(-1)\n",
    "tmp_maps.shape"
   ]
  },
  {
   "cell_type": "code",
   "execution_count": 76,
   "metadata": {},
   "outputs": [],
   "source": [
    "tmp_maps = np.sort(tmp_maps)"
   ]
  },
  {
   "cell_type": "code",
   "execution_count": 80,
   "metadata": {},
   "outputs": [
    {
     "data": {
      "text/plain": [
       "4.608508761661807"
      ]
     },
     "execution_count": 80,
     "metadata": {},
     "output_type": "execute_result"
    }
   ],
   "source": [
    "tmp_maps[int(len(tmp_maps)*0.9)]"
   ]
  },
  {
   "cell_type": "code",
   "execution_count": 73,
   "metadata": {},
   "outputs": [
    {
     "data": {
      "text/plain": [
       "(array([1.1471142e+08, 4.8958520e+06, 3.4778800e+05, 3.4268000e+04,\n",
       "        4.8960000e+03, 9.6800000e+02, 4.2400000e+02, 5.4800000e+02,\n",
       "        1.5600000e+02, 9.6000000e+01]),\n",
       " array([-1.71607545,  3.89239565,  9.50086676, 15.10933786, 20.71780897,\n",
       "        26.32628007, 31.93475117, 37.54322228, 43.15169338, 48.76016449,\n",
       "        54.36863559]),\n",
       " <BarContainer object of 10 artists>)"
      ]
     },
     "execution_count": 73,
     "metadata": {},
     "output_type": "execute_result"
    },
    {
     "data": {
      "image/png": "[encoded data removed]",
      "text/plain": [
       "<Figure size 432x288 with 1 Axes>"
      ]
     },
     "metadata": {
      "needs_background": "light"
     },
     "output_type": "display_data"
    }
   ],
   "source": [
    "plt.hist(tmp_maps)"
   ]
  },
  {
   "cell_type": "code",
   "execution_count": 71,
   "metadata": {},
   "outputs": [
    {
     "data": {
      "text/plain": [
       "54.36863558891373"
      ]
     },
     "execution_count": 71,
     "metadata": {},
     "output_type": "execute_result"
    }
   ],
   "source": [
    "norm_maps.max()"
   ]
  },
  {
   "cell_type": "code",
   "execution_count": 59,
   "metadata": {},
   "outputs": [
    {
     "data": {
      "text/plain": [
       "(array([1, 3, 5, 6]), array([1121,   50,  659,    1]))"
      ]
     },
     "execution_count": 59,
     "metadata": {},
     "output_type": "execute_result"
    }
   ],
   "source": [
    "np.unique(argmin_array, return_counts=True)"
   ]
  },
  {
   "cell_type": "code",
   "execution_count": null,
   "metadata": {},
   "outputs": [
    {
     "name": "stderr",
     "output_type": "stream",
     "text": [
      " 24%|██▎       | 106/448 [00:11<00:34,  9.90it/s]"
     ]
    }
   ],
   "source": [
    "maps_max = norm_maps.max()\n",
    "\n",
    "for n in tqdm(np.where(pred!=label)[0]):\n",
    "    fig, axes = plt.subplots(ncols=2)\n",
    "    fig.set_size_inches(6, 3)\n",
    "\n",
    "    image = resize(images[n], (128, 128))\n",
    "    image_class = classes[n]\n",
    "    file_name = fpaths[n].split('/')[-1]\n",
    "\n",
    "    axes[0].imshow(image)\n",
    "    axes[0].set_axis_off()\n",
    "    \n",
    "    \n",
    "    axes[1].imshow(norm_maps[n], vmax=maps_max, cmap='Reds') # 절대값 기준 \n",
    "#     axes[1].imshow(maps[n], vmax=maps[n].max(), cmap='Reds') # 상대값 기준 \n",
    "    axes[1].set_axis_off()\n",
    "\n",
    "    plt.tight_layout()\n",
    "    fpath = f'false prediction anomaly_maps/normalize_mult_absolute/{image_class}/{file_name}.png'\n",
    "    makedirpath(fpath)\n",
    "    plt.savefig(fpath)\n",
    "    plt.close()"
   ]
  },
  {
   "cell_type": "markdown",
   "metadata": {},
   "source": [
    "### plot anomaly map (99% vmax)"
   ]
  },
  {
   "cell_type": "code",
   "execution_count": 96,
   "metadata": {},
   "outputs": [
    {
     "name": "stderr",
     "output_type": "stream",
     "text": [
      "100%|██████████| 448/448 [00:50<00:00,  8.93it/s]\n"
     ]
    }
   ],
   "source": [
    "maps_max = 2643.3328442009515\n",
    "\n",
    "for n in tqdm(np.where(pred!=label)[0]):\n",
    "    fig, axes = plt.subplots(ncols=2)\n",
    "    fig.set_size_inches(6, 3)\n",
    "\n",
    "    image = resize(images[n], (128, 128))\n",
    "    image_class = classes[n]\n",
    "    file_name = fpaths[n].split('/')[-1]\n",
    "\n",
    "    axes[0].imshow(image)\n",
    "    axes[0].set_axis_off()\n",
    "\n",
    "    axes[1].imshow(new_maps[n], vmax=maps_max, cmap='Reds') # 절대값 기준 \n",
    "#     axes[1].imshow(maps[n], vmax=maps[n].max(), cmap='Reds') # 상대값 기준 \n",
    "    axes[1].set_axis_off()\n",
    "\n",
    "    plt.tight_layout()\n",
    "    fpath = f'false prediction anomaly_maps/new_vmax_mult_absolute/{image_class}/{file_name}.png'\n",
    "    makedirpath(fpath)\n",
    "    plt.savefig(fpath)\n",
    "    plt.close()"
   ]
  },
  {
   "cell_type": "code",
   "execution_count": 60,
   "metadata": {},
   "outputs": [
    {
     "data": {
      "text/plain": [
       "array([[ 99300.24422832,  99300.24422832,  99300.24422832, ...,\n",
       "        110803.25628234, 110803.25628234, 110803.25628234],\n",
       "       [ 99300.24422832,  99300.24422832,  99300.24422832, ...,\n",
       "        110803.25628234, 110803.25628234, 110803.25628234],\n",
       "       [ 99300.24422832,  99300.24422832,  99300.24422832, ...,\n",
       "        110803.25628234, 110803.25628234, 110803.25628234],\n",
       "       ...,\n",
       "       [ 91531.65121877,  91531.65121877,  91531.65121877, ...,\n",
       "        125009.31975511, 125009.31975511, 125009.31975511],\n",
       "       [ 91531.65121877,  91531.65121877,  91531.65121877, ...,\n",
       "        125009.31975511, 125009.31975511, 125009.31975511],\n",
       "       [ 91531.65121877,  91531.65121877,  91531.65121877, ...,\n",
       "        125009.31975511, 125009.31975511, 125009.31975511]])"
      ]
     },
     "execution_count": 60,
     "metadata": {},
     "output_type": "execute_result"
    }
   ],
   "source": [
    "maps[n]"
   ]
  },
  {
   "cell_type": "code",
   "execution_count": 94,
   "metadata": {},
   "outputs": [
    {
     "data": {
      "text/html": [
       "<div>\n",
       "<style scoped>\n",
       "    .dataframe tbody tr th:only-of-type {\n",
       "        vertical-align: middle;\n",
       "    }\n",
       "\n",
       "    .dataframe tbody tr th {\n",
       "        vertical-align: top;\n",
       "    }\n",
       "\n",
       "    .dataframe thead th {\n",
       "        text-align: right;\n",
       "    }\n",
       "</style>\n",
       "<table border=\"1\" class=\"dataframe\">\n",
       "  <thead>\n",
       "    <tr style=\"text-align: right;\">\n",
       "      <th></th>\n",
       "      <th>0</th>\n",
       "    </tr>\n",
       "  </thead>\n",
       "  <tbody>\n",
       "    <tr>\n",
       "      <th>count</th>\n",
       "      <td>119996416.00</td>\n",
       "    </tr>\n",
       "    <tr>\n",
       "      <th>mean</th>\n",
       "      <td>931.24</td>\n",
       "    </tr>\n",
       "    <tr>\n",
       "      <th>std</th>\n",
       "      <td>1953.37</td>\n",
       "    </tr>\n",
       "    <tr>\n",
       "      <th>min</th>\n",
       "      <td>189.87</td>\n",
       "    </tr>\n",
       "    <tr>\n",
       "      <th>25%</th>\n",
       "      <td>337.65</td>\n",
       "    </tr>\n",
       "    <tr>\n",
       "      <th>50%</th>\n",
       "      <td>402.16</td>\n",
       "    </tr>\n",
       "    <tr>\n",
       "      <th>75%</th>\n",
       "      <td>1577.05</td>\n",
       "    </tr>\n",
       "    <tr>\n",
       "      <th>max</th>\n",
       "      <td>125009.32</td>\n",
       "    </tr>\n",
       "  </tbody>\n",
       "</table>\n",
       "</div>"
      ],
      "text/plain": [
       "                 0\n",
       "count 119996416.00\n",
       "mean        931.24\n",
       "std        1953.37\n",
       "min         189.87\n",
       "25%         337.65\n",
       "50%         402.16\n",
       "75%        1577.05\n",
       "max      125009.32"
      ]
     },
     "execution_count": 94,
     "metadata": {},
     "output_type": "execute_result"
    }
   ],
   "source": [
    "import pandas as pd\n",
    "pd.options.display.float_format = lambda x: f'{x:.2f}'\n",
    "pd.DataFrame(maps.reshape(-1)).describe()"
   ]
  },
  {
   "cell_type": "code",
   "execution_count": 84,
   "metadata": {},
   "outputs": [
    {
     "data": {
      "text/plain": [
       "125009.31975511461"
      ]
     },
     "execution_count": 84,
     "metadata": {},
     "output_type": "execute_result"
    }
   ],
   "source": [
    "maps_max"
   ]
  },
  {
   "cell_type": "code",
   "execution_count": 74,
   "metadata": {},
   "outputs": [
    {
     "data": {
      "text/plain": [
       "'코팅부 경계부 불량'"
      ]
     },
     "execution_count": 74,
     "metadata": {},
     "output_type": "execute_result"
    }
   ],
   "source": [
    "image_class"
   ]
  },
  {
   "cell_type": "code",
   "execution_count": 76,
   "metadata": {},
   "outputs": [
    {
     "data": {
      "text/plain": [
       "'/tf/KAIER_2022/Member_folder/Yeongkyu/Final_code'"
      ]
     },
     "execution_count": 76,
     "metadata": {},
     "output_type": "execute_result"
    }
   ],
   "source": [
    "%pwd"
   ]
  }
 ],
 "metadata": {
  "kernelspec": {
   "display_name": "Python 3",
   "language": "python",
   "name": "python3"
  },
  "language_info": {
   "codemirror_mode": {
    "name": "ipython",
    "version": 3
   },
   "file_extension": ".py",
   "mimetype": "text/x-python",
   "name": "python",
   "nbconvert_exporter": "python",
   "pygments_lexer": "ipython3",
   "version": "3.6.9"
  }
 },
 "nbformat": 4,
 "nbformat_minor": 4
}
