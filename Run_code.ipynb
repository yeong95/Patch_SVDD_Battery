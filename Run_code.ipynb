{
 "cells": [
  {
   "cell_type": "code",
   "execution_count": 2,
   "metadata": {},
   "outputs": [],
   "source": [
    "# GPU 번호를 바꿔야하는 경우\n",
    "\n",
    "import os\n",
    "os.environ[\"CUDA_DEVICE_ORDER\"]=\"PCI_BUS_ID\"\n",
    "os.environ[\"CUDA_VISIBLE_DEVICES\"]=\"1\""
   ]
  },
  {
   "cell_type": "code",
   "execution_count": 4,
   "metadata": {},
   "outputs": [
    {
     "name": "stdout",
     "output_type": "stream",
     "text": [
      "정상 A:  2236  장\n",
      "경로 확인:  /workspace/CAMPUS/TOFU_Box/train/OK/정상A/2020-11-24-120700200802.jpg\n",
      "정상 B:  1430  장\n",
      "경로 확인:  /workspace/CAMPUS/TOFU_Box/train/OK/정상B/2020-11-24-120700200272.jpg\n",
      "정상 A:  2236  장\n",
      "경로 확인:  /workspace/CAMPUS/TOFU_Box/train/OK/정상A/2020-11-24-120700200802.jpg\n",
      "정상 B:  1430  장\n",
      "경로 확인:  /workspace/CAMPUS/TOFU_Box/train/OK/정상B/2020-11-24-120700200272.jpg\n",
      "Anomaly test image:  550  장\n",
      "경로 확인:  /workspace/CAMPUS/TOFU_Box/test/NG/금속/2020-11-29-153700430393.jpg\n",
      "Normal test image:  400  장\n",
      "경로 확인:  /workspace/CAMPUS/TOFU_Box/test/OK/정상A/2020-11-24-133900350125.jpg\n",
      "정상 A:  2236  장\n",
      "경로 확인:  /workspace/CAMPUS/TOFU_Box/train/OK/정상A/2020-11-24-120700200802.jpg\n",
      "정상 B:  1430  장\n",
      "경로 확인:  /workspace/CAMPUS/TOFU_Box/train/OK/정상B/2020-11-24-120700200272.jpg\n",
      "dataset completed !\n",
      "Loaded pretrained weights for efficientnet-b6\n",
      "Train infer 64x64 patch: 100%|████████████████| 580/580 [03:34<00:00,  2.74it/s]\n",
      "test infer 64x64 patch: 100%|█████████████████| 151/151 [00:54<00:00,  3.44it/s]\n",
      "CPU RAM Free: 118.5 GB\n",
      "CPU RAM Free: 118.9 GB\n",
      "CPU RAM Free: 118.9 GB\n",
      "Train infer 32x32 patch: 100%|██████████████| 2070/2070 [06:08<00:00,  5.62it/s]\n",
      "test infer 32x32 patch: 100%|█████████████████| 537/537 [01:35<00:00,  5.61it/s]\n",
      "CPU RAM Free: 116.7 GB\n",
      "CPU RAM Free: 117.9 GB\n",
      "CPU RAM Free: 118.0 GB\n",
      "Anomaly Map shape:  (950, 256, 256)\n",
      "alpha:  0\n",
      "| mult | Det: 0.934\n"
     ]
    }
   ],
   "source": [
    "!python main.py"
   ]
  },
  {
   "cell_type": "code",
   "execution_count": null,
   "metadata": {},
   "outputs": [],
   "source": []
  },
  {
   "cell_type": "code",
   "execution_count": null,
   "metadata": {},
   "outputs": [],
   "source": []
  }
 ],
 "metadata": {
  "kernelspec": {
   "display_name": "Python 3",
   "language": "python",
   "name": "python3"
  },
  "language_info": {
   "codemirror_mode": {
    "name": "ipython",
    "version": 3
   },
   "file_extension": ".py",
   "mimetype": "text/x-python",
   "name": "python",
   "nbconvert_exporter": "python",
   "pygments_lexer": "ipython3",
   "version": "3.6.9"
  }
 },
 "nbformat": 4,
 "nbformat_minor": 5
}
