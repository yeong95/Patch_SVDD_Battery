{
 "cells": [
  {
   "cell_type": "code",
   "execution_count": 2,
   "metadata": {},
   "outputs": [],
   "source": [
    "import pandas as pd\n",
    "import numpy as np\n",
    "import pickle\n",
    "import matplotlib.pyplot as plt\n",
    "\n",
    "import seaborn as sns\n",
    "from sklearn.metrics import roc_auc_score\n",
    "from sklearn.metrics import roc_auc_score, recall_score, precision_score, accuracy_score"
   ]
  },
  {
   "cell_type": "code",
   "execution_count": 3,
   "metadata": {},
   "outputs": [],
   "source": [
    "# DATASET_PATH = f'/tf/KAIER_2022/Battery_data/{dataset_type}_class'\n",
    "DATASET_PATH = f'/tf/KAIER_2022/Battery_data/eight ensemble model'\n",
    "\n",
    "from glob import glob\n",
    "import os\n",
    "def get_label(mode = 'test'):\n",
    "    \n",
    "#     if dataset_type == 'multi':\n",
    "#         normal_names = ['코팅부 경계부 불량', '무지부 줄무늬', '코팅부 접힘', '코팅부 미코팅', '코팅부 줄무늬', '코팅부 테이프', \\\n",
    "#                      '코팅부 기재연결부', '무지부 기재연결부', '코팅부 코팅불량']\n",
    "#         abnormal_names = ['코팅부 버블', '코팅부 흑점', '무지부 주름', '코팅부 찍힘', '코팅부 백점', '코팅부 라벨지']\n",
    "#     elif dataset_type == 'one':\n",
    "#         normal_names = ['코팅부 경계부 불량']\n",
    "#         abnormal_names = ['무지부 줄무늬', '코팅부 접힘', '코팅부 미코팅', '코팅부 줄무늬', '코팅부 테이프', \\\n",
    "#                      '코팅부 기재연결부', '무지부 기재연결부', '코팅부 코팅불량', '코팅부 버블', '코팅부 흑점', '무지부 주름', '코팅부 찍힘', '코팅부 백점', '코팅부 라벨지']\n",
    "        \n",
    "    # ensemble model \n",
    "    normal_names = ['코팅부 경계부 불량','무지부 줄무늬', '코팅부 접힘', '코팅부 미코팅', '코팅부 줄무늬', '코팅부 테이프', '코팅부 기재연결부', '무지부 기재연결부']\n",
    "    abnormal_names = ['코팅부 줄무늬', '코팅부 테이프',  '코팅부 기재연결부', '무지부 기재연결부', '코팅부 코팅불량',\\\n",
    "                      '코팅부 버블', '코팅부 흑점', '무지부 주름', '코팅부 찍힘', '코팅부 백점', '코팅부 라벨지']\n",
    "    \n",
    "    # one class model \n",
    "#     class_list = ['코팅부 경계부 불량','무지부 줄무늬', '코팅부 접힘', '코팅부 미코팅', '코팅부 줄무늬', '코팅부 테이프', \\\n",
    "#                      '코팅부 기재연결부', '무지부 기재연결부', '코팅부 코팅불량', '코팅부 버블', '코팅부 흑점', '무지부 주름', '코팅부 찍힘', '코팅부 백점', '코팅부 라벨지']\n",
    "#     normal_names = '코팅부 미코팅'\n",
    "#     abnormal_names = class_list.copy()\n",
    "#     abnormal_names.remove(normal_names)\n",
    "\n",
    "    fpattern = os.path.join(DATASET_PATH, f'{mode}/*/*.bmp')\n",
    "    fpaths = sorted(glob(fpattern))\n",
    "    \n",
    "    # get only label name in data path \n",
    "    def split(x):\n",
    "        return x.split('/')[-2]    \n",
    "\n",
    "    test_class_list = list(map(split, fpaths))\n",
    "    \n",
    "    def change_name_to_label(x):\n",
    "        if x in normal_names:\n",
    "            return 0\n",
    "        else:\n",
    "            return 1\n",
    "\n",
    "    test_label_list = list(map(change_name_to_label, test_class_list))\n",
    "\n",
    "    return test_label_list, test_class_list"
   ]
  },
  {
   "cell_type": "code",
   "execution_count": 4,
   "metadata": {},
   "outputs": [
    {
     "name": "stdout",
     "output_type": "stream",
     "text": [
      "2259\n"
     ]
    }
   ],
   "source": [
    "label, classes = get_label(mode='test')\n",
    "print(len(label))"
   ]
  },
  {
   "cell_type": "code",
   "execution_count": 6,
   "metadata": {},
   "outputs": [
    {
     "data": {
      "text/plain": [
       "(array(['무지부 기재연결부', '무지부 주름', '무지부 줄무늬', '코팅부 경계부 불량', '코팅부 기재연결부',\n",
       "        '코팅부 라벨지', '코팅부 미코팅', '코팅부 백점', '코팅부 버블', '코팅부 접힘', '코팅부 줄무늬',\n",
       "        '코팅부 찍힘', '코팅부 코팅불량', '코팅부 테이프', '코팅부 흑점'], dtype='<U10'),\n",
       " array([  15,   12,  349, 1359,   21,    4,  114,    5,   28,  170,   62,\n",
       "           6,   42,   59,   13]))"
      ]
     },
     "execution_count": 6,
     "metadata": {},
     "output_type": "execute_result"
    }
   ],
   "source": [
    "np.unique(classes, return_counts=True)"
   ]
  },
  {
   "cell_type": "code",
   "execution_count": 10,
   "metadata": {},
   "outputs": [],
   "source": [
    "score_dict = {}\n",
    "for i in range(1,9):\n",
    "#     globals()['score_{}'.format(i)] = np.load(f\"save/ensemble model/2_15_efficientnet_b6/model_{i}_anomaly_scores.npy\")\n",
    "    score_dict[f'{i}'] = np.load(f\"save/ensemble model/2_15_efficientnet_b6/model_{i}_anomaly_scores.npy\")"
   ]
  },
  {
   "cell_type": "code",
   "execution_count": 20,
   "metadata": {},
   "outputs": [
    {
     "data": {
      "text/plain": [
       "array([ 376,  377,  378, ..., 1732, 1733, 1734])"
      ]
     },
     "execution_count": 20,
     "metadata": {},
     "output_type": "execute_result"
    }
   ],
   "source": [
    "np.where(np.array(classes) == '코팅부 경계부 불량')[0]"
   ]
  },
  {
   "cell_type": "markdown",
   "metadata": {},
   "source": [
    "test 데이터에서 각 클래스별 정상 분포 확인하기 "
   ]
  },
  {
   "cell_type": "code",
   "execution_count": 21,
   "metadata": {},
   "outputs": [],
   "source": [
    "normal_names = ['코팅부 경계부 불량','무지부 줄무늬', '코팅부 접힘',\\\n",
    "                '코팅부 미코팅', '코팅부 줄무늬', '코팅부 테이프', '코팅부 기재연결부', '무지부 기재연결부']"
   ]
  },
  {
   "cell_type": "code",
   "execution_count": 31,
   "metadata": {},
   "outputs": [],
   "source": [
    "describe_df = pd.DataFrame()\n",
    "for i, norm in enumerate(normal_names):\n",
    "    index = np.where(np.array(classes) == norm)[0]\n",
    "    test_norm_score = score_dict[f'{i+1}'][index]\n",
    "    tmp_df = pd.DataFrame({'tmp':test_norm_score})\n",
    "    describe_df[f'{i}'] = tmp_df.describe()['tmp'].values"
   ]
  },
  {
   "cell_type": "code",
   "execution_count": 33,
   "metadata": {},
   "outputs": [],
   "source": [
    "describe_df.index = ['count', 'mean', 'std', 'min', '25%', '50%', '75%', 'max']"
   ]
  },
  {
   "cell_type": "code",
   "execution_count": 35,
   "metadata": {},
   "outputs": [
    {
     "data": {
      "text/html": [
       "<div>\n",
       "<style scoped>\n",
       "    .dataframe tbody tr th:only-of-type {\n",
       "        vertical-align: middle;\n",
       "    }\n",
       "\n",
       "    .dataframe tbody tr th {\n",
       "        vertical-align: top;\n",
       "    }\n",
       "\n",
       "    .dataframe thead th {\n",
       "        text-align: right;\n",
       "    }\n",
       "</style>\n",
       "<table border=\"1\" class=\"dataframe\">\n",
       "  <thead>\n",
       "    <tr style=\"text-align: right;\">\n",
       "      <th></th>\n",
       "      <th>0</th>\n",
       "      <th>1</th>\n",
       "      <th>2</th>\n",
       "      <th>3</th>\n",
       "      <th>4</th>\n",
       "      <th>5</th>\n",
       "      <th>6</th>\n",
       "      <th>7</th>\n",
       "    </tr>\n",
       "  </thead>\n",
       "  <tbody>\n",
       "    <tr>\n",
       "      <th>count</th>\n",
       "      <td>1359.000000</td>\n",
       "      <td>349.000000</td>\n",
       "      <td>170.000000</td>\n",
       "      <td>114.000000</td>\n",
       "      <td>62.000000</td>\n",
       "      <td>59.000000</td>\n",
       "      <td>21.000000</td>\n",
       "      <td>15.000000</td>\n",
       "    </tr>\n",
       "    <tr>\n",
       "      <th>mean</th>\n",
       "      <td>799.284440</td>\n",
       "      <td>5638.581388</td>\n",
       "      <td>3056.596972</td>\n",
       "      <td>4299.497211</td>\n",
       "      <td>6043.618677</td>\n",
       "      <td>4841.709557</td>\n",
       "      <td>66496.633512</td>\n",
       "      <td>84746.250277</td>\n",
       "    </tr>\n",
       "    <tr>\n",
       "      <th>std</th>\n",
       "      <td>268.960537</td>\n",
       "      <td>697.595159</td>\n",
       "      <td>707.699379</td>\n",
       "      <td>1154.470776</td>\n",
       "      <td>2215.595287</td>\n",
       "      <td>1367.388002</td>\n",
       "      <td>12301.595960</td>\n",
       "      <td>11000.456284</td>\n",
       "    </tr>\n",
       "    <tr>\n",
       "      <th>min</th>\n",
       "      <td>552.960515</td>\n",
       "      <td>4128.068030</td>\n",
       "      <td>2398.416597</td>\n",
       "      <td>2062.465543</td>\n",
       "      <td>3894.512352</td>\n",
       "      <td>3151.527662</td>\n",
       "      <td>55414.273469</td>\n",
       "      <td>70143.556830</td>\n",
       "    </tr>\n",
       "    <tr>\n",
       "      <th>25%</th>\n",
       "      <td>669.835860</td>\n",
       "      <td>5140.115954</td>\n",
       "      <td>2668.342414</td>\n",
       "      <td>3609.798464</td>\n",
       "      <td>4759.217516</td>\n",
       "      <td>3912.182878</td>\n",
       "      <td>59131.927898</td>\n",
       "      <td>77567.615248</td>\n",
       "    </tr>\n",
       "    <tr>\n",
       "      <th>50%</th>\n",
       "      <td>731.547647</td>\n",
       "      <td>5555.965482</td>\n",
       "      <td>2814.051676</td>\n",
       "      <td>3981.832279</td>\n",
       "      <td>5147.228809</td>\n",
       "      <td>4629.193003</td>\n",
       "      <td>62171.766899</td>\n",
       "      <td>85647.753310</td>\n",
       "    </tr>\n",
       "    <tr>\n",
       "      <th>75%</th>\n",
       "      <td>827.763602</td>\n",
       "      <td>5995.957070</td>\n",
       "      <td>3088.623136</td>\n",
       "      <td>4778.690317</td>\n",
       "      <td>6380.928054</td>\n",
       "      <td>5175.413076</td>\n",
       "      <td>69417.234712</td>\n",
       "      <td>89105.998264</td>\n",
       "    </tr>\n",
       "    <tr>\n",
       "      <th>max</th>\n",
       "      <td>4121.934042</td>\n",
       "      <td>9427.239145</td>\n",
       "      <td>5733.529939</td>\n",
       "      <td>9297.127761</td>\n",
       "      <td>15839.773632</td>\n",
       "      <td>9754.836602</td>\n",
       "      <td>106623.055972</td>\n",
       "      <td>115376.135700</td>\n",
       "    </tr>\n",
       "  </tbody>\n",
       "</table>\n",
       "</div>"
      ],
      "text/plain": [
       "                 0            1            2            3             4  \\\n",
       "count  1359.000000   349.000000   170.000000   114.000000     62.000000   \n",
       "mean    799.284440  5638.581388  3056.596972  4299.497211   6043.618677   \n",
       "std     268.960537   697.595159   707.699379  1154.470776   2215.595287   \n",
       "min     552.960515  4128.068030  2398.416597  2062.465543   3894.512352   \n",
       "25%     669.835860  5140.115954  2668.342414  3609.798464   4759.217516   \n",
       "50%     731.547647  5555.965482  2814.051676  3981.832279   5147.228809   \n",
       "75%     827.763602  5995.957070  3088.623136  4778.690317   6380.928054   \n",
       "max    4121.934042  9427.239145  5733.529939  9297.127761  15839.773632   \n",
       "\n",
       "                 5              6              7  \n",
       "count    59.000000      21.000000      15.000000  \n",
       "mean   4841.709557   66496.633512   84746.250277  \n",
       "std    1367.388002   12301.595960   11000.456284  \n",
       "min    3151.527662   55414.273469   70143.556830  \n",
       "25%    3912.182878   59131.927898   77567.615248  \n",
       "50%    4629.193003   62171.766899   85647.753310  \n",
       "75%    5175.413076   69417.234712   89105.998264  \n",
       "max    9754.836602  106623.055972  115376.135700  "
      ]
     },
     "execution_count": 35,
     "metadata": {},
     "output_type": "execute_result"
    }
   ],
   "source": [
    "describe_df"
   ]
  },
  {
   "cell_type": "code",
   "execution_count": 36,
   "metadata": {},
   "outputs": [],
   "source": [
    "describe_df.to_csv(\"tmp.csv\")"
   ]
  },
  {
   "cell_type": "code",
   "execution_count": 53,
   "metadata": {},
   "outputs": [],
   "source": [
    "score_list = []\n",
    "label_list = []\n",
    "for i in range(1,9):\n",
    "    score = np.load(f\"save/ensemble model/2_15_efficientnet_b6/model_{i}_anomaly_scores.npy\")\n",
    "    label = [i]*len(score)\n",
    "    \n",
    "    score_list += list(score)\n",
    "    label_list += label\n",
    "#     break"
   ]
  },
  {
   "cell_type": "code",
   "execution_count": 5,
   "metadata": {},
   "outputs": [
    {
     "name": "stdout",
     "output_type": "stream",
     "text": [
      "2259\n"
     ]
    }
   ],
   "source": [
    "print(len(score_2))"
   ]
  },
  {
   "cell_type": "markdown",
   "metadata": {},
   "source": [
    "score별 scale 비교하기"
   ]
  },
  {
   "cell_type": "code",
   "execution_count": 25,
   "metadata": {},
   "outputs": [],
   "source": [
    "bins = np.linspace(0, 200000, 10)"
   ]
  },
  {
   "cell_type": "code",
   "execution_count": 23,
   "metadata": {},
   "outputs": [
    {
     "data": {
      "text/plain": [
       "array([     0.,  50000., 100000., 150000., 200000.])"
      ]
     },
     "execution_count": 23,
     "metadata": {},
     "output_type": "execute_result"
    }
   ],
   "source": [
    "bins"
   ]
  },
  {
   "cell_type": "code",
   "execution_count": 26,
   "metadata": {},
   "outputs": [
    {
     "data": {
      "text/plain": [
       "<matplotlib.legend.Legend at 0x7f47e7217710>"
      ]
     },
     "execution_count": 26,
     "metadata": {},
     "output_type": "execute_result"
    },
    {
     "data": {
      "image/png": "[encoded data removed]",
      "text/plain": [
       "<Figure size 432x288 with 1 Axes>"
      ]
     },
     "metadata": {
      "needs_background": "light"
     },
     "output_type": "display_data"
    }
   ],
   "source": [
    "plt.hist(score_1, bins, alpha = 0.5, label='score_1')\n",
    "plt.hist(score_2, bins, alpha = 0.5, label='score_2')\n",
    "plt.hist(score_3, bins, alpha = 0.5, label='score_3')\n",
    "plt.hist(score_4, bins, alpha = 0.5, label='score_4')\n",
    "plt.hist(score_5, bins, alpha = 0.5, label='score_5')\n",
    "plt.hist(score_6, bins, alpha = 0.5, label='score_6')\n",
    "plt.hist(score_7, bins, alpha = 0.5, label='score_7')\n",
    "plt.hist(score_8, bins, alpha = 0.5, label='score_8')\n",
    "\n",
    "plt.legend(loc='upper right')"
   ]
  },
  {
   "cell_type": "code",
   "execution_count": 59,
   "metadata": {},
   "outputs": [],
   "source": [
    "score_df = pd.DataFrame()"
   ]
  },
  {
   "cell_type": "code",
   "execution_count": 60,
   "metadata": {},
   "outputs": [],
   "source": [
    "score_df['score'] = score_list\n",
    "score_df['label'] = label_list"
   ]
  },
  {
   "cell_type": "code",
   "execution_count": 93,
   "metadata": {},
   "outputs": [
    {
     "data": {
      "text/html": [
       "<div>\n",
       "<style scoped>\n",
       "    .dataframe tbody tr th:only-of-type {\n",
       "        vertical-align: middle;\n",
       "    }\n",
       "\n",
       "    .dataframe tbody tr th {\n",
       "        vertical-align: top;\n",
       "    }\n",
       "\n",
       "    .dataframe thead th {\n",
       "        text-align: right;\n",
       "    }\n",
       "</style>\n",
       "<table border=\"1\" class=\"dataframe\">\n",
       "  <thead>\n",
       "    <tr style=\"text-align: right;\">\n",
       "      <th></th>\n",
       "      <th>score</th>\n",
       "      <th>label</th>\n",
       "    </tr>\n",
       "  </thead>\n",
       "  <tbody>\n",
       "    <tr>\n",
       "      <th>0</th>\n",
       "      <td>2165.220199</td>\n",
       "      <td>1</td>\n",
       "    </tr>\n",
       "    <tr>\n",
       "      <th>1</th>\n",
       "      <td>1814.833857</td>\n",
       "      <td>1</td>\n",
       "    </tr>\n",
       "    <tr>\n",
       "      <th>2</th>\n",
       "      <td>1453.096906</td>\n",
       "      <td>1</td>\n",
       "    </tr>\n",
       "    <tr>\n",
       "      <th>3</th>\n",
       "      <td>1679.012313</td>\n",
       "      <td>1</td>\n",
       "    </tr>\n",
       "    <tr>\n",
       "      <th>4</th>\n",
       "      <td>1823.845920</td>\n",
       "      <td>1</td>\n",
       "    </tr>\n",
       "    <tr>\n",
       "      <th>...</th>\n",
       "      <td>...</td>\n",
       "      <td>...</td>\n",
       "    </tr>\n",
       "    <tr>\n",
       "      <th>18067</th>\n",
       "      <td>90523.539890</td>\n",
       "      <td>8</td>\n",
       "    </tr>\n",
       "    <tr>\n",
       "      <th>18068</th>\n",
       "      <td>100137.063618</td>\n",
       "      <td>8</td>\n",
       "    </tr>\n",
       "    <tr>\n",
       "      <th>18069</th>\n",
       "      <td>96760.502626</td>\n",
       "      <td>8</td>\n",
       "    </tr>\n",
       "    <tr>\n",
       "      <th>18070</th>\n",
       "      <td>136056.954858</td>\n",
       "      <td>8</td>\n",
       "    </tr>\n",
       "    <tr>\n",
       "      <th>18071</th>\n",
       "      <td>90305.339267</td>\n",
       "      <td>8</td>\n",
       "    </tr>\n",
       "  </tbody>\n",
       "</table>\n",
       "<p>18072 rows × 2 columns</p>\n",
       "</div>"
      ],
      "text/plain": [
       "               score  label\n",
       "0        2165.220199      1\n",
       "1        1814.833857      1\n",
       "2        1453.096906      1\n",
       "3        1679.012313      1\n",
       "4        1823.845920      1\n",
       "...              ...    ...\n",
       "18067   90523.539890      8\n",
       "18068  100137.063618      8\n",
       "18069   96760.502626      8\n",
       "18070  136056.954858      8\n",
       "18071   90305.339267      8\n",
       "\n",
       "[18072 rows x 2 columns]"
      ]
     },
     "execution_count": 93,
     "metadata": {},
     "output_type": "execute_result"
    }
   ],
   "source": [
    "score_df"
   ]
  },
  {
   "cell_type": "code",
   "execution_count": 99,
   "metadata": {},
   "outputs": [],
   "source": [
    "score_df['normal/abnormal'] = label*8"
   ]
  },
  {
   "cell_type": "code",
   "execution_count": 72,
   "metadata": {},
   "outputs": [
    {
     "data": {
      "text/plain": [
       "count    2259.000000\n",
       "mean     1185.668350\n",
       "std       754.477658\n",
       "min       552.960515\n",
       "25%       708.372461\n",
       "50%       877.079778\n",
       "75%      1447.857965\n",
       "max      8809.303986\n",
       "Name: score, dtype: float64"
      ]
     },
     "execution_count": 72,
     "metadata": {},
     "output_type": "execute_result"
    }
   ],
   "source": [
    "score_describe = score_df[score_df.label==1].describe()['score']\n",
    "score_describe"
   ]
  },
  {
   "cell_type": "code",
   "execution_count": 76,
   "metadata": {},
   "outputs": [
    {
     "data": {
      "text/plain": [
       "array([2259.        , 1185.66834991,  754.47765776,  552.96051508,\n",
       "        708.37246118,  877.079778  , 1447.85796483, 8809.30398553])"
      ]
     },
     "execution_count": 76,
     "metadata": {},
     "output_type": "execute_result"
    }
   ],
   "source": [
    "score_describe.values"
   ]
  },
  {
   "cell_type": "code",
   "execution_count": 110,
   "metadata": {},
   "outputs": [],
   "source": [
    "new_score_df = score_df[score_df['normal/abnormal']==1]"
   ]
  },
  {
   "cell_type": "code",
   "execution_count": 111,
   "metadata": {},
   "outputs": [
    {
     "data": {
      "text/plain": [
       "(880, 3)"
      ]
     },
     "execution_count": 111,
     "metadata": {},
     "output_type": "execute_result"
    }
   ],
   "source": [
    "new_score_df.shape"
   ]
  },
  {
   "cell_type": "code",
   "execution_count": 112,
   "metadata": {},
   "outputs": [],
   "source": [
    "describe_df = pd.DataFrame()\n",
    "for i in range(1,9):\n",
    "    describe_df[f'{i}'] = new_score_df[new_score_df.label==i].describe()['score'].values\n",
    "describe_df.index = list(score_describe.index)"
   ]
  },
  {
   "cell_type": "code",
   "execution_count": 113,
   "metadata": {},
   "outputs": [
    {
     "data": {
      "text/html": [
       "<div>\n",
       "<style scoped>\n",
       "    .dataframe tbody tr th:only-of-type {\n",
       "        vertical-align: middle;\n",
       "    }\n",
       "\n",
       "    .dataframe tbody tr th {\n",
       "        vertical-align: top;\n",
       "    }\n",
       "\n",
       "    .dataframe thead th {\n",
       "        text-align: right;\n",
       "    }\n",
       "</style>\n",
       "<table border=\"1\" class=\"dataframe\">\n",
       "  <thead>\n",
       "    <tr style=\"text-align: right;\">\n",
       "      <th></th>\n",
       "      <th>1</th>\n",
       "      <th>2</th>\n",
       "      <th>3</th>\n",
       "      <th>4</th>\n",
       "      <th>5</th>\n",
       "      <th>6</th>\n",
       "      <th>7</th>\n",
       "      <th>8</th>\n",
       "    </tr>\n",
       "  </thead>\n",
       "  <tbody>\n",
       "    <tr>\n",
       "      <th>count</th>\n",
       "      <td>110.000000</td>\n",
       "      <td>110.000000</td>\n",
       "      <td>110.000000</td>\n",
       "      <td>110.000000</td>\n",
       "      <td>110.000000</td>\n",
       "      <td>110.000000</td>\n",
       "      <td>110.000000</td>\n",
       "      <td>110.000000</td>\n",
       "    </tr>\n",
       "    <tr>\n",
       "      <th>mean</th>\n",
       "      <td>1849.200823</td>\n",
       "      <td>5342.377075</td>\n",
       "      <td>3946.017528</td>\n",
       "      <td>4780.298709</td>\n",
       "      <td>7518.083194</td>\n",
       "      <td>5617.492118</td>\n",
       "      <td>92473.023604</td>\n",
       "      <td>102167.929199</td>\n",
       "    </tr>\n",
       "    <tr>\n",
       "      <th>std</th>\n",
       "      <td>921.517731</td>\n",
       "      <td>2528.322745</td>\n",
       "      <td>2588.706938</td>\n",
       "      <td>2187.742417</td>\n",
       "      <td>7885.080039</td>\n",
       "      <td>1347.986741</td>\n",
       "      <td>29750.686680</td>\n",
       "      <td>21312.754810</td>\n",
       "    </tr>\n",
       "    <tr>\n",
       "      <th>min</th>\n",
       "      <td>1048.473602</td>\n",
       "      <td>3770.325766</td>\n",
       "      <td>2394.804833</td>\n",
       "      <td>2781.191304</td>\n",
       "      <td>3335.839738</td>\n",
       "      <td>4054.702676</td>\n",
       "      <td>64354.879016</td>\n",
       "      <td>71634.740066</td>\n",
       "    </tr>\n",
       "    <tr>\n",
       "      <th>25%</th>\n",
       "      <td>1428.079262</td>\n",
       "      <td>4391.468772</td>\n",
       "      <td>2833.360207</td>\n",
       "      <td>3470.937569</td>\n",
       "      <td>4640.266587</td>\n",
       "      <td>4913.638778</td>\n",
       "      <td>78360.536022</td>\n",
       "      <td>90180.301160</td>\n",
       "    </tr>\n",
       "    <tr>\n",
       "      <th>50%</th>\n",
       "      <td>1589.720622</td>\n",
       "      <td>4866.793362</td>\n",
       "      <td>3200.334381</td>\n",
       "      <td>4069.952751</td>\n",
       "      <td>5425.459002</td>\n",
       "      <td>5300.317289</td>\n",
       "      <td>86511.458941</td>\n",
       "      <td>97290.349272</td>\n",
       "    </tr>\n",
       "    <tr>\n",
       "      <th>75%</th>\n",
       "      <td>1905.495031</td>\n",
       "      <td>5463.137652</td>\n",
       "      <td>4044.065869</td>\n",
       "      <td>5093.054904</td>\n",
       "      <td>7207.713965</td>\n",
       "      <td>5861.471857</td>\n",
       "      <td>95582.638340</td>\n",
       "      <td>108054.185857</td>\n",
       "    </tr>\n",
       "    <tr>\n",
       "      <th>max</th>\n",
       "      <td>7695.721992</td>\n",
       "      <td>28609.787709</td>\n",
       "      <td>22906.512064</td>\n",
       "      <td>14211.041921</td>\n",
       "      <td>70068.589378</td>\n",
       "      <td>11796.060197</td>\n",
       "      <td>303661.399739</td>\n",
       "      <td>209362.967949</td>\n",
       "    </tr>\n",
       "  </tbody>\n",
       "</table>\n",
       "</div>"
      ],
      "text/plain": [
       "                 1             2             3             4             5  \\\n",
       "count   110.000000    110.000000    110.000000    110.000000    110.000000   \n",
       "mean   1849.200823   5342.377075   3946.017528   4780.298709   7518.083194   \n",
       "std     921.517731   2528.322745   2588.706938   2187.742417   7885.080039   \n",
       "min    1048.473602   3770.325766   2394.804833   2781.191304   3335.839738   \n",
       "25%    1428.079262   4391.468772   2833.360207   3470.937569   4640.266587   \n",
       "50%    1589.720622   4866.793362   3200.334381   4069.952751   5425.459002   \n",
       "75%    1905.495031   5463.137652   4044.065869   5093.054904   7207.713965   \n",
       "max    7695.721992  28609.787709  22906.512064  14211.041921  70068.589378   \n",
       "\n",
       "                  6              7              8  \n",
       "count    110.000000     110.000000     110.000000  \n",
       "mean    5617.492118   92473.023604  102167.929199  \n",
       "std     1347.986741   29750.686680   21312.754810  \n",
       "min     4054.702676   64354.879016   71634.740066  \n",
       "25%     4913.638778   78360.536022   90180.301160  \n",
       "50%     5300.317289   86511.458941   97290.349272  \n",
       "75%     5861.471857   95582.638340  108054.185857  \n",
       "max    11796.060197  303661.399739  209362.967949  "
      ]
     },
     "execution_count": 113,
     "metadata": {},
     "output_type": "execute_result"
    }
   ],
   "source": [
    "describe_df"
   ]
  },
  {
   "cell_type": "code",
   "execution_count": 82,
   "metadata": {},
   "outputs": [],
   "source": [
    "describe_df.to_csv(\"describe_df.csv\")"
   ]
  },
  {
   "cell_type": "code",
   "execution_count": 114,
   "metadata": {},
   "outputs": [
    {
     "data": {
      "image/png": "[encoded data removed]",
      "text/plain": [
       "<Figure size 1080x576 with 1 Axes>"
      ]
     },
     "metadata": {
      "needs_background": "light"
     },
     "output_type": "display_data"
    }
   ],
   "source": [
    "plt.figure(figsize=(15,8))\n",
    "\n",
    "sns.boxplot(x=\"label\", \n",
    "            y=\"score\", \n",
    "            data=new_score_df)\n",
    "plt.show()"
   ]
  },
  {
   "cell_type": "code",
   "execution_count": 83,
   "metadata": {},
   "outputs": [],
   "source": [
    "valid_1_score = np.load(\"save/ensemble model/2_22_efficientnet_b6/valid_model_1_anomaly_scores.npy\")"
   ]
  },
  {
   "cell_type": "code",
   "execution_count": 86,
   "metadata": {},
   "outputs": [],
   "source": [
    "data_mean, data_std = np.mean(valid_1_score), np.std(valid_1_score)"
   ]
  },
  {
   "cell_type": "code",
   "execution_count": 87,
   "metadata": {},
   "outputs": [
    {
     "name": "stdout",
     "output_type": "stream",
     "text": [
      "533.946081558301 215.2617800268823\n"
     ]
    }
   ],
   "source": [
    "print(data_mean, data_std)"
   ]
  },
  {
   "cell_type": "code",
   "execution_count": 88,
   "metadata": {},
   "outputs": [],
   "source": [
    "threshold = data_mean + data_std * 3"
   ]
  },
  {
   "cell_type": "code",
   "execution_count": 89,
   "metadata": {},
   "outputs": [
    {
     "name": "stdout",
     "output_type": "stream",
     "text": [
      "1179.7314216389477\n"
     ]
    }
   ],
   "source": [
    "print(threshold)"
   ]
  },
  {
   "cell_type": "markdown",
   "metadata": {},
   "source": [
    "# threshold 사용하여 개별 모델 정상/비정상 판단 \n",
    "threshold = mean + std*3 \n"
   ]
  },
  {
   "cell_type": "code",
   "execution_count": 37,
   "metadata": {},
   "outputs": [],
   "source": [
    "def set_model_threshold_from_validation(idx_, describe_df):\n",
    "    valid_score = np.load(f\"save/ensemble model/2_22_efficientnet_b6/valid_model_{idx_}_anomaly_scores.npy\")\n",
    "    data_mean, data_std = np.mean(valid_score), np.std(valid_score)\n",
    "    df = pd.DataFrame()\n",
    "    df['tmp'] = valid_score\n",
    "#     import pdb;pdb.set_trace()\n",
    "    describe_df[f'{i}'] = df.describe()['tmp'].values\n",
    "    threshold = data_mean + data_std * 3\n",
    "    return threshold, describe_df"
   ]
  },
  {
   "cell_type": "code",
   "execution_count": 38,
   "metadata": {},
   "outputs": [],
   "source": [
    "valid_threshold_list = []\n",
    "describe_df = pd.DataFrame()\n",
    "for i in range(1,9):\n",
    "    ths, result_df = set_model_threshold_from_validation(i, describe_df)\n",
    "    valid_threshold_list.append(ths)"
   ]
  },
  {
   "cell_type": "code",
   "execution_count": 39,
   "metadata": {},
   "outputs": [
    {
     "data": {
      "text/plain": [
       "[1179.7314216389477,\n",
       " 1406.7721632723114,\n",
       " 1295.994050424099,\n",
       " 4055.9382533217017,\n",
       " 4597.822626970714,\n",
       " 6252.74657852473,\n",
       " 54229.47207197828,\n",
       " 98838.91183752168]"
      ]
     },
     "execution_count": 39,
     "metadata": {},
     "output_type": "execute_result"
    }
   ],
   "source": [
    "valid_threshold_list"
   ]
  },
  {
   "cell_type": "code",
   "execution_count": 40,
   "metadata": {},
   "outputs": [
    {
     "data": {
      "text/html": [
       "<div>\n",
       "<style scoped>\n",
       "    .dataframe tbody tr th:only-of-type {\n",
       "        vertical-align: middle;\n",
       "    }\n",
       "\n",
       "    .dataframe tbody tr th {\n",
       "        vertical-align: top;\n",
       "    }\n",
       "\n",
       "    .dataframe thead th {\n",
       "        text-align: right;\n",
       "    }\n",
       "</style>\n",
       "<table border=\"1\" class=\"dataframe\">\n",
       "  <thead>\n",
       "    <tr style=\"text-align: right;\">\n",
       "      <th></th>\n",
       "      <th>1</th>\n",
       "      <th>2</th>\n",
       "      <th>3</th>\n",
       "      <th>4</th>\n",
       "      <th>5</th>\n",
       "      <th>6</th>\n",
       "      <th>7</th>\n",
       "      <th>8</th>\n",
       "    </tr>\n",
       "  </thead>\n",
       "  <tbody>\n",
       "    <tr>\n",
       "      <th>0</th>\n",
       "      <td>2717.000000</td>\n",
       "      <td>696.000000</td>\n",
       "      <td>339.000000</td>\n",
       "      <td>227.000000</td>\n",
       "      <td>123.000000</td>\n",
       "      <td>118.000000</td>\n",
       "      <td>41.000000</td>\n",
       "      <td>29.000000</td>\n",
       "    </tr>\n",
       "    <tr>\n",
       "      <th>1</th>\n",
       "      <td>533.946082</td>\n",
       "      <td>691.862358</td>\n",
       "      <td>706.679760</td>\n",
       "      <td>1025.982333</td>\n",
       "      <td>1825.724469</td>\n",
       "      <td>3038.875711</td>\n",
       "      <td>36923.929793</td>\n",
       "      <td>58768.444363</td>\n",
       "    </tr>\n",
       "    <tr>\n",
       "      <th>2</th>\n",
       "      <td>215.301405</td>\n",
       "      <td>238.474648</td>\n",
       "      <td>196.728471</td>\n",
       "      <td>1012.217321</td>\n",
       "      <td>927.812010</td>\n",
       "      <td>1075.858712</td>\n",
       "      <td>5840.175401</td>\n",
       "      <td>13593.244784</td>\n",
       "    </tr>\n",
       "    <tr>\n",
       "      <th>3</th>\n",
       "      <td>325.585190</td>\n",
       "      <td>405.435983</td>\n",
       "      <td>455.088365</td>\n",
       "      <td>580.876747</td>\n",
       "      <td>1224.204041</td>\n",
       "      <td>1608.459341</td>\n",
       "      <td>29147.037296</td>\n",
       "      <td>45313.674951</td>\n",
       "    </tr>\n",
       "    <tr>\n",
       "      <th>4</th>\n",
       "      <td>434.637973</td>\n",
       "      <td>536.083598</td>\n",
       "      <td>574.446728</td>\n",
       "      <td>727.176116</td>\n",
       "      <td>1409.459255</td>\n",
       "      <td>2250.095480</td>\n",
       "      <td>33337.711760</td>\n",
       "      <td>48678.665671</td>\n",
       "    </tr>\n",
       "  </tbody>\n",
       "</table>\n",
       "</div>"
      ],
      "text/plain": [
       "             1           2           3            4            5            6  \\\n",
       "0  2717.000000  696.000000  339.000000   227.000000   123.000000   118.000000   \n",
       "1   533.946082  691.862358  706.679760  1025.982333  1825.724469  3038.875711   \n",
       "2   215.301405  238.474648  196.728471  1012.217321   927.812010  1075.858712   \n",
       "3   325.585190  405.435983  455.088365   580.876747  1224.204041  1608.459341   \n",
       "4   434.637973  536.083598  574.446728   727.176116  1409.459255  2250.095480   \n",
       "\n",
       "              7             8  \n",
       "0     41.000000     29.000000  \n",
       "1  36923.929793  58768.444363  \n",
       "2   5840.175401  13593.244784  \n",
       "3  29147.037296  45313.674951  \n",
       "4  33337.711760  48678.665671  "
      ]
     },
     "execution_count": 40,
     "metadata": {},
     "output_type": "execute_result"
    }
   ],
   "source": [
    "describe_df.head()"
   ]
  },
  {
   "cell_type": "code",
   "execution_count": 198,
   "metadata": {},
   "outputs": [],
   "source": [
    "result_df.index = ['count', 'mean', 'std', 'min', '25%', '50%', '75%', 'max']"
   ]
  },
  {
   "cell_type": "code",
   "execution_count": 199,
   "metadata": {},
   "outputs": [
    {
     "data": {
      "text/html": [
       "<div>\n",
       "<style scoped>\n",
       "    .dataframe tbody tr th:only-of-type {\n",
       "        vertical-align: middle;\n",
       "    }\n",
       "\n",
       "    .dataframe tbody tr th {\n",
       "        vertical-align: top;\n",
       "    }\n",
       "\n",
       "    .dataframe thead th {\n",
       "        text-align: right;\n",
       "    }\n",
       "</style>\n",
       "<table border=\"1\" class=\"dataframe\">\n",
       "  <thead>\n",
       "    <tr style=\"text-align: right;\">\n",
       "      <th></th>\n",
       "      <th>1</th>\n",
       "      <th>2</th>\n",
       "      <th>3</th>\n",
       "      <th>4</th>\n",
       "      <th>5</th>\n",
       "      <th>6</th>\n",
       "      <th>7</th>\n",
       "      <th>8</th>\n",
       "    </tr>\n",
       "  </thead>\n",
       "  <tbody>\n",
       "    <tr>\n",
       "      <th>count</th>\n",
       "      <td>2717.000000</td>\n",
       "      <td>696.000000</td>\n",
       "      <td>339.000000</td>\n",
       "      <td>227.000000</td>\n",
       "      <td>123.000000</td>\n",
       "      <td>118.000000</td>\n",
       "      <td>41.000000</td>\n",
       "      <td>29.000000</td>\n",
       "    </tr>\n",
       "    <tr>\n",
       "      <th>mean</th>\n",
       "      <td>533.946082</td>\n",
       "      <td>691.862358</td>\n",
       "      <td>706.679760</td>\n",
       "      <td>1025.982333</td>\n",
       "      <td>1825.724469</td>\n",
       "      <td>3038.875711</td>\n",
       "      <td>36923.929793</td>\n",
       "      <td>58768.444363</td>\n",
       "    </tr>\n",
       "    <tr>\n",
       "      <th>std</th>\n",
       "      <td>215.301405</td>\n",
       "      <td>238.474648</td>\n",
       "      <td>196.728471</td>\n",
       "      <td>1012.217321</td>\n",
       "      <td>927.812010</td>\n",
       "      <td>1075.858712</td>\n",
       "      <td>5840.175401</td>\n",
       "      <td>13593.244784</td>\n",
       "    </tr>\n",
       "    <tr>\n",
       "      <th>min</th>\n",
       "      <td>325.585190</td>\n",
       "      <td>405.435983</td>\n",
       "      <td>455.088365</td>\n",
       "      <td>580.876747</td>\n",
       "      <td>1224.204041</td>\n",
       "      <td>1608.459341</td>\n",
       "      <td>29147.037296</td>\n",
       "      <td>45313.674951</td>\n",
       "    </tr>\n",
       "    <tr>\n",
       "      <th>25%</th>\n",
       "      <td>434.637973</td>\n",
       "      <td>536.083598</td>\n",
       "      <td>574.446728</td>\n",
       "      <td>727.176116</td>\n",
       "      <td>1409.459255</td>\n",
       "      <td>2250.095480</td>\n",
       "      <td>33337.711760</td>\n",
       "      <td>48678.665671</td>\n",
       "    </tr>\n",
       "    <tr>\n",
       "      <th>50%</th>\n",
       "      <td>480.533693</td>\n",
       "      <td>625.543918</td>\n",
       "      <td>654.109881</td>\n",
       "      <td>809.753522</td>\n",
       "      <td>1677.114344</td>\n",
       "      <td>2706.576498</td>\n",
       "      <td>34455.239652</td>\n",
       "      <td>55908.662598</td>\n",
       "    </tr>\n",
       "    <tr>\n",
       "      <th>75%</th>\n",
       "      <td>562.621108</td>\n",
       "      <td>779.683941</td>\n",
       "      <td>776.411167</td>\n",
       "      <td>998.876383</td>\n",
       "      <td>1890.033215</td>\n",
       "      <td>3655.824147</td>\n",
       "      <td>39633.665291</td>\n",
       "      <td>64260.185743</td>\n",
       "    </tr>\n",
       "    <tr>\n",
       "      <th>max</th>\n",
       "      <td>5625.309465</td>\n",
       "      <td>2219.691361</td>\n",
       "      <td>1909.947405</td>\n",
       "      <td>13563.745169</td>\n",
       "      <td>9934.738661</td>\n",
       "      <td>6384.145713</td>\n",
       "      <td>60970.110537</td>\n",
       "      <td>102327.382669</td>\n",
       "    </tr>\n",
       "  </tbody>\n",
       "</table>\n",
       "</div>"
      ],
      "text/plain": [
       "                 1            2            3             4            5  \\\n",
       "count  2717.000000   696.000000   339.000000    227.000000   123.000000   \n",
       "mean    533.946082   691.862358   706.679760   1025.982333  1825.724469   \n",
       "std     215.301405   238.474648   196.728471   1012.217321   927.812010   \n",
       "min     325.585190   405.435983   455.088365    580.876747  1224.204041   \n",
       "25%     434.637973   536.083598   574.446728    727.176116  1409.459255   \n",
       "50%     480.533693   625.543918   654.109881    809.753522  1677.114344   \n",
       "75%     562.621108   779.683941   776.411167    998.876383  1890.033215   \n",
       "max    5625.309465  2219.691361  1909.947405  13563.745169  9934.738661   \n",
       "\n",
       "                 6             7              8  \n",
       "count   118.000000     41.000000      29.000000  \n",
       "mean   3038.875711  36923.929793   58768.444363  \n",
       "std    1075.858712   5840.175401   13593.244784  \n",
       "min    1608.459341  29147.037296   45313.674951  \n",
       "25%    2250.095480  33337.711760   48678.665671  \n",
       "50%    2706.576498  34455.239652   55908.662598  \n",
       "75%    3655.824147  39633.665291   64260.185743  \n",
       "max    6384.145713  60970.110537  102327.382669  "
      ]
     },
     "execution_count": 199,
     "metadata": {},
     "output_type": "execute_result"
    }
   ],
   "source": [
    "result_df"
   ]
  },
  {
   "cell_type": "markdown",
   "metadata": {},
   "source": [
    "test 단계에서의 개별 모델 score 불러오고 해당하는 threshold로 정상/비정상 판단하기 "
   ]
  },
  {
   "cell_type": "code",
   "execution_count": 125,
   "metadata": {},
   "outputs": [],
   "source": [
    "def detect_anomaly(idx_, threshold_list):\n",
    "    ano_score = np.load(f\"save/ensemble model/2_15_efficientnet_b6/model_{idx_}_anomaly_scores.npy\")\n",
    "    threshold = threshold_list[idx_-1]\n",
    "    detection_list = [1 if sc > threshold else 0 for sc in ano_score]\n",
    "    return detection_list "
   ]
  },
  {
   "cell_type": "code",
   "execution_count": 129,
   "metadata": {},
   "outputs": [],
   "source": [
    "detection_df = pd.DataFrame()"
   ]
  },
  {
   "cell_type": "code",
   "execution_count": 130,
   "metadata": {},
   "outputs": [],
   "source": [
    "for i in range(1,9):\n",
    "    det_result = detect_anomaly(i, valid_threshold_list)\n",
    "    detection_df[f'{i}'] = det_result"
   ]
  },
  {
   "cell_type": "code",
   "execution_count": 131,
   "metadata": {},
   "outputs": [
    {
     "data": {
      "text/html": [
       "<div>\n",
       "<style scoped>\n",
       "    .dataframe tbody tr th:only-of-type {\n",
       "        vertical-align: middle;\n",
       "    }\n",
       "\n",
       "    .dataframe tbody tr th {\n",
       "        vertical-align: top;\n",
       "    }\n",
       "\n",
       "    .dataframe thead th {\n",
       "        text-align: right;\n",
       "    }\n",
       "</style>\n",
       "<table border=\"1\" class=\"dataframe\">\n",
       "  <thead>\n",
       "    <tr style=\"text-align: right;\">\n",
       "      <th></th>\n",
       "      <th>1</th>\n",
       "      <th>2</th>\n",
       "      <th>3</th>\n",
       "      <th>4</th>\n",
       "      <th>5</th>\n",
       "      <th>6</th>\n",
       "      <th>7</th>\n",
       "      <th>8</th>\n",
       "    </tr>\n",
       "  </thead>\n",
       "  <tbody>\n",
       "    <tr>\n",
       "      <th>0</th>\n",
       "      <td>1</td>\n",
       "      <td>1</td>\n",
       "      <td>1</td>\n",
       "      <td>1</td>\n",
       "      <td>1</td>\n",
       "      <td>0</td>\n",
       "      <td>1</td>\n",
       "      <td>0</td>\n",
       "    </tr>\n",
       "    <tr>\n",
       "      <th>1</th>\n",
       "      <td>1</td>\n",
       "      <td>1</td>\n",
       "      <td>1</td>\n",
       "      <td>1</td>\n",
       "      <td>1</td>\n",
       "      <td>0</td>\n",
       "      <td>1</td>\n",
       "      <td>0</td>\n",
       "    </tr>\n",
       "    <tr>\n",
       "      <th>2</th>\n",
       "      <td>1</td>\n",
       "      <td>1</td>\n",
       "      <td>1</td>\n",
       "      <td>1</td>\n",
       "      <td>1</td>\n",
       "      <td>0</td>\n",
       "      <td>1</td>\n",
       "      <td>0</td>\n",
       "    </tr>\n",
       "    <tr>\n",
       "      <th>3</th>\n",
       "      <td>1</td>\n",
       "      <td>1</td>\n",
       "      <td>1</td>\n",
       "      <td>0</td>\n",
       "      <td>1</td>\n",
       "      <td>0</td>\n",
       "      <td>1</td>\n",
       "      <td>0</td>\n",
       "    </tr>\n",
       "    <tr>\n",
       "      <th>4</th>\n",
       "      <td>1</td>\n",
       "      <td>1</td>\n",
       "      <td>1</td>\n",
       "      <td>1</td>\n",
       "      <td>1</td>\n",
       "      <td>0</td>\n",
       "      <td>1</td>\n",
       "      <td>0</td>\n",
       "    </tr>\n",
       "    <tr>\n",
       "      <th>...</th>\n",
       "      <td>...</td>\n",
       "      <td>...</td>\n",
       "      <td>...</td>\n",
       "      <td>...</td>\n",
       "      <td>...</td>\n",
       "      <td>...</td>\n",
       "      <td>...</td>\n",
       "      <td>...</td>\n",
       "    </tr>\n",
       "    <tr>\n",
       "      <th>2254</th>\n",
       "      <td>1</td>\n",
       "      <td>1</td>\n",
       "      <td>1</td>\n",
       "      <td>0</td>\n",
       "      <td>1</td>\n",
       "      <td>0</td>\n",
       "      <td>1</td>\n",
       "      <td>0</td>\n",
       "    </tr>\n",
       "    <tr>\n",
       "      <th>2255</th>\n",
       "      <td>1</td>\n",
       "      <td>1</td>\n",
       "      <td>1</td>\n",
       "      <td>0</td>\n",
       "      <td>0</td>\n",
       "      <td>0</td>\n",
       "      <td>1</td>\n",
       "      <td>1</td>\n",
       "    </tr>\n",
       "    <tr>\n",
       "      <th>2256</th>\n",
       "      <td>1</td>\n",
       "      <td>1</td>\n",
       "      <td>1</td>\n",
       "      <td>0</td>\n",
       "      <td>0</td>\n",
       "      <td>0</td>\n",
       "      <td>1</td>\n",
       "      <td>0</td>\n",
       "    </tr>\n",
       "    <tr>\n",
       "      <th>2257</th>\n",
       "      <td>1</td>\n",
       "      <td>1</td>\n",
       "      <td>1</td>\n",
       "      <td>1</td>\n",
       "      <td>1</td>\n",
       "      <td>1</td>\n",
       "      <td>1</td>\n",
       "      <td>1</td>\n",
       "    </tr>\n",
       "    <tr>\n",
       "      <th>2258</th>\n",
       "      <td>0</td>\n",
       "      <td>1</td>\n",
       "      <td>1</td>\n",
       "      <td>0</td>\n",
       "      <td>0</td>\n",
       "      <td>0</td>\n",
       "      <td>1</td>\n",
       "      <td>0</td>\n",
       "    </tr>\n",
       "  </tbody>\n",
       "</table>\n",
       "<p>2259 rows × 8 columns</p>\n",
       "</div>"
      ],
      "text/plain": [
       "      1  2  3  4  5  6  7  8\n",
       "0     1  1  1  1  1  0  1  0\n",
       "1     1  1  1  1  1  0  1  0\n",
       "2     1  1  1  1  1  0  1  0\n",
       "3     1  1  1  0  1  0  1  0\n",
       "4     1  1  1  1  1  0  1  0\n",
       "...  .. .. .. .. .. .. .. ..\n",
       "2254  1  1  1  0  1  0  1  0\n",
       "2255  1  1  1  0  0  0  1  1\n",
       "2256  1  1  1  0  0  0  1  0\n",
       "2257  1  1  1  1  1  1  1  1\n",
       "2258  0  1  1  0  0  0  1  0\n",
       "\n",
       "[2259 rows x 8 columns]"
      ]
     },
     "execution_count": 131,
     "metadata": {},
     "output_type": "execute_result"
    }
   ],
   "source": [
    "detection_df"
   ]
  },
  {
   "cell_type": "code",
   "execution_count": 204,
   "metadata": {},
   "outputs": [],
   "source": [
    "final_det = detection_df.sum(axis=1).apply(lambda x: 1 if x > 5 else 0).values"
   ]
  },
  {
   "cell_type": "code",
   "execution_count": 157,
   "metadata": {},
   "outputs": [
    {
     "data": {
      "text/plain": [
       "(array([0, 1]), array([2128,  131]))"
      ]
     },
     "execution_count": 157,
     "metadata": {},
     "output_type": "execute_result"
    }
   ],
   "source": [
    "np.unique(final_det, return_counts=True)"
   ]
  },
  {
   "cell_type": "code",
   "execution_count": 205,
   "metadata": {},
   "outputs": [
    {
     "name": "stdout",
     "output_type": "stream",
     "text": [
      "accuracy score: 0.6786188579017264\n",
      "recall: 0.6272727272727273\n",
      "preicision: 0.09151193633952255\n"
     ]
    }
   ],
   "source": [
    "print(\"accuracy score: {}\" .format(accuracy_score(label, final_det)))\n",
    "print(\"recall: {}\" .format(recall_score (label, final_det)))\n",
    "print(\"preicision: {}\" .format(precision_score(label, final_det)))"
   ]
  },
  {
   "cell_type": "code",
   "execution_count": 168,
   "metadata": {},
   "outputs": [
    {
     "data": {
      "text/plain": [
       "(array([0, 1]), array([2149,  110]))"
      ]
     },
     "execution_count": 168,
     "metadata": {},
     "output_type": "execute_result"
    }
   ],
   "source": [
    "np.unique(label, return_counts=True)"
   ]
  },
  {
   "cell_type": "markdown",
   "metadata": {},
   "source": [
    "# z score로 변환 후 minium 채택 \n",
    "z = (x-mean) / std"
   ]
  },
  {
   "cell_type": "code",
   "execution_count": 41,
   "metadata": {},
   "outputs": [],
   "source": [
    "def set_model_threshold_from_validation(idx_, describe_df):\n",
    "    valid_score = np.load(f\"save/ensemble model/2_22_efficientnet_b6/valid_model_{idx_}_anomaly_scores.npy\")\n",
    "    data_mean, data_std = np.mean(valid_score), np.std(valid_score)\n",
    "    df = pd.DataFrame()\n",
    "    df['tmp'] = valid_score\n",
    "#     import pdb;pdb.set_trace()\n",
    "    describe_df[f'{i}'] = df.describe()['tmp'].values\n",
    "    \n",
    "    return data_mean, data_std, describe_df"
   ]
  },
  {
   "cell_type": "code",
   "execution_count": 42,
   "metadata": {},
   "outputs": [],
   "source": [
    "mean_list = []\n",
    "std_list = []\n",
    "describe_df = pd.DataFrame()\n",
    "for i in range(1,9):\n",
    "    mean, std, result_df = set_model_threshold_from_validation(i, describe_df)\n",
    "    mean_list.append(mean)\n",
    "    std_list.append(std)"
   ]
  },
  {
   "cell_type": "code",
   "execution_count": 43,
   "metadata": {},
   "outputs": [
    {
     "data": {
      "text/plain": [
       "[533.946081558301,\n",
       " 691.86235790172,\n",
       " 706.6797604207337,\n",
       " 1025.9823334545117,\n",
       " 1825.7244688972144,\n",
       " 3038.8757111187692,\n",
       " 36923.92979251926,\n",
       " 58768.44436266149]"
      ]
     },
     "execution_count": 43,
     "metadata": {},
     "output_type": "execute_result"
    }
   ],
   "source": [
    "mean_list"
   ]
  },
  {
   "cell_type": "code",
   "execution_count": 44,
   "metadata": {},
   "outputs": [
    {
     "data": {
      "text/plain": [
       "[215.2617800268823,\n",
       " 238.3032684568638,\n",
       " 196.43809666778847,\n",
       " 1009.9853066223967,\n",
       " 924.0327193578332,\n",
       " 1071.2902891353199,\n",
       " 5768.514093153006,\n",
       " 13356.822491620062]"
      ]
     },
     "execution_count": 44,
     "metadata": {},
     "output_type": "execute_result"
    }
   ],
   "source": [
    "std_list"
   ]
  },
  {
   "cell_type": "code",
   "execution_count": 47,
   "metadata": {},
   "outputs": [],
   "source": [
    "z_score_dict = {}\n",
    "for i in range(1,9):\n",
    "    z_score = (score_dict[f'{i}'] - mean_list[i-1]) / std_list[i-1]\n",
    "    z_score_dict[f'{i}'] = z_score"
   ]
  },
  {
   "cell_type": "code",
   "execution_count": 48,
   "metadata": {},
   "outputs": [
    {
     "data": {
      "text/plain": [
       "array([7.57809453, 5.9503725 , 4.26992114, ..., 3.99423119, 3.90202856,\n",
       "       2.83331506])"
      ]
     },
     "execution_count": 48,
     "metadata": {},
     "output_type": "execute_result"
    }
   ],
   "source": [
    "z_score_dict['1']"
   ]
  },
  {
   "cell_type": "code",
   "execution_count": 49,
   "metadata": {},
   "outputs": [
    {
     "data": {
      "text/plain": [
       "array([17.14596203, 20.98781496, 17.766829  , ..., 14.19920821,\n",
       "       24.5735742 , 15.15707872])"
      ]
     },
     "execution_count": 49,
     "metadata": {},
     "output_type": "execute_result"
    }
   ],
   "source": [
    "z_score_dict['2']"
   ]
  },
  {
   "cell_type": "code",
   "execution_count": 50,
   "metadata": {},
   "outputs": [
    {
     "data": {
      "text/plain": [
       "array([2165.22019884, 1814.83385735, 1453.09690566, ..., 1393.75139743,\n",
       "       1373.90369554, 1143.85052485])"
      ]
     },
     "execution_count": 50,
     "metadata": {},
     "output_type": "execute_result"
    }
   ],
   "source": [
    "score_dict['1']"
   ]
  },
  {
   "cell_type": "code",
   "execution_count": 53,
   "metadata": {},
   "outputs": [],
   "source": [
    "z_df = pd.DataFrame()\n",
    "for i in range(1,9):\n",
    "    z_df[f'{i}'] = z_score_dict[f'{i}']\n",
    "    "
   ]
  },
  {
   "cell_type": "code",
   "execution_count": 54,
   "metadata": {},
   "outputs": [
    {
     "data": {
      "text/html": [
       "<div>\n",
       "<style scoped>\n",
       "    .dataframe tbody tr th:only-of-type {\n",
       "        vertical-align: middle;\n",
       "    }\n",
       "\n",
       "    .dataframe tbody tr th {\n",
       "        vertical-align: top;\n",
       "    }\n",
       "\n",
       "    .dataframe thead th {\n",
       "        text-align: right;\n",
       "    }\n",
       "</style>\n",
       "<table border=\"1\" class=\"dataframe\">\n",
       "  <thead>\n",
       "    <tr style=\"text-align: right;\">\n",
       "      <th></th>\n",
       "      <th>1</th>\n",
       "      <th>2</th>\n",
       "      <th>3</th>\n",
       "      <th>4</th>\n",
       "      <th>5</th>\n",
       "      <th>6</th>\n",
       "      <th>7</th>\n",
       "      <th>8</th>\n",
       "    </tr>\n",
       "  </thead>\n",
       "  <tbody>\n",
       "    <tr>\n",
       "      <th>0</th>\n",
       "      <td>7.578095</td>\n",
       "      <td>17.145962</td>\n",
       "      <td>19.804504</td>\n",
       "      <td>4.531679</td>\n",
       "      <td>17.597238</td>\n",
       "      <td>1.517319</td>\n",
       "      <td>6.609346</td>\n",
       "      <td>2.253562</td>\n",
       "    </tr>\n",
       "    <tr>\n",
       "      <th>1</th>\n",
       "      <td>5.950372</td>\n",
       "      <td>20.987815</td>\n",
       "      <td>13.384230</td>\n",
       "      <td>4.519331</td>\n",
       "      <td>8.059459</td>\n",
       "      <td>2.624388</td>\n",
       "      <td>5.255909</td>\n",
       "      <td>2.289068</td>\n",
       "    </tr>\n",
       "    <tr>\n",
       "      <th>2</th>\n",
       "      <td>4.269921</td>\n",
       "      <td>17.766829</td>\n",
       "      <td>21.318567</td>\n",
       "      <td>6.478752</td>\n",
       "      <td>8.982582</td>\n",
       "      <td>2.174311</td>\n",
       "      <td>6.255708</td>\n",
       "      <td>1.124774</td>\n",
       "    </tr>\n",
       "    <tr>\n",
       "      <th>3</th>\n",
       "      <td>5.319413</td>\n",
       "      <td>18.049966</td>\n",
       "      <td>8.858965</td>\n",
       "      <td>1.745794</td>\n",
       "      <td>4.446837</td>\n",
       "      <td>0.982276</td>\n",
       "      <td>5.221717</td>\n",
       "      <td>1.299545</td>\n",
       "    </tr>\n",
       "    <tr>\n",
       "      <th>4</th>\n",
       "      <td>5.992238</td>\n",
       "      <td>22.322690</td>\n",
       "      <td>12.749560</td>\n",
       "      <td>3.846975</td>\n",
       "      <td>6.473625</td>\n",
       "      <td>2.568182</td>\n",
       "      <td>5.552406</td>\n",
       "      <td>2.012403</td>\n",
       "    </tr>\n",
       "    <tr>\n",
       "      <th>...</th>\n",
       "      <td>...</td>\n",
       "      <td>...</td>\n",
       "      <td>...</td>\n",
       "      <td>...</td>\n",
       "      <td>...</td>\n",
       "      <td>...</td>\n",
       "      <td>...</td>\n",
       "      <td>...</td>\n",
       "    </tr>\n",
       "    <tr>\n",
       "      <th>2254</th>\n",
       "      <td>4.670319</td>\n",
       "      <td>14.812336</td>\n",
       "      <td>10.016758</td>\n",
       "      <td>2.142798</td>\n",
       "      <td>3.849301</td>\n",
       "      <td>1.882108</td>\n",
       "      <td>9.057472</td>\n",
       "      <td>2.377444</td>\n",
       "    </tr>\n",
       "    <tr>\n",
       "      <th>2255</th>\n",
       "      <td>4.376173</td>\n",
       "      <td>19.152142</td>\n",
       "      <td>13.141051</td>\n",
       "      <td>2.661041</td>\n",
       "      <td>2.323535</td>\n",
       "      <td>2.030513</td>\n",
       "      <td>6.823525</td>\n",
       "      <td>3.097190</td>\n",
       "    </tr>\n",
       "    <tr>\n",
       "      <th>2256</th>\n",
       "      <td>3.994231</td>\n",
       "      <td>14.199208</td>\n",
       "      <td>9.654590</td>\n",
       "      <td>1.737856</td>\n",
       "      <td>2.695675</td>\n",
       "      <td>1.208615</td>\n",
       "      <td>8.209082</td>\n",
       "      <td>2.844393</td>\n",
       "    </tr>\n",
       "    <tr>\n",
       "      <th>2257</th>\n",
       "      <td>3.902029</td>\n",
       "      <td>24.573574</td>\n",
       "      <td>26.615966</td>\n",
       "      <td>5.763558</td>\n",
       "      <td>8.914620</td>\n",
       "      <td>3.092139</td>\n",
       "      <td>12.899155</td>\n",
       "      <td>5.786444</td>\n",
       "    </tr>\n",
       "    <tr>\n",
       "      <th>2258</th>\n",
       "      <td>2.833315</td>\n",
       "      <td>15.157079</td>\n",
       "      <td>9.202388</td>\n",
       "      <td>1.894618</td>\n",
       "      <td>1.634266</td>\n",
       "      <td>1.340162</td>\n",
       "      <td>8.234644</td>\n",
       "      <td>2.361108</td>\n",
       "    </tr>\n",
       "  </tbody>\n",
       "</table>\n",
       "<p>2259 rows × 8 columns</p>\n",
       "</div>"
      ],
      "text/plain": [
       "             1          2          3         4          5         6  \\\n",
       "0     7.578095  17.145962  19.804504  4.531679  17.597238  1.517319   \n",
       "1     5.950372  20.987815  13.384230  4.519331   8.059459  2.624388   \n",
       "2     4.269921  17.766829  21.318567  6.478752   8.982582  2.174311   \n",
       "3     5.319413  18.049966   8.858965  1.745794   4.446837  0.982276   \n",
       "4     5.992238  22.322690  12.749560  3.846975   6.473625  2.568182   \n",
       "...        ...        ...        ...       ...        ...       ...   \n",
       "2254  4.670319  14.812336  10.016758  2.142798   3.849301  1.882108   \n",
       "2255  4.376173  19.152142  13.141051  2.661041   2.323535  2.030513   \n",
       "2256  3.994231  14.199208   9.654590  1.737856   2.695675  1.208615   \n",
       "2257  3.902029  24.573574  26.615966  5.763558   8.914620  3.092139   \n",
       "2258  2.833315  15.157079   9.202388  1.894618   1.634266  1.340162   \n",
       "\n",
       "              7         8  \n",
       "0      6.609346  2.253562  \n",
       "1      5.255909  2.289068  \n",
       "2      6.255708  1.124774  \n",
       "3      5.221717  1.299545  \n",
       "4      5.552406  2.012403  \n",
       "...         ...       ...  \n",
       "2254   9.057472  2.377444  \n",
       "2255   6.823525  3.097190  \n",
       "2256   8.209082  2.844393  \n",
       "2257  12.899155  5.786444  \n",
       "2258   8.234644  2.361108  \n",
       "\n",
       "[2259 rows x 8 columns]"
      ]
     },
     "execution_count": 54,
     "metadata": {},
     "output_type": "execute_result"
    }
   ],
   "source": [
    "z_df"
   ]
  },
  {
   "cell_type": "code",
   "execution_count": 57,
   "metadata": {},
   "outputs": [],
   "source": [
    "z_df_min = z_df.min(axis=1).values"
   ]
  },
  {
   "cell_type": "code",
   "execution_count": 58,
   "metadata": {},
   "outputs": [
    {
     "data": {
      "text/plain": [
       "array([1.51731866, 2.28906825, 1.12477416, ..., 1.20861468, 3.09213864,\n",
       "       1.34016171])"
      ]
     },
     "execution_count": 58,
     "metadata": {},
     "output_type": "execute_result"
    }
   ],
   "source": [
    "z_df_min"
   ]
  },
  {
   "cell_type": "code",
   "execution_count": 60,
   "metadata": {},
   "outputs": [],
   "source": [
    "with open(\"eight ensemble z_score.pickle\", \"wb\") as f:\n",
    "    pickle.dump(z_df_min, f)"
   ]
  },
  {
   "cell_type": "code",
   "execution_count": 52,
   "metadata": {},
   "outputs": [
    {
     "data": {
      "text/plain": [
       "array([7.57809453, 5.9503725 , 4.26992114, ..., 3.99423119, 3.90202856,\n",
       "       2.83331506])"
      ]
     },
     "execution_count": 52,
     "metadata": {},
     "output_type": "execute_result"
    }
   ],
   "source": [
    "z_score_dict['1']"
   ]
  }
 ],
 "metadata": {
  "kernelspec": {
   "display_name": "Python 3",
   "language": "python",
   "name": "python3"
  },
  "language_info": {
   "codemirror_mode": {
    "name": "ipython",
    "version": 3
   },
   "file_extension": ".py",
   "mimetype": "text/x-python",
   "name": "python",
   "nbconvert_exporter": "python",
   "pygments_lexer": "ipython3",
   "version": "3.6.9"
  }
 },
 "nbformat": 4,
 "nbformat_minor": 4
}
